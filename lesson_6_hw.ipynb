{
 "cells": [
  {
   "cell_type": "markdown",
   "metadata": {},
   "source": [
    "# Машинное обучение в бизнесе"
   ]
  },
  {
   "cell_type": "markdown",
   "metadata": {},
   "source": [
    "### Урок 6. #Задача lookalike (Positive Unlabeled Learning)#"
   ]
  },
  {
   "cell_type": "markdown",
   "metadata": {},
   "source": [
    "__Домашнее задание__\n",
    "\n",
    "1. взять любой набор данных для бинарной классификации (можно скачать один из модельных с https://archive.ics.uci.edu/ml/datasets.php)\n",
    "2. сделать feature engineering\n",
    "3. обучить любой классификатор (какой вам нравится)\n",
    "4. далее разделить ваш набор данных на два множества: P (positives) и U (unlabeled). Причем брать нужно не все положительные (класс 1) примеры, а только лишь часть\n",
    "5. применить random negative sampling для построения классификатора в новых условиях\n",
    "6. сравнить качество с решением из пункта 4 (построить отчет - таблицу метрик)\n",
    "7. поэкспериментировать с долей P на шаге 5 (как будет меняться качество модели при уменьшении/увеличении размера P)"
   ]
  },
  {
   "cell_type": "markdown",
   "metadata": {},
   "source": [
    "Выполнил ___Соковнин ИЛ___"
   ]
  },
  {
   "cell_type": "markdown",
   "metadata": {},
   "source": [
    "# <center> Практическое задание </center>"
   ]
  },
  {
   "cell_type": "markdown",
   "metadata": {},
   "source": [
    "# 1. Задание"
   ]
  },
  {
   "cell_type": "markdown",
   "metadata": {},
   "source": [
    "взять любой набор данных для бинарной классификации (можно скачать один из модельных с https://archive.ics.uci.edu/ml/datasets.php)"
   ]
  },
  {
   "cell_type": "markdown",
   "metadata": {},
   "source": [
    "### UCI Machine Learning Repository \n",
    " (Center for Machine Learning and Intelligent Systems)"
   ]
  },
  {
   "cell_type": "markdown",
   "metadata": {},
   "source": [
    " __Data Set__:<br>\n",
    " \n",
    " ___in-vehicle coupon recommendation Data Set___<br>\n",
    " https://archive.ics.uci.edu/ml/datasets/in-vehicle+coupon+recommendation<br>\n",
    " https://archive.ics.uci.edu/ml/machine-learning-databases/00603/"
   ]
  },
  {
   "cell_type": "markdown",
   "metadata": {},
   "source": [
    " __Abstract__: This data studies whether a person will accept the coupon recommended to him in different driving scenarios\n",
    " \n",
    "_Эти данные исследуют, примет ли человек рекомендованный ему купон при различных сценариях вождения._"
   ]
  },
  {
   "cell_type": "markdown",
   "metadata": {},
   "source": [
    "__Data Set Characteristics__: Multivariate<br>\n",
    "__Number of Instances__: 12684<br>\n",
    "__Area__: Business<br>\n",
    "__Attribute Characteristics__: N/A<br>\n",
    "__Number of Attributes__: 23<br>\n",
    "__Date Donated__: 2020-09-15<br>\n",
    "__Associated Tasks__: Classification<br>\n",
    "__Missing Values?__ Yes<br>\n",
    "__Number of Web Hits__: 20952"
   ]
  },
  {
   "cell_type": "markdown",
   "metadata": {},
   "source": [
    "__Source__:\n",
    "\n",
    "Tong Wang, tong-wang '@' uiowa.edu, University of Iowa<br>\n",
    "Cynthia Rudin, cynthia '@' cs.duke.edu, Duke University\n",
    "\n",
    "\n",
    "__Data Set Information__:<br>\n",
    "\n",
    "This data was collected via a survey on Amazon Mechanical Turk. The survey describes different driving scenarios including the destination, current time, weather, passenger, etc., and then ask the person whether he will accept the coupon if he is the driver. For more information about the dataset, please refer to the paper:<br>\n",
    "Wang, Tong, Cynthia Rudin, Finale Doshi-Velez, Yimin Liu, Erica Klampfl, and Perry MacNeille. 'A bayesian framework for learning rule sets for interpretable classification.' The Journal of Machine Learning Research 18, no. 1 (2017): 2357-2393.\n",
    "\n",
    "_Эти данные были собраны с помощью опроса на Amazon Mechanical Turk. Опрос описывает различные сценарии вождения, включая пункт назначения, текущее время, погоду, количество пассажиров и т. Д., А затем спрашивает человека, примет ли он купон, если он является водителем._"
   ]
  },
  {
   "cell_type": "markdown",
   "metadata": {},
   "source": [
    "__Attribute Information:__\n",
    "\n",
    "- __destination__: No Urgent Place, Home, Work\n",
    "- __passanger__: Alone, Friend(s), Kid(s), Partner (who are the passengers in the car)\n",
    "- __weather__: Sunny, Rainy, Snowy\n",
    "- __temperature__: 55, 80, 30\n",
    "- __time__: 2PM, 10AM, 6PM, 7AM, 10PM (14:00, 10:00, 18:00, 7:00, 22:00)\n",
    "- __coupon__: Restaurant(<\\\\$20), Coffee House, Carry out & Take away, Bar, Restaurant(\\\\$20-\\\\$50)\n",
    "- __expiration__ (срок действия): 1d, 2h (the coupon expires in 1 day or in 2 hours)\n",
    "- __gender__: Female, Male\n",
    "- __age__: 21, 46, 26, 31, 41, 50plus, 36, below21\n",
    "- __maritalStatus__: Unmarried partner, Single, Married partner, Divorced, Widowed (семейное положение: не женат, холост, женат, разведен, вдова)\n",
    "- __has_Children__: 1, 0\n",
    "- __education__: Some college - no degree, Bachelors degree, Associates degree, High School Graduate, Graduate degree (Masters or Doctorate), Some High School<br> (Некоторое высшее образование - без степени, степень бакалавра, степень младшего специалиста, выпускник средней школы, высшее образование (степень магистра или доктора), некоторая высшая школа)\n",
    "- __occupation__:<br>\n",
    "    Unemployed, Architecture & Engineering, Student,<br>\n",
    "    Education&Training&Library, Healthcare Support,<br>\n",
    "    Healthcare Practitioners & Technical, Sales & Related, Management,<br>\n",
    "    Arts Design Entertainment Sports & Media, Computer & Mathematical,<br>\n",
    "    Life Physical Social Science, Personal Care & Service,<br>\n",
    "    Community & Social Services, Office & Administrative Support,<br>\n",
    "    Construction & Extraction, Legal, Retired,<br>\n",
    "    Installation Maintenance & Repair, Transportation & Material Moving,<br>\n",
    "    Business & Financial, Protective Service,<br>\n",
    "    Food Preparation & Serving Related, Production Occupations,<br>\n",
    "    Building & Grounds Cleaning & Maintenance, Farming Fishing & Forestry<br>\n",
    "- __income__: \\\\$37500 - \\\\$49999, \\\\$62500 - \\\\$74999, \\\\$12500 - \\\\$24999, \\\\$75000 - \\\\$87499,<br>\n",
    "    \\\\$50000 - \\\\$62499, \\\\$25000 - \\\\$37499, \\\\$100000 or More, \\\\$87500 - \\\\$99999, Less than \\\\$12500\n",
    "- __Bar__: never, less1, 1\\~3, gt8, nan4\\~8 (feature meaning: how many times do you go to a bar every month (сколько раз вы ходите в бар каждый месяц?)\n",
    "- __car__:\n",
    "- __CoffeeHouse__: never, less1, 4\\~8, 1\\~3, gt8, nan (feature meaning: how many times do you go to a coffeehouse every month)?\n",
    "- __CarryAway__: n4\\~8, 1\\~3, gt8, less1, never (feature meaning: how many times do you get take-away food every month (сколько раз в месяц вы получаете еду на вынос)?)\n",
    "- __RestaurantLessThan20__: 4\\~8, 1\\~3, less1, gt8, never (feature meaning: how many times do you go to a restaurant with an average expense per person of less than d20 every month (сколько раз вы ходите в ресторан со средними расходами менее 20 долларов в месяц на человека)?)\n",
    "- __Restaurant20To50__: 1\\~3, less1, never, gt8, 4\\~8, nan (feature meaning: how many times do you go to a restaurant with average expense per person of \\\\$20 - \\\\$50 every month?)\n",
    "- __toCoupon_GEQ15min__: 0,1 (feature meaning: driving distance to the restaurant/bar for using the coupon is greater than 15 minutes (расстояние до ресторана / бара для использования купона превышает 15 минут))\n",
    "- __toCoupon_GEQ25min__: 0, 1 (feature meaning: driving distance to the restaurant/bar for using the coupon is greater than 25 minutes)\n",
    "- __direction_same__: 0, 1 (feature meaning: whether the restaurant/bar is in the same direction as your current destination (находится ли ресторан / бар в том же направлении, что и ваш текущий пункт назначения))\n",
    "- __direction_opp__: 1, 0 (feature meaning: whether the restaurant/bar is in the same direction as your current destination)\n",
    "- __Y__: 1, 0 (whether the coupon is accepted (принят ли купон))"
   ]
  },
  {
   "cell_type": "code",
   "execution_count": 1,
   "metadata": {},
   "outputs": [],
   "source": [
    "import pandas as pd\n",
    "import numpy as np\n",
    "from sklearn.pipeline import Pipeline, make_pipeline\n",
    "\n",
    "# 2. Визуализация\n",
    "import matplotlib\n",
    "import matplotlib.pyplot as plt\n",
    "import seaborn as sns\n",
    "\n",
    "%matplotlib inline\n",
    "\n",
    "import warnings\n",
    "warnings.filterwarnings('ignore')\n",
    "\n",
    "matplotlib.rcParams.update({'font.size': 14})"
   ]
  },
  {
   "cell_type": "code",
   "execution_count": 2,
   "metadata": {},
   "outputs": [
    {
     "data": {
      "text/html": [
       "<div>\n",
       "<style scoped>\n",
       "    .dataframe tbody tr th:only-of-type {\n",
       "        vertical-align: middle;\n",
       "    }\n",
       "\n",
       "    .dataframe tbody tr th {\n",
       "        vertical-align: top;\n",
       "    }\n",
       "\n",
       "    .dataframe thead th {\n",
       "        text-align: right;\n",
       "    }\n",
       "</style>\n",
       "<table border=\"1\" class=\"dataframe\">\n",
       "  <thead>\n",
       "    <tr style=\"text-align: right;\">\n",
       "      <th></th>\n",
       "      <th>destination</th>\n",
       "      <th>passanger</th>\n",
       "      <th>weather</th>\n",
       "      <th>temperature</th>\n",
       "      <th>time</th>\n",
       "      <th>coupon</th>\n",
       "      <th>expiration</th>\n",
       "      <th>gender</th>\n",
       "      <th>age</th>\n",
       "      <th>maritalStatus</th>\n",
       "      <th>...</th>\n",
       "      <th>CoffeeHouse</th>\n",
       "      <th>CarryAway</th>\n",
       "      <th>RestaurantLessThan20</th>\n",
       "      <th>Restaurant20To50</th>\n",
       "      <th>toCoupon_GEQ5min</th>\n",
       "      <th>toCoupon_GEQ15min</th>\n",
       "      <th>toCoupon_GEQ25min</th>\n",
       "      <th>direction_same</th>\n",
       "      <th>direction_opp</th>\n",
       "      <th>Y</th>\n",
       "    </tr>\n",
       "  </thead>\n",
       "  <tbody>\n",
       "    <tr>\n",
       "      <th>0</th>\n",
       "      <td>No Urgent Place</td>\n",
       "      <td>Alone</td>\n",
       "      <td>Sunny</td>\n",
       "      <td>55</td>\n",
       "      <td>2PM</td>\n",
       "      <td>Restaurant(&lt;20)</td>\n",
       "      <td>1d</td>\n",
       "      <td>Female</td>\n",
       "      <td>21</td>\n",
       "      <td>Unmarried partner</td>\n",
       "      <td>...</td>\n",
       "      <td>never</td>\n",
       "      <td>NaN</td>\n",
       "      <td>4~8</td>\n",
       "      <td>1~3</td>\n",
       "      <td>1</td>\n",
       "      <td>0</td>\n",
       "      <td>0</td>\n",
       "      <td>0</td>\n",
       "      <td>1</td>\n",
       "      <td>1</td>\n",
       "    </tr>\n",
       "    <tr>\n",
       "      <th>1</th>\n",
       "      <td>No Urgent Place</td>\n",
       "      <td>Friend(s)</td>\n",
       "      <td>Sunny</td>\n",
       "      <td>80</td>\n",
       "      <td>10AM</td>\n",
       "      <td>Coffee House</td>\n",
       "      <td>2h</td>\n",
       "      <td>Female</td>\n",
       "      <td>21</td>\n",
       "      <td>Unmarried partner</td>\n",
       "      <td>...</td>\n",
       "      <td>never</td>\n",
       "      <td>NaN</td>\n",
       "      <td>4~8</td>\n",
       "      <td>1~3</td>\n",
       "      <td>1</td>\n",
       "      <td>0</td>\n",
       "      <td>0</td>\n",
       "      <td>0</td>\n",
       "      <td>1</td>\n",
       "      <td>0</td>\n",
       "    </tr>\n",
       "    <tr>\n",
       "      <th>2</th>\n",
       "      <td>No Urgent Place</td>\n",
       "      <td>Friend(s)</td>\n",
       "      <td>Sunny</td>\n",
       "      <td>80</td>\n",
       "      <td>10AM</td>\n",
       "      <td>Carry out &amp; Take away</td>\n",
       "      <td>2h</td>\n",
       "      <td>Female</td>\n",
       "      <td>21</td>\n",
       "      <td>Unmarried partner</td>\n",
       "      <td>...</td>\n",
       "      <td>never</td>\n",
       "      <td>NaN</td>\n",
       "      <td>4~8</td>\n",
       "      <td>1~3</td>\n",
       "      <td>1</td>\n",
       "      <td>1</td>\n",
       "      <td>0</td>\n",
       "      <td>0</td>\n",
       "      <td>1</td>\n",
       "      <td>1</td>\n",
       "    </tr>\n",
       "  </tbody>\n",
       "</table>\n",
       "<p>3 rows × 26 columns</p>\n",
       "</div>"
      ],
      "text/plain": [
       "       destination  passanger weather  temperature  time  \\\n",
       "0  No Urgent Place      Alone   Sunny           55   2PM   \n",
       "1  No Urgent Place  Friend(s)   Sunny           80  10AM   \n",
       "2  No Urgent Place  Friend(s)   Sunny           80  10AM   \n",
       "\n",
       "                  coupon expiration  gender age      maritalStatus  ...  \\\n",
       "0        Restaurant(<20)         1d  Female  21  Unmarried partner  ...   \n",
       "1           Coffee House         2h  Female  21  Unmarried partner  ...   \n",
       "2  Carry out & Take away         2h  Female  21  Unmarried partner  ...   \n",
       "\n",
       "   CoffeeHouse CarryAway RestaurantLessThan20 Restaurant20To50  \\\n",
       "0        never       NaN                  4~8              1~3   \n",
       "1        never       NaN                  4~8              1~3   \n",
       "2        never       NaN                  4~8              1~3   \n",
       "\n",
       "  toCoupon_GEQ5min toCoupon_GEQ15min toCoupon_GEQ25min direction_same  \\\n",
       "0                1                 0                 0              0   \n",
       "1                1                 0                 0              0   \n",
       "2                1                 1                 0              0   \n",
       "\n",
       "  direction_opp  Y  \n",
       "0             1  1  \n",
       "1             1  0  \n",
       "2             1  1  \n",
       "\n",
       "[3 rows x 26 columns]"
      ]
     },
     "execution_count": 2,
     "metadata": {},
     "output_type": "execute_result"
    }
   ],
   "source": [
    "df = pd.read_csv(\"./UCI Machine Learning Repository/in-vehicle-coupon-recommendation.csv\")\n",
    "df.head(3)"
   ]
  },
  {
   "cell_type": "markdown",
   "metadata": {},
   "source": [
    "## Анализ данных"
   ]
  },
  {
   "cell_type": "code",
   "execution_count": 3,
   "metadata": {},
   "outputs": [
    {
     "data": {
      "text/plain": [
       "(12684, 26)"
      ]
     },
     "execution_count": 3,
     "metadata": {},
     "output_type": "execute_result"
    }
   ],
   "source": [
    "df.shape"
   ]
  },
  {
   "cell_type": "code",
   "execution_count": 4,
   "metadata": {},
   "outputs": [
    {
     "name": "stdout",
     "output_type": "stream",
     "text": [
      "Строк в df: 12684\n",
      "Столбцов в df: 26\n"
     ]
    }
   ],
   "source": [
    "print('Строк в df:',df.shape[0])  # gives number of row count\n",
    "print('Столбцов в df:',df.shape[1])  # gives number of col count"
   ]
  },
  {
   "cell_type": "code",
   "execution_count": 5,
   "metadata": {},
   "outputs": [
    {
     "data": {
      "text/plain": [
       "destination                      No Urgent Place\n",
       "passanger                                  Alone\n",
       "weather                                    Sunny\n",
       "temperature                                   55\n",
       "time                                         2PM\n",
       "coupon                           Restaurant(<20)\n",
       "expiration                                    1d\n",
       "gender                                    Female\n",
       "age                                           21\n",
       "maritalStatus                  Unmarried partner\n",
       "has_children                                   1\n",
       "education               Some college - no degree\n",
       "occupation                            Unemployed\n",
       "income                           $37500 - $49999\n",
       "car                                          NaN\n",
       "Bar                                        never\n",
       "CoffeeHouse                                never\n",
       "CarryAway                                    NaN\n",
       "RestaurantLessThan20                         4~8\n",
       "Restaurant20To50                             1~3\n",
       "toCoupon_GEQ5min                               1\n",
       "toCoupon_GEQ15min                              0\n",
       "toCoupon_GEQ25min                              0\n",
       "direction_same                                 0\n",
       "direction_opp                                  1\n",
       "Y                                              1\n",
       "Name: 0, dtype: object"
      ]
     },
     "execution_count": 5,
     "metadata": {},
     "output_type": "execute_result"
    }
   ],
   "source": [
    "df.iloc[0]  # Получаем первую строку (index=0)"
   ]
  },
  {
   "cell_type": "code",
   "execution_count": 6,
   "metadata": {},
   "outputs": [
    {
     "name": "stdout",
     "output_type": "stream",
     "text": [
      "<class 'pandas.core.frame.DataFrame'>\n",
      "RangeIndex: 12684 entries, 0 to 12683\n",
      "Data columns (total 26 columns):\n",
      " #   Column                Non-Null Count  Dtype \n",
      "---  ------                --------------  ----- \n",
      " 0   destination           12684 non-null  object\n",
      " 1   passanger             12684 non-null  object\n",
      " 2   weather               12684 non-null  object\n",
      " 3   temperature           12684 non-null  int64 \n",
      " 4   time                  12684 non-null  object\n",
      " 5   coupon                12684 non-null  object\n",
      " 6   expiration            12684 non-null  object\n",
      " 7   gender                12684 non-null  object\n",
      " 8   age                   12684 non-null  object\n",
      " 9   maritalStatus         12684 non-null  object\n",
      " 10  has_children          12684 non-null  int64 \n",
      " 11  education             12684 non-null  object\n",
      " 12  occupation            12684 non-null  object\n",
      " 13  income                12684 non-null  object\n",
      " 14  car                   108 non-null    object\n",
      " 15  Bar                   12577 non-null  object\n",
      " 16  CoffeeHouse           12467 non-null  object\n",
      " 17  CarryAway             12533 non-null  object\n",
      " 18  RestaurantLessThan20  12554 non-null  object\n",
      " 19  Restaurant20To50      12495 non-null  object\n",
      " 20  toCoupon_GEQ5min      12684 non-null  int64 \n",
      " 21  toCoupon_GEQ15min     12684 non-null  int64 \n",
      " 22  toCoupon_GEQ25min     12684 non-null  int64 \n",
      " 23  direction_same        12684 non-null  int64 \n",
      " 24  direction_opp         12684 non-null  int64 \n",
      " 25  Y                     12684 non-null  int64 \n",
      "dtypes: int64(8), object(18)\n",
      "memory usage: 2.5+ MB\n"
     ]
    }
   ],
   "source": [
    "# Рассмотрим типы признаков\n",
    "df.info()"
   ]
  },
  {
   "cell_type": "code",
   "execution_count": 7,
   "metadata": {},
   "outputs": [
    {
     "data": {
      "text/html": [
       "<div>\n",
       "<style scoped>\n",
       "    .dataframe tbody tr th:only-of-type {\n",
       "        vertical-align: middle;\n",
       "    }\n",
       "\n",
       "    .dataframe tbody tr th {\n",
       "        vertical-align: top;\n",
       "    }\n",
       "\n",
       "    .dataframe thead th {\n",
       "        text-align: right;\n",
       "    }\n",
       "</style>\n",
       "<table border=\"1\" class=\"dataframe\">\n",
       "  <thead>\n",
       "    <tr style=\"text-align: right;\">\n",
       "      <th></th>\n",
       "      <th>count</th>\n",
       "      <th>mean</th>\n",
       "      <th>std</th>\n",
       "      <th>min</th>\n",
       "      <th>25%</th>\n",
       "      <th>50%</th>\n",
       "      <th>75%</th>\n",
       "      <th>max</th>\n",
       "    </tr>\n",
       "  </thead>\n",
       "  <tbody>\n",
       "    <tr>\n",
       "      <th>temperature</th>\n",
       "      <td>12684.0</td>\n",
       "      <td>63.301798</td>\n",
       "      <td>19.154486</td>\n",
       "      <td>30.0</td>\n",
       "      <td>55.0</td>\n",
       "      <td>80.0</td>\n",
       "      <td>80.0</td>\n",
       "      <td>80.0</td>\n",
       "    </tr>\n",
       "    <tr>\n",
       "      <th>has_children</th>\n",
       "      <td>12684.0</td>\n",
       "      <td>0.414144</td>\n",
       "      <td>0.492593</td>\n",
       "      <td>0.0</td>\n",
       "      <td>0.0</td>\n",
       "      <td>0.0</td>\n",
       "      <td>1.0</td>\n",
       "      <td>1.0</td>\n",
       "    </tr>\n",
       "    <tr>\n",
       "      <th>toCoupon_GEQ5min</th>\n",
       "      <td>12684.0</td>\n",
       "      <td>1.000000</td>\n",
       "      <td>0.000000</td>\n",
       "      <td>1.0</td>\n",
       "      <td>1.0</td>\n",
       "      <td>1.0</td>\n",
       "      <td>1.0</td>\n",
       "      <td>1.0</td>\n",
       "    </tr>\n",
       "    <tr>\n",
       "      <th>toCoupon_GEQ15min</th>\n",
       "      <td>12684.0</td>\n",
       "      <td>0.561495</td>\n",
       "      <td>0.496224</td>\n",
       "      <td>0.0</td>\n",
       "      <td>0.0</td>\n",
       "      <td>1.0</td>\n",
       "      <td>1.0</td>\n",
       "      <td>1.0</td>\n",
       "    </tr>\n",
       "    <tr>\n",
       "      <th>toCoupon_GEQ25min</th>\n",
       "      <td>12684.0</td>\n",
       "      <td>0.119126</td>\n",
       "      <td>0.323950</td>\n",
       "      <td>0.0</td>\n",
       "      <td>0.0</td>\n",
       "      <td>0.0</td>\n",
       "      <td>0.0</td>\n",
       "      <td>1.0</td>\n",
       "    </tr>\n",
       "    <tr>\n",
       "      <th>direction_same</th>\n",
       "      <td>12684.0</td>\n",
       "      <td>0.214759</td>\n",
       "      <td>0.410671</td>\n",
       "      <td>0.0</td>\n",
       "      <td>0.0</td>\n",
       "      <td>0.0</td>\n",
       "      <td>0.0</td>\n",
       "      <td>1.0</td>\n",
       "    </tr>\n",
       "    <tr>\n",
       "      <th>direction_opp</th>\n",
       "      <td>12684.0</td>\n",
       "      <td>0.785241</td>\n",
       "      <td>0.410671</td>\n",
       "      <td>0.0</td>\n",
       "      <td>1.0</td>\n",
       "      <td>1.0</td>\n",
       "      <td>1.0</td>\n",
       "      <td>1.0</td>\n",
       "    </tr>\n",
       "    <tr>\n",
       "      <th>Y</th>\n",
       "      <td>12684.0</td>\n",
       "      <td>0.568433</td>\n",
       "      <td>0.495314</td>\n",
       "      <td>0.0</td>\n",
       "      <td>0.0</td>\n",
       "      <td>1.0</td>\n",
       "      <td>1.0</td>\n",
       "      <td>1.0</td>\n",
       "    </tr>\n",
       "  </tbody>\n",
       "</table>\n",
       "</div>"
      ],
      "text/plain": [
       "                     count       mean        std   min   25%   50%   75%   max\n",
       "temperature        12684.0  63.301798  19.154486  30.0  55.0  80.0  80.0  80.0\n",
       "has_children       12684.0   0.414144   0.492593   0.0   0.0   0.0   1.0   1.0\n",
       "toCoupon_GEQ5min   12684.0   1.000000   0.000000   1.0   1.0   1.0   1.0   1.0\n",
       "toCoupon_GEQ15min  12684.0   0.561495   0.496224   0.0   0.0   1.0   1.0   1.0\n",
       "toCoupon_GEQ25min  12684.0   0.119126   0.323950   0.0   0.0   0.0   0.0   1.0\n",
       "direction_same     12684.0   0.214759   0.410671   0.0   0.0   0.0   0.0   1.0\n",
       "direction_opp      12684.0   0.785241   0.410671   0.0   1.0   1.0   1.0   1.0\n",
       "Y                  12684.0   0.568433   0.495314   0.0   0.0   1.0   1.0   1.0"
      ]
     },
     "execution_count": 7,
     "metadata": {},
     "output_type": "execute_result"
    }
   ],
   "source": [
    "df.describe().T"
   ]
  },
  {
   "cell_type": "code",
   "execution_count": 8,
   "metadata": {},
   "outputs": [],
   "source": [
    "# len(df) - df.count()"
   ]
  },
  {
   "cell_type": "code",
   "execution_count": 9,
   "metadata": {},
   "outputs": [
    {
     "data": {
      "text/plain": [
       "Index(['destination', 'passanger', 'weather', 'temperature', 'time', 'coupon',\n",
       "       'expiration', 'gender', 'age', 'maritalStatus', 'has_children',\n",
       "       'education', 'occupation', 'income', 'car', 'Bar', 'CoffeeHouse',\n",
       "       'CarryAway', 'RestaurantLessThan20', 'Restaurant20To50',\n",
       "       'toCoupon_GEQ5min', 'toCoupon_GEQ15min', 'toCoupon_GEQ25min',\n",
       "       'direction_same', 'direction_opp', 'Y'],\n",
       "      dtype='object')"
      ]
     },
     "execution_count": 9,
     "metadata": {},
     "output_type": "execute_result"
    }
   ],
   "source": [
    "df.columns"
   ]
  },
  {
   "cell_type": "code",
   "execution_count": 10,
   "metadata": {},
   "outputs": [],
   "source": [
    "class_names = ['destination', 'passanger', 'weather', 'temperature', 'time', 'coupon',\n",
    "       'expiration', 'gender', 'age', 'maritalStatus', 'has_children',\n",
    "       'education', 'occupation', 'income', 'car', 'Bar', 'CoffeeHouse',\n",
    "       'CarryAway', 'RestaurantLessThan20', 'Restaurant20To50',\n",
    "       'toCoupon_GEQ5min', 'toCoupon_GEQ15min', 'toCoupon_GEQ25min',\n",
    "       'direction_same', 'direction_opp', 'Y']"
   ]
  },
  {
   "cell_type": "markdown",
   "metadata": {},
   "source": [
    "# EDA и очистка данных"
   ]
  },
  {
   "cell_type": "markdown",
   "metadata": {},
   "source": [
    "Делаем EDA для:\n",
    "\n",
    "* Исправления выбросов\n",
    "* Заполнения NaN\n",
    "* Идей для генерации новых фич"
   ]
  },
  {
   "cell_type": "markdown",
   "metadata": {},
   "source": [
    "### 1. Обработка пропусков<a class=\"anchor\" id=\"gaps\"></a>"
   ]
  },
  {
   "cell_type": "code",
   "execution_count": 11,
   "metadata": {},
   "outputs": [],
   "source": [
    "# df.isnull()\n",
    "# df.notnull()"
   ]
  },
  {
   "cell_type": "markdown",
   "metadata": {},
   "source": [
    "### representing null/NaN values using seaborn plotting techniques"
   ]
  },
  {
   "cell_type": "code",
   "execution_count": 12,
   "metadata": {},
   "outputs": [
    {
     "data": {
      "text/plain": [
       "<AxesSubplot:>"
      ]
     },
     "execution_count": 12,
     "metadata": {},
     "output_type": "execute_result"
    },
    {
     "data": {
      "image/png": "[encoded data removed]",
      "text/plain": [
       "<Figure size 432x288 with 2 Axes>"
      ]
     },
     "metadata": {
      "needs_background": "light"
     },
     "output_type": "display_data"
    }
   ],
   "source": [
    "sns.heatmap(df.isnull())"
   ]
  },
  {
   "cell_type": "code",
   "execution_count": 13,
   "metadata": {},
   "outputs": [
    {
     "data": {
      "text/plain": [
       "destination                 0\n",
       "passanger                   0\n",
       "weather                     0\n",
       "temperature                 0\n",
       "time                        0\n",
       "coupon                      0\n",
       "expiration                  0\n",
       "gender                      0\n",
       "age                         0\n",
       "maritalStatus               0\n",
       "has_children                0\n",
       "education                   0\n",
       "occupation                  0\n",
       "income                      0\n",
       "car                     12576\n",
       "Bar                       107\n",
       "CoffeeHouse               217\n",
       "CarryAway                 151\n",
       "RestaurantLessThan20      130\n",
       "Restaurant20To50          189\n",
       "toCoupon_GEQ5min            0\n",
       "toCoupon_GEQ15min           0\n",
       "toCoupon_GEQ25min           0\n",
       "direction_same              0\n",
       "direction_opp               0\n",
       "Y                           0\n",
       "dtype: int64"
      ]
     },
     "execution_count": 13,
     "metadata": {},
     "output_type": "execute_result"
    }
   ],
   "source": [
    "df.isna().sum()  # просматриваем пропуски"
   ]
  },
  {
   "cell_type": "code",
   "execution_count": 14,
   "metadata": {},
   "outputs": [
    {
     "name": "stdout",
     "output_type": "stream",
     "text": [
      "car: (nan=12576)\n",
      "\n",
      "Mazda5                                      22\n",
      "Scooter and motorcycle                      22\n",
      "do not drive                                22\n",
      "Car that is too old to install Onstar :D    21\n",
      "crossover                                   21\n",
      "Name: car, dtype: int64\n",
      "****************************************************************************************************\n",
      "\n",
      "Bar: (nan=107)\n",
      "\n",
      "never    5197\n",
      "less1    3482\n",
      "1~3      2473\n",
      "4~8      1076\n",
      "gt8       349\n",
      "Name: Bar, dtype: int64\n",
      "****************************************************************************************************\n",
      "\n",
      "CoffeeHouse: (nan=217)\n",
      "\n",
      "less1    3385\n",
      "1~3      3225\n",
      "never    2962\n",
      "4~8      1784\n",
      "gt8      1111\n",
      "Name: CoffeeHouse, dtype: int64\n",
      "****************************************************************************************************\n",
      "\n",
      "CarryAway: (nan=151)\n",
      "\n",
      "1~3      4672\n",
      "4~8      4258\n",
      "less1    1856\n",
      "gt8      1594\n",
      "never     153\n",
      "Name: CarryAway, dtype: int64\n",
      "****************************************************************************************************\n",
      "\n",
      "RestaurantLessThan20: (nan=130)\n",
      "\n",
      "1~3      5376\n",
      "4~8      3580\n",
      "less1    2093\n",
      "gt8      1285\n",
      "never     220\n",
      "Name: RestaurantLessThan20, dtype: int64\n",
      "****************************************************************************************************\n",
      "\n",
      "Restaurant20To50: (nan=189)\n",
      "\n",
      "less1    6077\n",
      "1~3      3290\n",
      "never    2136\n",
      "4~8       728\n",
      "gt8       264\n",
      "Name: Restaurant20To50, dtype: int64\n",
      "****************************************************************************************************\n",
      "\n"
     ]
    }
   ],
   "source": [
    "for cat_colname in df[['car', 'Bar', 'CoffeeHouse', 'CarryAway', 'RestaurantLessThan20', 'Restaurant20To50']].columns:\n",
    "    print(str(cat_colname) + ': (nan='+ str(df[cat_colname].isna().sum()) + ')\\n\\n' + str(df[cat_colname].value_counts()) +\n",
    "          '\\n' + '*' * 100 + '\\n')"
   ]
  },
  {
   "cell_type": "markdown",
   "metadata": {},
   "source": [
    "<br>__Пропуски есть в следующих признаках__:\n",
    "- __car__: 12576\n",
    "- __Bar__: 107\n",
    "- __CoffeeHouse__: 217\n",
    "- __CarryAway__: 151\n",
    "- __RestaurantLessThan20__: 130\n",
    "- __Restaurant20To50__: 189\n",
    "\n",
    "\n",
    "1. Поле __car__ практически не заполнено, 12576 из 12684 позиций (заполнено только 108 позиций). __Исключаем его из датафрейма__.\n",
    "2. Для остальных полей заменяем значение __nan__ на наиболее часто встречающееся значение:\n",
    "    - __Bar__: заменияем значением __never__\n",
    "    - __CoffeeHouse__: заменияем значением __less1__\n",
    "    - __CarryAway__: заменияем значением __1~3__\n",
    "    - __RestaurantLessThan20__: заменияем значением __1~3__\n",
    "    - __Restaurant20To50__: заменияем значением __less1__"
   ]
  },
  {
   "cell_type": "code",
   "execution_count": 15,
   "metadata": {},
   "outputs": [
    {
     "data": {
      "text/plain": [
       "108"
      ]
     },
     "execution_count": 15,
     "metadata": {},
     "output_type": "execute_result"
    }
   ],
   "source": [
    "12684-12576"
   ]
  },
  {
   "cell_type": "code",
   "execution_count": 16,
   "metadata": {},
   "outputs": [],
   "source": [
    "# Удаляем поле car из набора как неинформативное\n",
    "df.drop('car', axis=1, inplace=True)"
   ]
  },
  {
   "cell_type": "code",
   "execution_count": 17,
   "metadata": {},
   "outputs": [],
   "source": [
    "# Заполним пропуски\n",
    "col = 'Bar'\n",
    "df[col] = df[col].fillna('never')\n",
    "# print(df[col].value_counts())"
   ]
  },
  {
   "cell_type": "code",
   "execution_count": 18,
   "metadata": {},
   "outputs": [],
   "source": [
    "col = 'CoffeeHouse'\n",
    "df[col] = df[col].fillna('less1')\n",
    "# print(df[col].value_counts())"
   ]
  },
  {
   "cell_type": "code",
   "execution_count": 19,
   "metadata": {},
   "outputs": [],
   "source": [
    "col = 'CarryAway'\n",
    "df[col] = df[col].fillna('1~3')\n",
    "# print(df[col].value_counts())"
   ]
  },
  {
   "cell_type": "code",
   "execution_count": 20,
   "metadata": {},
   "outputs": [],
   "source": [
    "col = 'RestaurantLessThan20'\n",
    "df[col] = df[col].fillna('1~3')\n",
    "# print(df[col].value_counts())"
   ]
  },
  {
   "cell_type": "code",
   "execution_count": 21,
   "metadata": {},
   "outputs": [],
   "source": [
    "col = 'Restaurant20To50'\n",
    "df[col] = df[col].fillna('less1')\n",
    "# print(df[col].value_counts())"
   ]
  },
  {
   "cell_type": "code",
   "execution_count": 22,
   "metadata": {},
   "outputs": [
    {
     "data": {
      "text/plain": [
       "destination             0\n",
       "passanger               0\n",
       "weather                 0\n",
       "temperature             0\n",
       "time                    0\n",
       "coupon                  0\n",
       "expiration              0\n",
       "gender                  0\n",
       "age                     0\n",
       "maritalStatus           0\n",
       "has_children            0\n",
       "education               0\n",
       "occupation              0\n",
       "income                  0\n",
       "Bar                     0\n",
       "CoffeeHouse             0\n",
       "CarryAway               0\n",
       "RestaurantLessThan20    0\n",
       "Restaurant20To50        0\n",
       "toCoupon_GEQ5min        0\n",
       "toCoupon_GEQ15min       0\n",
       "toCoupon_GEQ25min       0\n",
       "direction_same          0\n",
       "direction_opp           0\n",
       "Y                       0\n",
       "dtype: int64"
      ]
     },
     "execution_count": 22,
     "metadata": {},
     "output_type": "execute_result"
    }
   ],
   "source": [
    "df.isna().sum()  # просматриваем пропуски"
   ]
  },
  {
   "cell_type": "markdown",
   "metadata": {},
   "source": [
    "### 2. Обзор целевой переменной"
   ]
  },
  {
   "cell_type": "code",
   "execution_count": 23,
   "metadata": {},
   "outputs": [
    {
     "name": "stdout",
     "output_type": "stream",
     "text": [
      "\n",
      "Y\n",
      "- 1 7210\n",
      "- 0 5474\n"
     ]
    }
   ],
   "source": [
    "# Checking unique object data\n",
    "object_cols = [col for col in df.columns if (col == \"Y\")] # (col == \"treatment\") | (col == \"target\")]\n",
    "for obj in object_cols:\n",
    "    print(f'\\n{obj}')\n",
    "    for unique in df[obj].unique():\n",
    "        print(f'- {unique} {sum(df[obj] == unique)}')"
   ]
  },
  {
   "cell_type": "code",
   "execution_count": 24,
   "metadata": {
    "scrolled": true
   },
   "outputs": [
    {
     "data": {
      "text/plain": [
       "1    7210\n",
       "0    5474\n",
       "Name: Y, dtype: int64"
      ]
     },
     "execution_count": 24,
     "metadata": {},
     "output_type": "execute_result"
    }
   ],
   "source": [
    "df.iloc[:, -1].value_counts()"
   ]
  },
  {
   "cell_type": "code",
   "execution_count": 25,
   "metadata": {},
   "outputs": [
    {
     "data": {
      "image/png": "[encoded data removed]",
      "text/plain": [
       "<Figure size 288x288 with 1 Axes>"
      ]
     },
     "metadata": {
      "needs_background": "light"
     },
     "output_type": "display_data"
    }
   ],
   "source": [
    "counts = df['Y'].value_counts()  # Количество различных значений признака 'Y'\n",
    "# print(counts)\n",
    "\n",
    "plt.figure(figsize=(4,4))    \n",
    "plt.title('Y')\n",
    "sns.barplot(counts.index, counts.values)\n",
    "    \n",
    "plt.show()"
   ]
  },
  {
   "cell_type": "markdown",
   "metadata": {},
   "source": [
    "### 3. Обзор числовых  признаков"
   ]
  },
  {
   "cell_type": "code",
   "execution_count": 26,
   "metadata": {},
   "outputs": [
    {
     "data": {
      "text/plain": [
       "array([[<AxesSubplot:title={'center':'temperature'}>,\n",
       "        <AxesSubplot:title={'center':'has_children'}>,\n",
       "        <AxesSubplot:title={'center':'toCoupon_GEQ5min'}>],\n",
       "       [<AxesSubplot:title={'center':'toCoupon_GEQ15min'}>,\n",
       "        <AxesSubplot:title={'center':'toCoupon_GEQ25min'}>,\n",
       "        <AxesSubplot:title={'center':'direction_same'}>],\n",
       "       [<AxesSubplot:title={'center':'direction_opp'}>,\n",
       "        <AxesSubplot:title={'center':'Y'}>, <AxesSubplot:>]], dtype=object)"
      ]
     },
     "execution_count": 26,
     "metadata": {},
     "output_type": "execute_result"
    },
    {
     "data": {
      "image/png": "[encoded data removed]",
      "text/plain": [
       "<Figure size 1152x1152 with 9 Axes>"
      ]
     },
     "metadata": {
      "needs_background": "light"
     },
     "output_type": "display_data"
    }
   ],
   "source": [
    "df_num_features = df.select_dtypes(include=['float32', 'float64', 'int8', 'int16', 'int32', 'int64'])\n",
    "\n",
    "df_num_features.hist(figsize=(16, 16), bins=50, grid=True)"
   ]
  },
  {
   "cell_type": "markdown",
   "metadata": {},
   "source": [
    "__Поле 'toCoupon_GEQ5min' имеет только одно значение 1 для всех позиций. Исключаем его из нашего датафрэйма.__"
   ]
  },
  {
   "cell_type": "code",
   "execution_count": 27,
   "metadata": {},
   "outputs": [
    {
     "data": {
      "text/plain": [
       "1    12684\n",
       "Name: toCoupon_GEQ5min, dtype: int64"
      ]
     },
     "execution_count": 27,
     "metadata": {},
     "output_type": "execute_result"
    }
   ],
   "source": [
    "df['toCoupon_GEQ5min'].value_counts()"
   ]
  },
  {
   "cell_type": "code",
   "execution_count": 28,
   "metadata": {},
   "outputs": [],
   "source": [
    "# Удаляем поле toCoupon_GEQ5min из набора данных как неинформативное\n",
    "df.drop('toCoupon_GEQ5min', axis=1, inplace=True)"
   ]
  },
  {
   "cell_type": "code",
   "execution_count": null,
   "metadata": {},
   "outputs": [],
   "source": []
  },
  {
   "cell_type": "code",
   "execution_count": 29,
   "metadata": {},
   "outputs": [
    {
     "data": {
      "text/plain": [
       "Index(['destination', 'passanger', 'weather', 'temperature', 'time', 'coupon',\n",
       "       'expiration', 'gender', 'age', 'maritalStatus', 'has_children',\n",
       "       'education', 'occupation', 'income', 'Bar', 'CoffeeHouse', 'CarryAway',\n",
       "       'RestaurantLessThan20', 'Restaurant20To50', 'toCoupon_GEQ15min',\n",
       "       'toCoupon_GEQ25min', 'direction_same', 'direction_opp', 'Y'],\n",
       "      dtype='object')"
      ]
     },
     "execution_count": 29,
     "metadata": {},
     "output_type": "execute_result"
    }
   ],
   "source": [
    "df.columns"
   ]
  },
  {
   "cell_type": "code",
   "execution_count": 30,
   "metadata": {},
   "outputs": [],
   "source": [
    "#df['destination'].value_counts()"
   ]
  },
  {
   "cell_type": "code",
   "execution_count": 31,
   "metadata": {
    "scrolled": false
   },
   "outputs": [
    {
     "name": "stdout",
     "output_type": "stream",
     "text": [
      "temperature: (nan=0)\n",
      "\n",
      "80    6528\n",
      "55    3840\n",
      "30    2316\n",
      "Name: temperature, dtype: int64\n",
      "****************************************************************************************************\n",
      "\n",
      "has_children: (nan=0)\n",
      "\n",
      "0    7431\n",
      "1    5253\n",
      "Name: has_children, dtype: int64\n",
      "****************************************************************************************************\n",
      "\n",
      "toCoupon_GEQ15min: (nan=0)\n",
      "\n",
      "1    7122\n",
      "0    5562\n",
      "Name: toCoupon_GEQ15min, dtype: int64\n",
      "****************************************************************************************************\n",
      "\n",
      "toCoupon_GEQ25min: (nan=0)\n",
      "\n",
      "0    11173\n",
      "1     1511\n",
      "Name: toCoupon_GEQ25min, dtype: int64\n",
      "****************************************************************************************************\n",
      "\n",
      "direction_same: (nan=0)\n",
      "\n",
      "0    9960\n",
      "1    2724\n",
      "Name: direction_same, dtype: int64\n",
      "****************************************************************************************************\n",
      "\n",
      "direction_opp: (nan=0)\n",
      "\n",
      "1    9960\n",
      "0    2724\n",
      "Name: direction_opp, dtype: int64\n",
      "****************************************************************************************************\n",
      "\n",
      "Y: (nan=0)\n",
      "\n",
      "1    7210\n",
      "0    5474\n",
      "Name: Y, dtype: int64\n",
      "****************************************************************************************************\n",
      "\n"
     ]
    }
   ],
   "source": [
    "# for cat_colname in df.select_dtypes(include='int64').columns:\n",
    "#     print(str(cat_colname) + '\\n\\n' + str(df[cat_colname].value_counts()) + '\\n' + '*' * 100 + '\\n')\n",
    "    \n",
    "for cat_colname in df.select_dtypes(include='int64').columns:\n",
    "    print(str(cat_colname) + ': (nan='+ str(df[cat_colname].isna().sum()) + ')\\n\\n' + str(df[cat_colname].value_counts()) +\n",
    "          '\\n' + '*' * 100 + '\\n')"
   ]
  },
  {
   "cell_type": "markdown",
   "metadata": {},
   "source": [
    "### 4. Обзор категориальных признаков"
   ]
  },
  {
   "cell_type": "code",
   "execution_count": 32,
   "metadata": {},
   "outputs": [
    {
     "data": {
      "text/html": [
       "<div>\n",
       "<style scoped>\n",
       "    .dataframe tbody tr th:only-of-type {\n",
       "        vertical-align: middle;\n",
       "    }\n",
       "\n",
       "    .dataframe tbody tr th {\n",
       "        vertical-align: top;\n",
       "    }\n",
       "\n",
       "    .dataframe thead th {\n",
       "        text-align: right;\n",
       "    }\n",
       "</style>\n",
       "<table border=\"1\" class=\"dataframe\">\n",
       "  <thead>\n",
       "    <tr style=\"text-align: right;\">\n",
       "      <th></th>\n",
       "      <th>count</th>\n",
       "      <th>unique</th>\n",
       "      <th>top</th>\n",
       "      <th>freq</th>\n",
       "    </tr>\n",
       "  </thead>\n",
       "  <tbody>\n",
       "    <tr>\n",
       "      <th>destination</th>\n",
       "      <td>12684</td>\n",
       "      <td>3</td>\n",
       "      <td>No Urgent Place</td>\n",
       "      <td>6283</td>\n",
       "    </tr>\n",
       "    <tr>\n",
       "      <th>passanger</th>\n",
       "      <td>12684</td>\n",
       "      <td>4</td>\n",
       "      <td>Alone</td>\n",
       "      <td>7305</td>\n",
       "    </tr>\n",
       "    <tr>\n",
       "      <th>weather</th>\n",
       "      <td>12684</td>\n",
       "      <td>3</td>\n",
       "      <td>Sunny</td>\n",
       "      <td>10069</td>\n",
       "    </tr>\n",
       "    <tr>\n",
       "      <th>time</th>\n",
       "      <td>12684</td>\n",
       "      <td>5</td>\n",
       "      <td>6PM</td>\n",
       "      <td>3230</td>\n",
       "    </tr>\n",
       "    <tr>\n",
       "      <th>coupon</th>\n",
       "      <td>12684</td>\n",
       "      <td>5</td>\n",
       "      <td>Coffee House</td>\n",
       "      <td>3996</td>\n",
       "    </tr>\n",
       "    <tr>\n",
       "      <th>expiration</th>\n",
       "      <td>12684</td>\n",
       "      <td>2</td>\n",
       "      <td>1d</td>\n",
       "      <td>7091</td>\n",
       "    </tr>\n",
       "    <tr>\n",
       "      <th>gender</th>\n",
       "      <td>12684</td>\n",
       "      <td>2</td>\n",
       "      <td>Female</td>\n",
       "      <td>6511</td>\n",
       "    </tr>\n",
       "    <tr>\n",
       "      <th>age</th>\n",
       "      <td>12684</td>\n",
       "      <td>8</td>\n",
       "      <td>21</td>\n",
       "      <td>2653</td>\n",
       "    </tr>\n",
       "    <tr>\n",
       "      <th>maritalStatus</th>\n",
       "      <td>12684</td>\n",
       "      <td>5</td>\n",
       "      <td>Married partner</td>\n",
       "      <td>5100</td>\n",
       "    </tr>\n",
       "    <tr>\n",
       "      <th>education</th>\n",
       "      <td>12684</td>\n",
       "      <td>6</td>\n",
       "      <td>Some college - no degree</td>\n",
       "      <td>4351</td>\n",
       "    </tr>\n",
       "    <tr>\n",
       "      <th>occupation</th>\n",
       "      <td>12684</td>\n",
       "      <td>25</td>\n",
       "      <td>Unemployed</td>\n",
       "      <td>1870</td>\n",
       "    </tr>\n",
       "    <tr>\n",
       "      <th>income</th>\n",
       "      <td>12684</td>\n",
       "      <td>9</td>\n",
       "      <td>$25000 - $37499</td>\n",
       "      <td>2013</td>\n",
       "    </tr>\n",
       "    <tr>\n",
       "      <th>Bar</th>\n",
       "      <td>12684</td>\n",
       "      <td>5</td>\n",
       "      <td>never</td>\n",
       "      <td>5304</td>\n",
       "    </tr>\n",
       "    <tr>\n",
       "      <th>CoffeeHouse</th>\n",
       "      <td>12684</td>\n",
       "      <td>5</td>\n",
       "      <td>less1</td>\n",
       "      <td>3602</td>\n",
       "    </tr>\n",
       "    <tr>\n",
       "      <th>CarryAway</th>\n",
       "      <td>12684</td>\n",
       "      <td>5</td>\n",
       "      <td>1~3</td>\n",
       "      <td>4823</td>\n",
       "    </tr>\n",
       "    <tr>\n",
       "      <th>RestaurantLessThan20</th>\n",
       "      <td>12684</td>\n",
       "      <td>5</td>\n",
       "      <td>1~3</td>\n",
       "      <td>5506</td>\n",
       "    </tr>\n",
       "    <tr>\n",
       "      <th>Restaurant20To50</th>\n",
       "      <td>12684</td>\n",
       "      <td>5</td>\n",
       "      <td>less1</td>\n",
       "      <td>6266</td>\n",
       "    </tr>\n",
       "  </tbody>\n",
       "</table>\n",
       "</div>"
      ],
      "text/plain": [
       "                      count unique                       top   freq\n",
       "destination           12684      3           No Urgent Place   6283\n",
       "passanger             12684      4                     Alone   7305\n",
       "weather               12684      3                     Sunny  10069\n",
       "time                  12684      5                       6PM   3230\n",
       "coupon                12684      5              Coffee House   3996\n",
       "expiration            12684      2                        1d   7091\n",
       "gender                12684      2                    Female   6511\n",
       "age                   12684      8                        21   2653\n",
       "maritalStatus         12684      5           Married partner   5100\n",
       "education             12684      6  Some college - no degree   4351\n",
       "occupation            12684     25                Unemployed   1870\n",
       "income                12684      9           $25000 - $37499   2013\n",
       "Bar                   12684      5                     never   5304\n",
       "CoffeeHouse           12684      5                     less1   3602\n",
       "CarryAway             12684      5                       1~3   4823\n",
       "RestaurantLessThan20  12684      5                       1~3   5506\n",
       "Restaurant20To50      12684      5                     less1   6266"
      ]
     },
     "execution_count": 32,
     "metadata": {},
     "output_type": "execute_result"
    }
   ],
   "source": [
    "# Checking for object data\n",
    "df.describe(include=np.object).T"
   ]
  },
  {
   "cell_type": "code",
   "execution_count": 33,
   "metadata": {
    "scrolled": false
   },
   "outputs": [],
   "source": [
    "# # Checking unique object data\n",
    "# object_cols = [col for col in df.columns if df[col].dtype == \"object\"]\n",
    "# for obj in object_cols:\n",
    "#     print(f'\\n{obj}')\n",
    "#     for unique in df[obj].unique():\n",
    "#         print(f'- {unique} {sum(df[obj] == unique)}')"
   ]
  },
  {
   "cell_type": "code",
   "execution_count": 34,
   "metadata": {
    "scrolled": false
   },
   "outputs": [
    {
     "name": "stdout",
     "output_type": "stream",
     "text": [
      "destination: (nan=0)\n",
      "\n",
      "No Urgent Place    6283\n",
      "Home               3237\n",
      "Work               3164\n",
      "Name: destination, dtype: int64\n",
      "****************************************************************************************************\n",
      "\n",
      "passanger: (nan=0)\n",
      "\n",
      "Alone        7305\n",
      "Friend(s)    3298\n",
      "Partner      1075\n",
      "Kid(s)       1006\n",
      "Name: passanger, dtype: int64\n",
      "****************************************************************************************************\n",
      "\n",
      "weather: (nan=0)\n",
      "\n",
      "Sunny    10069\n",
      "Snowy     1405\n",
      "Rainy     1210\n",
      "Name: weather, dtype: int64\n",
      "****************************************************************************************************\n",
      "\n",
      "time: (nan=0)\n",
      "\n",
      "6PM     3230\n",
      "7AM     3164\n",
      "10AM    2275\n",
      "2PM     2009\n",
      "10PM    2006\n",
      "Name: time, dtype: int64\n",
      "****************************************************************************************************\n",
      "\n",
      "coupon: (nan=0)\n",
      "\n",
      "Coffee House             3996\n",
      "Restaurant(<20)          2786\n",
      "Carry out & Take away    2393\n",
      "Bar                      2017\n",
      "Restaurant(20-50)        1492\n",
      "Name: coupon, dtype: int64\n",
      "****************************************************************************************************\n",
      "\n",
      "expiration: (nan=0)\n",
      "\n",
      "1d    7091\n",
      "2h    5593\n",
      "Name: expiration, dtype: int64\n",
      "****************************************************************************************************\n",
      "\n",
      "gender: (nan=0)\n",
      "\n",
      "Female    6511\n",
      "Male      6173\n",
      "Name: gender, dtype: int64\n",
      "****************************************************************************************************\n",
      "\n",
      "age: (nan=0)\n",
      "\n",
      "21         2653\n",
      "26         2559\n",
      "31         2039\n",
      "50plus     1788\n",
      "36         1319\n",
      "41         1093\n",
      "46          686\n",
      "below21     547\n",
      "Name: age, dtype: int64\n",
      "****************************************************************************************************\n",
      "\n",
      "maritalStatus: (nan=0)\n",
      "\n",
      "Married partner      5100\n",
      "Single               4752\n",
      "Unmarried partner    2186\n",
      "Divorced              516\n",
      "Widowed               130\n",
      "Name: maritalStatus, dtype: int64\n",
      "****************************************************************************************************\n",
      "\n",
      "education: (nan=0)\n",
      "\n",
      "Some college - no degree                  4351\n",
      "Bachelors degree                          4335\n",
      "Graduate degree (Masters or Doctorate)    1852\n",
      "Associates degree                         1153\n",
      "High School Graduate                       905\n",
      "Some High School                            88\n",
      "Name: education, dtype: int64\n",
      "****************************************************************************************************\n",
      "\n",
      "occupation: (nan=0)\n",
      "\n",
      "Unemployed                                   1870\n",
      "Student                                      1584\n",
      "Computer & Mathematical                      1408\n",
      "Sales & Related                              1093\n",
      "Education&Training&Library                    943\n",
      "Management                                    838\n",
      "Office & Administrative Support               639\n",
      "Arts Design Entertainment Sports & Media      629\n",
      "Business & Financial                          544\n",
      "Retired                                       495\n",
      "Food Preparation & Serving Related            298\n",
      "Healthcare Practitioners & Technical          244\n",
      "Healthcare Support                            242\n",
      "Community & Social Services                   241\n",
      "Legal                                         219\n",
      "Transportation & Material Moving              218\n",
      "Protective Service                            175\n",
      "Architecture & Engineering                    175\n",
      "Personal Care & Service                       175\n",
      "Life Physical Social Science                  170\n",
      "Construction & Extraction                     154\n",
      "Installation Maintenance & Repair             133\n",
      "Production Occupations                        110\n",
      "Building & Grounds Cleaning & Maintenance      44\n",
      "Farming Fishing & Forestry                     43\n",
      "Name: occupation, dtype: int64\n",
      "****************************************************************************************************\n",
      "\n",
      "income: (nan=0)\n",
      "\n",
      "$25000 - $37499     2013\n",
      "$12500 - $24999     1831\n",
      "$37500 - $49999     1805\n",
      "$100000 or More     1736\n",
      "$50000 - $62499     1659\n",
      "Less than $12500    1042\n",
      "$87500 - $99999      895\n",
      "$75000 - $87499      857\n",
      "$62500 - $74999      846\n",
      "Name: income, dtype: int64\n",
      "****************************************************************************************************\n",
      "\n",
      "Bar: (nan=0)\n",
      "\n",
      "never    5304\n",
      "less1    3482\n",
      "1~3      2473\n",
      "4~8      1076\n",
      "gt8       349\n",
      "Name: Bar, dtype: int64\n",
      "****************************************************************************************************\n",
      "\n",
      "CoffeeHouse: (nan=0)\n",
      "\n",
      "less1    3602\n",
      "1~3      3225\n",
      "never    2962\n",
      "4~8      1784\n",
      "gt8      1111\n",
      "Name: CoffeeHouse, dtype: int64\n",
      "****************************************************************************************************\n",
      "\n",
      "CarryAway: (nan=0)\n",
      "\n",
      "1~3      4823\n",
      "4~8      4258\n",
      "less1    1856\n",
      "gt8      1594\n",
      "never     153\n",
      "Name: CarryAway, dtype: int64\n",
      "****************************************************************************************************\n",
      "\n",
      "RestaurantLessThan20: (nan=0)\n",
      "\n",
      "1~3      5506\n",
      "4~8      3580\n",
      "less1    2093\n",
      "gt8      1285\n",
      "never     220\n",
      "Name: RestaurantLessThan20, dtype: int64\n",
      "****************************************************************************************************\n",
      "\n",
      "Restaurant20To50: (nan=0)\n",
      "\n",
      "less1    6266\n",
      "1~3      3290\n",
      "never    2136\n",
      "4~8       728\n",
      "gt8       264\n",
      "Name: Restaurant20To50, dtype: int64\n",
      "****************************************************************************************************\n",
      "\n"
     ]
    }
   ],
   "source": [
    "for cat_colname in df.select_dtypes(include='object').columns:\n",
    "    print(str(cat_colname) + ': (nan='+ str(df[cat_colname].isna().sum()) + ')\\n\\n' + str(df[cat_colname].value_counts()) +\n",
    "          '\\n' + '*' * 100 + '\\n')"
   ]
  },
  {
   "cell_type": "markdown",
   "metadata": {},
   "source": [
    "# 2 Задание"
   ]
  },
  {
   "cell_type": "markdown",
   "metadata": {},
   "source": [
    "сделать __feature engineering__"
   ]
  },
  {
   "cell_type": "markdown",
   "metadata": {},
   "source": [
    "#### Обработка категориальных признаков"
   ]
  },
  {
   "cell_type": "code",
   "execution_count": 35,
   "metadata": {},
   "outputs": [],
   "source": [
    "# Приводим поле treatment к бинарному виду (1 или 0, т.е было какое-то предложение или нет)\n",
    "# df.treatment = df_model.treatment.map({'No Offer': 0, 'Buy One Get One': 1, 'Discount': 1})"
   ]
  },
  {
   "cell_type": "code",
   "execution_count": 36,
   "metadata": {},
   "outputs": [],
   "source": [
    "col_names = ['destination', 'passanger', 'weather', 'temperature', 'time', 'coupon',\n",
    "       'expiration', 'gender', 'age', 'maritalStatus', 'has_children',\n",
    "       'education', 'occupation', 'income', 'car', 'Bar', 'CoffeeHouse',\n",
    "       'CarryAway', 'RestaurantLessThan20', 'Restaurant20To50',\n",
    "       'toCoupon_GEQ5min', 'toCoupon_GEQ15min', 'toCoupon_GEQ25min',\n",
    "       'direction_same', 'direction_opp']\n",
    "\n",
    "cat_col_names = ['destination', 'passanger', 'weather', 'time', 'coupon',\n",
    "       'expiration', 'gender', 'age', 'maritalStatus',\n",
    "       'education', 'occupation', 'income', 'car', 'Bar', 'CoffeeHouse',\n",
    "       'CarryAway', 'RestaurantLessThan20', 'Restaurant20To50']\n",
    "\n",
    "\n",
    "col_names = ['temperature', 'has_children',\n",
    "       'toCoupon_GEQ15min', 'toCoupon_GEQ25min',\n",
    "       'direction_same', 'direction_opp']"
   ]
  },
  {
   "cell_type": "code",
   "execution_count": 37,
   "metadata": {},
   "outputs": [],
   "source": [
    "# One-Hot Encoding:\n",
    "df = pd.get_dummies(df)"
   ]
  },
  {
   "cell_type": "code",
   "execution_count": 38,
   "metadata": {
    "scrolled": false
   },
   "outputs": [],
   "source": [
    "# for col in df.columns:\n",
    "#     print(col)"
   ]
  },
  {
   "cell_type": "code",
   "execution_count": 39,
   "metadata": {},
   "outputs": [],
   "source": [
    "# Переименуем поля:\n",
    "# passanger_Friend(s) -> passanger_Friend\n",
    "df = df.rename(columns={'passanger_Friend(s)': 'passanger_Friend'})\n",
    "# passanger_Kid(s) -> passanger_Kid\n",
    "df = df.rename(columns={'passanger_Kid(s)': 'passanger_Kid'})\n",
    "# coupon_Restaurant(20-50) -> coupon_Restaurant_20_50\n",
    "df = df.rename(columns={'coupon_Restaurant(20-50)': 'coupon_Restaurant_20_50'})\n",
    "# coupon_Restaurant(<20) -> coupon_Restaurant_less_20\n",
    "df = df.rename(columns={'coupon_Restaurant(<20)': 'coupon_Restaurant_less_20'})"
   ]
  },
  {
   "cell_type": "code",
   "execution_count": 40,
   "metadata": {},
   "outputs": [
    {
     "data": {
      "text/html": [
       "<div>\n",
       "<style scoped>\n",
       "    .dataframe tbody tr th:only-of-type {\n",
       "        vertical-align: middle;\n",
       "    }\n",
       "\n",
       "    .dataframe tbody tr th {\n",
       "        vertical-align: top;\n",
       "    }\n",
       "\n",
       "    .dataframe thead th {\n",
       "        text-align: right;\n",
       "    }\n",
       "</style>\n",
       "<table border=\"1\" class=\"dataframe\">\n",
       "  <thead>\n",
       "    <tr style=\"text-align: right;\">\n",
       "      <th></th>\n",
       "      <th>temperature</th>\n",
       "      <th>has_children</th>\n",
       "      <th>toCoupon_GEQ15min</th>\n",
       "      <th>toCoupon_GEQ25min</th>\n",
       "      <th>direction_same</th>\n",
       "      <th>direction_opp</th>\n",
       "      <th>Y</th>\n",
       "      <th>destination_Home</th>\n",
       "      <th>destination_No Urgent Place</th>\n",
       "      <th>destination_Work</th>\n",
       "      <th>...</th>\n",
       "      <th>RestaurantLessThan20_1~3</th>\n",
       "      <th>RestaurantLessThan20_4~8</th>\n",
       "      <th>RestaurantLessThan20_gt8</th>\n",
       "      <th>RestaurantLessThan20_less1</th>\n",
       "      <th>RestaurantLessThan20_never</th>\n",
       "      <th>Restaurant20To50_1~3</th>\n",
       "      <th>Restaurant20To50_4~8</th>\n",
       "      <th>Restaurant20To50_gt8</th>\n",
       "      <th>Restaurant20To50_less1</th>\n",
       "      <th>Restaurant20To50_never</th>\n",
       "    </tr>\n",
       "  </thead>\n",
       "  <tbody>\n",
       "    <tr>\n",
       "      <th>0</th>\n",
       "      <td>55</td>\n",
       "      <td>1</td>\n",
       "      <td>0</td>\n",
       "      <td>0</td>\n",
       "      <td>0</td>\n",
       "      <td>1</td>\n",
       "      <td>1</td>\n",
       "      <td>0</td>\n",
       "      <td>1</td>\n",
       "      <td>0</td>\n",
       "      <td>...</td>\n",
       "      <td>0</td>\n",
       "      <td>1</td>\n",
       "      <td>0</td>\n",
       "      <td>0</td>\n",
       "      <td>0</td>\n",
       "      <td>1</td>\n",
       "      <td>0</td>\n",
       "      <td>0</td>\n",
       "      <td>0</td>\n",
       "      <td>0</td>\n",
       "    </tr>\n",
       "    <tr>\n",
       "      <th>1</th>\n",
       "      <td>80</td>\n",
       "      <td>1</td>\n",
       "      <td>0</td>\n",
       "      <td>0</td>\n",
       "      <td>0</td>\n",
       "      <td>1</td>\n",
       "      <td>0</td>\n",
       "      <td>0</td>\n",
       "      <td>1</td>\n",
       "      <td>0</td>\n",
       "      <td>...</td>\n",
       "      <td>0</td>\n",
       "      <td>1</td>\n",
       "      <td>0</td>\n",
       "      <td>0</td>\n",
       "      <td>0</td>\n",
       "      <td>1</td>\n",
       "      <td>0</td>\n",
       "      <td>0</td>\n",
       "      <td>0</td>\n",
       "      <td>0</td>\n",
       "    </tr>\n",
       "    <tr>\n",
       "      <th>2</th>\n",
       "      <td>80</td>\n",
       "      <td>1</td>\n",
       "      <td>1</td>\n",
       "      <td>0</td>\n",
       "      <td>0</td>\n",
       "      <td>1</td>\n",
       "      <td>1</td>\n",
       "      <td>0</td>\n",
       "      <td>1</td>\n",
       "      <td>0</td>\n",
       "      <td>...</td>\n",
       "      <td>0</td>\n",
       "      <td>1</td>\n",
       "      <td>0</td>\n",
       "      <td>0</td>\n",
       "      <td>0</td>\n",
       "      <td>1</td>\n",
       "      <td>0</td>\n",
       "      <td>0</td>\n",
       "      <td>0</td>\n",
       "      <td>0</td>\n",
       "    </tr>\n",
       "    <tr>\n",
       "      <th>3</th>\n",
       "      <td>80</td>\n",
       "      <td>1</td>\n",
       "      <td>1</td>\n",
       "      <td>0</td>\n",
       "      <td>0</td>\n",
       "      <td>1</td>\n",
       "      <td>0</td>\n",
       "      <td>0</td>\n",
       "      <td>1</td>\n",
       "      <td>0</td>\n",
       "      <td>...</td>\n",
       "      <td>0</td>\n",
       "      <td>1</td>\n",
       "      <td>0</td>\n",
       "      <td>0</td>\n",
       "      <td>0</td>\n",
       "      <td>1</td>\n",
       "      <td>0</td>\n",
       "      <td>0</td>\n",
       "      <td>0</td>\n",
       "      <td>0</td>\n",
       "    </tr>\n",
       "    <tr>\n",
       "      <th>4</th>\n",
       "      <td>80</td>\n",
       "      <td>1</td>\n",
       "      <td>1</td>\n",
       "      <td>0</td>\n",
       "      <td>0</td>\n",
       "      <td>1</td>\n",
       "      <td>0</td>\n",
       "      <td>0</td>\n",
       "      <td>1</td>\n",
       "      <td>0</td>\n",
       "      <td>...</td>\n",
       "      <td>0</td>\n",
       "      <td>1</td>\n",
       "      <td>0</td>\n",
       "      <td>0</td>\n",
       "      <td>0</td>\n",
       "      <td>1</td>\n",
       "      <td>0</td>\n",
       "      <td>0</td>\n",
       "      <td>0</td>\n",
       "      <td>0</td>\n",
       "    </tr>\n",
       "  </tbody>\n",
       "</table>\n",
       "<p>5 rows × 109 columns</p>\n",
       "</div>"
      ],
      "text/plain": [
       "   temperature  has_children  toCoupon_GEQ15min  toCoupon_GEQ25min  \\\n",
       "0           55             1                  0                  0   \n",
       "1           80             1                  0                  0   \n",
       "2           80             1                  1                  0   \n",
       "3           80             1                  1                  0   \n",
       "4           80             1                  1                  0   \n",
       "\n",
       "   direction_same  direction_opp  Y  destination_Home  \\\n",
       "0               0              1  1                 0   \n",
       "1               0              1  0                 0   \n",
       "2               0              1  1                 0   \n",
       "3               0              1  0                 0   \n",
       "4               0              1  0                 0   \n",
       "\n",
       "   destination_No Urgent Place  destination_Work  ...  \\\n",
       "0                            1                 0  ...   \n",
       "1                            1                 0  ...   \n",
       "2                            1                 0  ...   \n",
       "3                            1                 0  ...   \n",
       "4                            1                 0  ...   \n",
       "\n",
       "   RestaurantLessThan20_1~3  RestaurantLessThan20_4~8  \\\n",
       "0                         0                         1   \n",
       "1                         0                         1   \n",
       "2                         0                         1   \n",
       "3                         0                         1   \n",
       "4                         0                         1   \n",
       "\n",
       "   RestaurantLessThan20_gt8  RestaurantLessThan20_less1  \\\n",
       "0                         0                           0   \n",
       "1                         0                           0   \n",
       "2                         0                           0   \n",
       "3                         0                           0   \n",
       "4                         0                           0   \n",
       "\n",
       "   RestaurantLessThan20_never  Restaurant20To50_1~3  Restaurant20To50_4~8  \\\n",
       "0                           0                     1                     0   \n",
       "1                           0                     1                     0   \n",
       "2                           0                     1                     0   \n",
       "3                           0                     1                     0   \n",
       "4                           0                     1                     0   \n",
       "\n",
       "   Restaurant20To50_gt8  Restaurant20To50_less1  Restaurant20To50_never  \n",
       "0                     0                       0                       0  \n",
       "1                     0                       0                       0  \n",
       "2                     0                       0                       0  \n",
       "3                     0                       0                       0  \n",
       "4                     0                       0                       0  \n",
       "\n",
       "[5 rows x 109 columns]"
      ]
     },
     "execution_count": 40,
     "metadata": {},
     "output_type": "execute_result"
    }
   ],
   "source": [
    "df.head()"
   ]
  },
  {
   "cell_type": "code",
   "execution_count": 41,
   "metadata": {},
   "outputs": [
    {
     "data": {
      "text/html": [
       "<div>\n",
       "<style scoped>\n",
       "    .dataframe tbody tr th:only-of-type {\n",
       "        vertical-align: middle;\n",
       "    }\n",
       "\n",
       "    .dataframe tbody tr th {\n",
       "        vertical-align: top;\n",
       "    }\n",
       "\n",
       "    .dataframe thead th {\n",
       "        text-align: right;\n",
       "    }\n",
       "</style>\n",
       "<table border=\"1\" class=\"dataframe\">\n",
       "  <thead>\n",
       "    <tr style=\"text-align: right;\">\n",
       "      <th></th>\n",
       "      <th>temperature</th>\n",
       "      <th>has_children</th>\n",
       "      <th>toCoupon_GEQ15min</th>\n",
       "      <th>toCoupon_GEQ25min</th>\n",
       "      <th>direction_same</th>\n",
       "      <th>direction_opp</th>\n",
       "    </tr>\n",
       "  </thead>\n",
       "  <tbody>\n",
       "    <tr>\n",
       "      <th>0</th>\n",
       "      <td>55</td>\n",
       "      <td>1</td>\n",
       "      <td>0</td>\n",
       "      <td>0</td>\n",
       "      <td>0</td>\n",
       "      <td>1</td>\n",
       "    </tr>\n",
       "    <tr>\n",
       "      <th>1</th>\n",
       "      <td>80</td>\n",
       "      <td>1</td>\n",
       "      <td>0</td>\n",
       "      <td>0</td>\n",
       "      <td>0</td>\n",
       "      <td>1</td>\n",
       "    </tr>\n",
       "    <tr>\n",
       "      <th>2</th>\n",
       "      <td>80</td>\n",
       "      <td>1</td>\n",
       "      <td>1</td>\n",
       "      <td>0</td>\n",
       "      <td>0</td>\n",
       "      <td>1</td>\n",
       "    </tr>\n",
       "  </tbody>\n",
       "</table>\n",
       "</div>"
      ],
      "text/plain": [
       "   temperature  has_children  toCoupon_GEQ15min  toCoupon_GEQ25min  \\\n",
       "0           55             1                  0                  0   \n",
       "1           80             1                  0                  0   \n",
       "2           80             1                  1                  0   \n",
       "\n",
       "   direction_same  direction_opp  \n",
       "0               0              1  \n",
       "1               0              1  \n",
       "2               0              1  "
      ]
     },
     "execution_count": 41,
     "metadata": {},
     "output_type": "execute_result"
    }
   ],
   "source": [
    "df[col_names].head(3)"
   ]
  },
  {
   "cell_type": "markdown",
   "metadata": {},
   "source": [
    "# 3 Задание"
   ]
  },
  {
   "cell_type": "markdown",
   "metadata": {},
   "source": [
    "обучить любой классификатор (какой вам нравится)"
   ]
  },
  {
   "cell_type": "markdown",
   "metadata": {},
   "source": [
    "Разбиваем выборку на тренировочную и тестовую части и обучаем модель (градиентный бустинг)"
   ]
  },
  {
   "cell_type": "code",
   "execution_count": 42,
   "metadata": {},
   "outputs": [],
   "source": [
    "from sklearn.model_selection import train_test_split"
   ]
  },
  {
   "cell_type": "code",
   "execution_count": 43,
   "metadata": {},
   "outputs": [],
   "source": [
    "#разделим данные на train/test\n",
    "x_data = df.drop('Y', axis=1)\n",
    "y_data = df['Y']\n",
    "\n",
    "X_train, X_test, y_train, y_test = train_test_split(x_data, y_data, test_size=0.2, random_state=7)"
   ]
  },
  {
   "cell_type": "code",
   "execution_count": 44,
   "metadata": {},
   "outputs": [],
   "source": [
    "# for col in X_train.columns:\n",
    "#     print(col)"
   ]
  },
  {
   "cell_type": "code",
   "execution_count": 45,
   "metadata": {},
   "outputs": [
    {
     "name": "stdout",
     "output_type": "stream",
     "text": [
      "[00:03:08] WARNING: C:/Users/Administrator/workspace/xgboost-win64_release_1.3.0/src/learner.cc:1061: Starting in XGBoost 1.3.0, the default evaluation metric used with the objective 'binary:logistic' was changed from 'error' to 'logloss'. Explicitly set eval_metric if you'd like to restore the old behavior.\n"
     ]
    }
   ],
   "source": [
    "import xgboost as xgb\n",
    "\n",
    "model = xgb.XGBClassifier()\n",
    "\n",
    "model.fit(X_train, y_train)\n",
    "y_predict = model.predict(X_test)"
   ]
  },
  {
   "cell_type": "markdown",
   "metadata": {},
   "source": [
    "Проверяем качество"
   ]
  },
  {
   "cell_type": "code",
   "execution_count": 46,
   "metadata": {},
   "outputs": [],
   "source": [
    "from sklearn.metrics import recall_score, precision_score, roc_auc_score, accuracy_score, f1_score\n",
    "\n",
    "def evaluate_results(y_test, y_predict):\n",
    "    print('Classification results:')\n",
    "    f1 = f1_score(y_test, y_predict)\n",
    "    print(\"f1: %.2f%%\" % (f1 * 100.0)) \n",
    "    roc = roc_auc_score(y_test, y_predict)\n",
    "    print(\"roc: %.2f%%\" % (roc * 100.0)) \n",
    "    rec = recall_score(y_test, y_predict, average='binary')\n",
    "    print(\"recall: %.2f%%\" % (rec * 100.0)) \n",
    "    prc = precision_score(y_test, y_predict, average='binary')\n",
    "    print(\"precision: %.2f%%\" % (prc * 100.0)) \n",
    "    \n",
    "    return f1, roc, rec, prc"
   ]
  },
  {
   "cell_type": "code",
   "execution_count": 47,
   "metadata": {},
   "outputs": [],
   "source": [
    "models_results = {\n",
    "    'model': [],\n",
    "    'f-score': [],\n",
    "    'roc': [],\n",
    "    'recall': [],\n",
    "    'precision': [],\n",
    "    'positives_marked %': []\n",
    "}"
   ]
  },
  {
   "cell_type": "code",
   "execution_count": 48,
   "metadata": {},
   "outputs": [
    {
     "name": "stdout",
     "output_type": "stream",
     "text": [
      "Classification results:\n",
      "f1: 80.62%\n",
      "roc: 76.19%\n",
      "recall: 83.15%\n",
      "precision: 78.23%\n"
     ]
    }
   ],
   "source": [
    "from math import nan\n",
    "positives_marked = nan\n",
    "\n",
    "f1, roc, rec, prc = evaluate_results(y_test, y_predict)\n",
    "\n",
    "models_results['model'].append('XGBClassifier')\n",
    "models_results['f-score'].append(f1)\n",
    "models_results['roc'].append(roc)\n",
    "models_results['recall'].append(rec)\n",
    "models_results['precision'].append(prc)\n",
    "models_results['positives_marked %'].append(positives_marked)"
   ]
  },
  {
   "cell_type": "code",
   "execution_count": 49,
   "metadata": {},
   "outputs": [],
   "source": [
    "# y_predict.value_counts()  # Количество различных значений признака 'Y'\n",
    "# type(y_predict)\n",
    "# np.unique(y_predict)\n",
    "# y_predict"
   ]
  },
  {
   "cell_type": "code",
   "execution_count": 50,
   "metadata": {},
   "outputs": [
    {
     "name": "stdout",
     "output_type": "stream",
     "text": [
      "[(0, 998), (1, 1539)]\n"
     ]
    }
   ],
   "source": [
    "import itertools\n",
    "\n",
    "X = y_predict\n",
    "num = [(x, len(list(y))) for x, y in itertools.groupby(sorted(X))]\n",
    "print(num)"
   ]
  },
  {
   "cell_type": "code",
   "execution_count": 51,
   "metadata": {},
   "outputs": [],
   "source": [
    "# from itertools import groupby\n",
    "\n",
    "# things = [(\"animal\", \"bear\"), (\"animal\", \"duck\"), (\"plant\", \"cactus\"), (\"vehicle\", \"speed boat\"), (\"vehicle\", \"school bus\")]\n",
    "\n",
    "# for key, group in groupby(things, lambda x: x[0]):\n",
    "#     for thing in group:\n",
    "#         print(\"A %s is a %s.\" % (thing[1], key))\n",
    "#     print(\"\")\n",
    "\n",
    "# for key, group in groupby(things, lambda x: x[0]):\n",
    "#     listOfThings = \" and \".join([thing[1] for thing in group])\n",
    "#     print(key + \"s:  \" + listOfThings + \".\")"
   ]
  },
  {
   "cell_type": "code",
   "execution_count": null,
   "metadata": {},
   "outputs": [],
   "source": []
  },
  {
   "cell_type": "markdown",
   "metadata": {},
   "source": [
    "# 4 Задание"
   ]
  },
  {
   "cell_type": "markdown",
   "metadata": {},
   "source": [
    "далее разделить ваш набор данных на два множества: P (positives) и U (unlabeled). Причем брать нужно не все положительные (класс 1) примеры, а только лишь часть"
   ]
  },
  {
   "cell_type": "markdown",
   "metadata": {},
   "source": [
    "### Positive Unlabeled Learning (задача lookalike)"
   ]
  },
  {
   "cell_type": "markdown",
   "metadata": {},
   "source": [
    "Представим, что нам неизвестны негативы и часть позитивов"
   ]
  },
  {
   "cell_type": "code",
   "execution_count": 52,
   "metadata": {},
   "outputs": [
    {
     "data": {
      "text/html": [
       "<div>\n",
       "<style scoped>\n",
       "    .dataframe tbody tr th:only-of-type {\n",
       "        vertical-align: middle;\n",
       "    }\n",
       "\n",
       "    .dataframe tbody tr th {\n",
       "        vertical-align: top;\n",
       "    }\n",
       "\n",
       "    .dataframe thead th {\n",
       "        text-align: right;\n",
       "    }\n",
       "</style>\n",
       "<table border=\"1\" class=\"dataframe\">\n",
       "  <thead>\n",
       "    <tr style=\"text-align: right;\">\n",
       "      <th></th>\n",
       "      <th>temperature</th>\n",
       "      <th>has_children</th>\n",
       "      <th>toCoupon_GEQ15min</th>\n",
       "      <th>toCoupon_GEQ25min</th>\n",
       "      <th>direction_same</th>\n",
       "      <th>direction_opp</th>\n",
       "      <th>Y</th>\n",
       "      <th>destination_Home</th>\n",
       "      <th>destination_No Urgent Place</th>\n",
       "      <th>destination_Work</th>\n",
       "      <th>...</th>\n",
       "      <th>RestaurantLessThan20_1~3</th>\n",
       "      <th>RestaurantLessThan20_4~8</th>\n",
       "      <th>RestaurantLessThan20_gt8</th>\n",
       "      <th>RestaurantLessThan20_less1</th>\n",
       "      <th>RestaurantLessThan20_never</th>\n",
       "      <th>Restaurant20To50_1~3</th>\n",
       "      <th>Restaurant20To50_4~8</th>\n",
       "      <th>Restaurant20To50_gt8</th>\n",
       "      <th>Restaurant20To50_less1</th>\n",
       "      <th>Restaurant20To50_never</th>\n",
       "    </tr>\n",
       "  </thead>\n",
       "  <tbody>\n",
       "    <tr>\n",
       "      <th>0</th>\n",
       "      <td>55</td>\n",
       "      <td>1</td>\n",
       "      <td>0</td>\n",
       "      <td>0</td>\n",
       "      <td>0</td>\n",
       "      <td>1</td>\n",
       "      <td>1</td>\n",
       "      <td>0</td>\n",
       "      <td>1</td>\n",
       "      <td>0</td>\n",
       "      <td>...</td>\n",
       "      <td>0</td>\n",
       "      <td>1</td>\n",
       "      <td>0</td>\n",
       "      <td>0</td>\n",
       "      <td>0</td>\n",
       "      <td>1</td>\n",
       "      <td>0</td>\n",
       "      <td>0</td>\n",
       "      <td>0</td>\n",
       "      <td>0</td>\n",
       "    </tr>\n",
       "    <tr>\n",
       "      <th>1</th>\n",
       "      <td>80</td>\n",
       "      <td>1</td>\n",
       "      <td>0</td>\n",
       "      <td>0</td>\n",
       "      <td>0</td>\n",
       "      <td>1</td>\n",
       "      <td>0</td>\n",
       "      <td>0</td>\n",
       "      <td>1</td>\n",
       "      <td>0</td>\n",
       "      <td>...</td>\n",
       "      <td>0</td>\n",
       "      <td>1</td>\n",
       "      <td>0</td>\n",
       "      <td>0</td>\n",
       "      <td>0</td>\n",
       "      <td>1</td>\n",
       "      <td>0</td>\n",
       "      <td>0</td>\n",
       "      <td>0</td>\n",
       "      <td>0</td>\n",
       "    </tr>\n",
       "    <tr>\n",
       "      <th>2</th>\n",
       "      <td>80</td>\n",
       "      <td>1</td>\n",
       "      <td>1</td>\n",
       "      <td>0</td>\n",
       "      <td>0</td>\n",
       "      <td>1</td>\n",
       "      <td>1</td>\n",
       "      <td>0</td>\n",
       "      <td>1</td>\n",
       "      <td>0</td>\n",
       "      <td>...</td>\n",
       "      <td>0</td>\n",
       "      <td>1</td>\n",
       "      <td>0</td>\n",
       "      <td>0</td>\n",
       "      <td>0</td>\n",
       "      <td>1</td>\n",
       "      <td>0</td>\n",
       "      <td>0</td>\n",
       "      <td>0</td>\n",
       "      <td>0</td>\n",
       "    </tr>\n",
       "  </tbody>\n",
       "</table>\n",
       "<p>3 rows × 109 columns</p>\n",
       "</div>"
      ],
      "text/plain": [
       "   temperature  has_children  toCoupon_GEQ15min  toCoupon_GEQ25min  \\\n",
       "0           55             1                  0                  0   \n",
       "1           80             1                  0                  0   \n",
       "2           80             1                  1                  0   \n",
       "\n",
       "   direction_same  direction_opp  Y  destination_Home  \\\n",
       "0               0              1  1                 0   \n",
       "1               0              1  0                 0   \n",
       "2               0              1  1                 0   \n",
       "\n",
       "   destination_No Urgent Place  destination_Work  ...  \\\n",
       "0                            1                 0  ...   \n",
       "1                            1                 0  ...   \n",
       "2                            1                 0  ...   \n",
       "\n",
       "   RestaurantLessThan20_1~3  RestaurantLessThan20_4~8  \\\n",
       "0                         0                         1   \n",
       "1                         0                         1   \n",
       "2                         0                         1   \n",
       "\n",
       "   RestaurantLessThan20_gt8  RestaurantLessThan20_less1  \\\n",
       "0                         0                           0   \n",
       "1                         0                           0   \n",
       "2                         0                           0   \n",
       "\n",
       "   RestaurantLessThan20_never  Restaurant20To50_1~3  Restaurant20To50_4~8  \\\n",
       "0                           0                     1                     0   \n",
       "1                           0                     1                     0   \n",
       "2                           0                     1                     0   \n",
       "\n",
       "   Restaurant20To50_gt8  Restaurant20To50_less1  Restaurant20To50_never  \n",
       "0                     0                       0                       0  \n",
       "1                     0                       0                       0  \n",
       "2                     0                       0                       0  \n",
       "\n",
       "[3 rows x 109 columns]"
      ]
     },
     "execution_count": 52,
     "metadata": {},
     "output_type": "execute_result"
    }
   ],
   "source": [
    "mod_data = df.copy()\n",
    "mod_data.head(3)"
   ]
  },
  {
   "cell_type": "code",
   "execution_count": 53,
   "metadata": {},
   "outputs": [],
   "source": [
    "mod_data.iloc[:,-1].values\n",
    "# mod_data['Y'].values\n",
    "\n",
    "#get the indices of the positives samples\n",
    "pos_ind = np.where(mod_data['Y'].values == 1)[0]\n",
    "# pos_ind\n",
    "\n",
    "# Y\n",
    "# - 1 7210\n",
    "# - 0 5474"
   ]
  },
  {
   "cell_type": "code",
   "execution_count": 119,
   "metadata": {},
   "outputs": [
    {
     "name": "stdout",
     "output_type": "stream",
     "text": [
      "Using 3966/7210 as positives and unlabeling the rest\n"
     ]
    }
   ],
   "source": [
    "# shuffle\n",
    "# тасовать (shuffle, make, riffle)\n",
    "# перемешивать (mix, jumble, agitate, medley, shuffle, intermix)\n",
    "# изворачиваться (dodge, shift, shuffle)Using 1803/7210 as positives and unlabeling the rest\n",
    "\n",
    "#shuffle them\n",
    "np.random.shuffle(pos_ind)\n",
    "\n",
    "positives_marked = 0.25  # leave just 25% of the positives marked\n",
    "# positives_marked = 0.35  # leave just 35% of the positives marked\n",
    "# positives_marked = 0.45  # leave just 45% of the positives marked\n",
    "# positives_marked = 0.15  # leave just 15% of the positives marked\n",
    "# positives_marked = 0.05  # leave just 5% of the positives marked\n",
    "# positives_marked = 0.20  # leave just 20% of the positives marked\n",
    "# positives_marked = 0.10  # leave just 10% of the positives marked\n",
    "# positives_marked = 0.135  # leave just 13.5% of the positives marked\n",
    "# positives_marked = 0.55  # leave just 55% of the positives marked\n",
    "\n",
    "# pos_sample_len = int(np.ceil(0.25 * len(pos_ind)))\n",
    "pos_sample_len = int(np.ceil(positives_marked * len(pos_ind)))\n",
    "print(f'Using {pos_sample_len}/{len(pos_ind)} as positives and unlabeling the rest')\n",
    "pos_sample = pos_ind[:pos_sample_len]\n",
    "\n",
    "# Использование 1803/7210 в качестве положительных результатов и снятие маркировки с остальных"
   ]
  },
  {
   "cell_type": "markdown",
   "metadata": {},
   "source": [
    "Создаем столбец для новой целевой переменной, где у нас два класса - P (1) и U (-1)"
   ]
  },
  {
   "cell_type": "code",
   "execution_count": 120,
   "metadata": {},
   "outputs": [
    {
     "name": "stdout",
     "output_type": "stream",
     "text": [
      "target variable:\n",
      " -1    8718\n",
      " 1    3966\n",
      "Name: class_test, dtype: int64\n"
     ]
    }
   ],
   "source": [
    "mod_data['class_test'] = -1\n",
    "mod_data.loc[pos_sample,'class_test'] = 1\n",
    "print('target variable:\\n', mod_data.iloc[:,-1].value_counts())\n",
    "# mod_data['class_test'].head(3)"
   ]
  },
  {
   "cell_type": "markdown",
   "metadata": {},
   "source": [
    "* We now have just 1803 positive samples labeled as 1 in the 'class_test' col while the rest is unlabeled as -1."
   ]
  },
  {
   "cell_type": "markdown",
   "metadata": {},
   "source": [
    "* Recall that col 'Y' still holds the actual label"
   ]
  },
  {
   "cell_type": "markdown",
   "metadata": {},
   "source": [
    "Remember that this data frame (x_data) includes the former target variable that we keep here just to compare the results\n",
    "\n",
    "[:-2] is the original class label for positive and negative data [:-1] is the new class for positive and unlabeled data"
   ]
  },
  {
   "cell_type": "code",
   "execution_count": 121,
   "metadata": {},
   "outputs": [],
   "source": [
    "x_data = mod_data.drop(['Y', 'class_test'], axis=1) # just the X \n",
    "# x_data.head(3)\n",
    "y_labeled = mod_data['Y'].values # new class (just the P & U)\n",
    "# y_labeled[:3]\n",
    "y_positive = mod_data['class_test'].values # original class\n",
    "# y_positive[:3]"
   ]
  },
  {
   "cell_type": "markdown",
   "metadata": {},
   "source": [
    "# 5 Задание"
   ]
  },
  {
   "cell_type": "markdown",
   "metadata": {},
   "source": [
    "применить random negative sampling для построения классификатора в новых условиях"
   ]
  },
  {
   "cell_type": "markdown",
   "metadata": {},
   "source": [
    "### 1. random negative sampling"
   ]
  },
  {
   "cell_type": "code",
   "execution_count": 122,
   "metadata": {},
   "outputs": [
    {
     "name": "stdout",
     "output_type": "stream",
     "text": [
      "(3966, 110) (3966, 110)\n"
     ]
    }
   ],
   "source": [
    "mod_data = mod_data.sample(frac=1)\n",
    "neg_sample = mod_data[mod_data['class_test']==-1][:len(mod_data[mod_data['class_test']==1])]\n",
    "sample_test = mod_data[mod_data['class_test']==-1][len(mod_data[mod_data['class_test']==1]):]\n",
    "pos_sample = mod_data[mod_data['class_test']==1]\n",
    "print(neg_sample.shape, pos_sample.shape)\n",
    "sample_train = pd.concat([neg_sample, pos_sample]).sample(frac=1)\n",
    "# sample_train.head(3)\n",
    "# sample_train.iloc[:,-2].values\n",
    "# sample_test.iloc[:,:-2].values"
   ]
  },
  {
   "cell_type": "code",
   "execution_count": 123,
   "metadata": {},
   "outputs": [
    {
     "name": "stdout",
     "output_type": "stream",
     "text": [
      "[00:05:57] WARNING: C:/Users/Administrator/workspace/xgboost-win64_release_1.3.0/src/learner.cc:1061: Starting in XGBoost 1.3.0, the default evaluation metric used with the objective 'binary:logistic' was changed from 'error' to 'logloss'. Explicitly set eval_metric if you'd like to restore the old behavior.\n"
     ]
    }
   ],
   "source": [
    "model = xgb.XGBClassifier()\n",
    "\n",
    "# model.fit(sample_train.iloc[:,:-2].values, \n",
    "#           sample_train.iloc[:,-2].values)\n",
    "# y_predict = model.predict(sample_test.iloc[:,:-2].values)\n",
    "# evaluate_results(sample_test.iloc[:,-2].values, y_predict)\n",
    "\n",
    "model.fit(sample_train.drop(['Y', 'class_test'], axis=1).values, \n",
    "          sample_train['Y'].values)\n",
    "y_predict = model.predict(sample_test.drop(['Y', 'class_test'], axis=1).values)\n",
    "# evaluate_results(sample_test['Y'].values, y_predict)"
   ]
  },
  {
   "cell_type": "code",
   "execution_count": 124,
   "metadata": {},
   "outputs": [
    {
     "name": "stdout",
     "output_type": "stream",
     "text": [
      "Classification results:\n",
      "f1: 67.19%\n",
      "roc: 71.41%\n",
      "recall: 88.77%\n",
      "precision: 54.05%\n",
      "positives_marked: 55.00000000000001%\n"
     ]
    }
   ],
   "source": [
    "f1, roc, rec, prc = evaluate_results(sample_test['Y'].values, y_predict)\n",
    "\n",
    "models_results['model'].append('random negative sampling')\n",
    "models_results['f-score'].append(f1)\n",
    "models_results['roc'].append(roc)\n",
    "models_results['recall'].append(rec)\n",
    "models_results['precision'].append(prc)\n",
    "models_results['positives_marked %'].append(positives_marked)\n",
    "print(f'positives_marked: {positives_marked *100}%')"
   ]
  },
  {
   "cell_type": "markdown",
   "metadata": {},
   "source": [
    "# 6 Задание"
   ]
  },
  {
   "cell_type": "markdown",
   "metadata": {},
   "source": [
    "сравнить качество с решением из пункта 4 (построить отчет - таблицу метрик)"
   ]
  },
  {
   "cell_type": "markdown",
   "metadata": {},
   "source": [
    "Пункт 3:<br>\n",
    "Classification results:\n",
    "- f1: 80.62%\n",
    "- roc: 76.19%\n",
    "- recall: 83.15%\n",
    "- precision: 78.23%"
   ]
  },
  {
   "cell_type": "markdown",
   "metadata": {},
   "source": [
    "Пункт 5:<br>\n",
    "- Classification results:\n",
    "- f1: 73.039%\n",
    "- roc: 66.70%\n",
    "- recall: 91.83%\n",
    "- precision: 60.63%\n",
    "- positives_marked: 25.0%"
   ]
  },
  {
   "cell_type": "code",
   "execution_count": 60,
   "metadata": {},
   "outputs": [
    {
     "data": {
      "text/html": [
       "<div>\n",
       "<style scoped>\n",
       "    .dataframe tbody tr th:only-of-type {\n",
       "        vertical-align: middle;\n",
       "    }\n",
       "\n",
       "    .dataframe tbody tr th {\n",
       "        vertical-align: top;\n",
       "    }\n",
       "\n",
       "    .dataframe thead th {\n",
       "        text-align: right;\n",
       "    }\n",
       "</style>\n",
       "<table border=\"1\" class=\"dataframe\">\n",
       "  <thead>\n",
       "    <tr style=\"text-align: right;\">\n",
       "      <th></th>\n",
       "      <th>model</th>\n",
       "      <th>f-score</th>\n",
       "      <th>roc</th>\n",
       "      <th>recall</th>\n",
       "      <th>precision</th>\n",
       "      <th>positives_marked %</th>\n",
       "    </tr>\n",
       "  </thead>\n",
       "  <tbody>\n",
       "    <tr>\n",
       "      <th>0</th>\n",
       "      <td>XGBClassifier</td>\n",
       "      <td>0.806160</td>\n",
       "      <td>0.761935</td>\n",
       "      <td>0.831492</td>\n",
       "      <td>0.782326</td>\n",
       "      <td>NaN</td>\n",
       "    </tr>\n",
       "    <tr>\n",
       "      <th>1</th>\n",
       "      <td>random negative sampling</td>\n",
       "      <td>0.730395</td>\n",
       "      <td>0.667010</td>\n",
       "      <td>0.918317</td>\n",
       "      <td>0.606319</td>\n",
       "      <td>0.25</td>\n",
       "    </tr>\n",
       "  </tbody>\n",
       "</table>\n",
       "</div>"
      ],
      "text/plain": [
       "                      model   f-score       roc    recall  precision  \\\n",
       "0             XGBClassifier  0.806160  0.761935  0.831492   0.782326   \n",
       "1  random negative sampling  0.730395  0.667010  0.918317   0.606319   \n",
       "\n",
       "   positives_marked %  \n",
       "0                 NaN  \n",
       "1                0.25  "
      ]
     },
     "execution_count": 60,
     "metadata": {},
     "output_type": "execute_result"
    }
   ],
   "source": [
    "pd.DataFrame(data=models_results).sort_values('f-score', ascending=False)"
   ]
  },
  {
   "cell_type": "markdown",
   "metadata": {},
   "source": [
    "# 7 Задание"
   ]
  },
  {
   "cell_type": "markdown",
   "metadata": {},
   "source": [
    "поэкспериментировать с долей P на шаге 5 (как будет меняться качество модели при уменьшении/увеличении размера P)"
   ]
  },
  {
   "cell_type": "code",
   "execution_count": 125,
   "metadata": {},
   "outputs": [
    {
     "data": {
      "text/html": [
       "<div>\n",
       "<style scoped>\n",
       "    .dataframe tbody tr th:only-of-type {\n",
       "        vertical-align: middle;\n",
       "    }\n",
       "\n",
       "    .dataframe tbody tr th {\n",
       "        vertical-align: top;\n",
       "    }\n",
       "\n",
       "    .dataframe thead th {\n",
       "        text-align: right;\n",
       "    }\n",
       "</style>\n",
       "<table border=\"1\" class=\"dataframe\">\n",
       "  <thead>\n",
       "    <tr style=\"text-align: right;\">\n",
       "      <th></th>\n",
       "      <th>model</th>\n",
       "      <th>f-score</th>\n",
       "      <th>roc</th>\n",
       "      <th>recall</th>\n",
       "      <th>precision</th>\n",
       "      <th>positives_marked %</th>\n",
       "    </tr>\n",
       "  </thead>\n",
       "  <tbody>\n",
       "    <tr>\n",
       "      <th>0</th>\n",
       "      <td>XGBClassifier</td>\n",
       "      <td>0.806160</td>\n",
       "      <td>0.761935</td>\n",
       "      <td>0.831492</td>\n",
       "      <td>0.782326</td>\n",
       "      <td>NaN</td>\n",
       "    </tr>\n",
       "    <tr>\n",
       "      <th>7</th>\n",
       "      <td>random negative sampling</td>\n",
       "      <td>0.738669</td>\n",
       "      <td>0.624145</td>\n",
       "      <td>0.912424</td>\n",
       "      <td>0.620505</td>\n",
       "      <td>0.100</td>\n",
       "    </tr>\n",
       "    <tr>\n",
       "      <th>8</th>\n",
       "      <td>random negative sampling</td>\n",
       "      <td>0.737561</td>\n",
       "      <td>0.634857</td>\n",
       "      <td>0.918493</td>\n",
       "      <td>0.616181</td>\n",
       "      <td>0.135</td>\n",
       "    </tr>\n",
       "    <tr>\n",
       "      <th>4</th>\n",
       "      <td>random negative sampling</td>\n",
       "      <td>0.737536</td>\n",
       "      <td>0.640923</td>\n",
       "      <td>0.918592</td>\n",
       "      <td>0.616102</td>\n",
       "      <td>0.150</td>\n",
       "    </tr>\n",
       "    <tr>\n",
       "      <th>6</th>\n",
       "      <td>random negative sampling</td>\n",
       "      <td>0.735405</td>\n",
       "      <td>0.655582</td>\n",
       "      <td>0.917314</td>\n",
       "      <td>0.613703</td>\n",
       "      <td>0.200</td>\n",
       "    </tr>\n",
       "    <tr>\n",
       "      <th>1</th>\n",
       "      <td>random negative sampling</td>\n",
       "      <td>0.730395</td>\n",
       "      <td>0.667010</td>\n",
       "      <td>0.918317</td>\n",
       "      <td>0.606319</td>\n",
       "      <td>0.250</td>\n",
       "    </tr>\n",
       "    <tr>\n",
       "      <th>5</th>\n",
       "      <td>random negative sampling</td>\n",
       "      <td>0.730737</td>\n",
       "      <td>0.586320</td>\n",
       "      <td>0.921513</td>\n",
       "      <td>0.605404</td>\n",
       "      <td>0.050</td>\n",
       "    </tr>\n",
       "    <tr>\n",
       "      <th>2</th>\n",
       "      <td>random negative sampling</td>\n",
       "      <td>0.717573</td>\n",
       "      <td>0.688216</td>\n",
       "      <td>0.901388</td>\n",
       "      <td>0.596028</td>\n",
       "      <td>0.350</td>\n",
       "    </tr>\n",
       "    <tr>\n",
       "      <th>3</th>\n",
       "      <td>random negative sampling</td>\n",
       "      <td>0.708439</td>\n",
       "      <td>0.713611</td>\n",
       "      <td>0.908050</td>\n",
       "      <td>0.580771</td>\n",
       "      <td>0.450</td>\n",
       "    </tr>\n",
       "    <tr>\n",
       "      <th>9</th>\n",
       "      <td>random negative sampling</td>\n",
       "      <td>0.671859</td>\n",
       "      <td>0.714138</td>\n",
       "      <td>0.887653</td>\n",
       "      <td>0.540467</td>\n",
       "      <td>0.550</td>\n",
       "    </tr>\n",
       "  </tbody>\n",
       "</table>\n",
       "</div>"
      ],
      "text/plain": [
       "                      model   f-score       roc    recall  precision  \\\n",
       "0             XGBClassifier  0.806160  0.761935  0.831492   0.782326   \n",
       "7  random negative sampling  0.738669  0.624145  0.912424   0.620505   \n",
       "8  random negative sampling  0.737561  0.634857  0.918493   0.616181   \n",
       "4  random negative sampling  0.737536  0.640923  0.918592   0.616102   \n",
       "6  random negative sampling  0.735405  0.655582  0.917314   0.613703   \n",
       "1  random negative sampling  0.730395  0.667010  0.918317   0.606319   \n",
       "5  random negative sampling  0.730737  0.586320  0.921513   0.605404   \n",
       "2  random negative sampling  0.717573  0.688216  0.901388   0.596028   \n",
       "3  random negative sampling  0.708439  0.713611  0.908050   0.580771   \n",
       "9  random negative sampling  0.671859  0.714138  0.887653   0.540467   \n",
       "\n",
       "   positives_marked %  \n",
       "0                 NaN  \n",
       "7               0.100  \n",
       "8               0.135  \n",
       "4               0.150  \n",
       "6               0.200  \n",
       "1               0.250  \n",
       "5               0.050  \n",
       "2               0.350  \n",
       "3               0.450  \n",
       "9               0.550  "
      ]
     },
     "execution_count": 125,
     "metadata": {},
     "output_type": "execute_result"
    }
   ],
   "source": [
    "pd.DataFrame(data=models_results).sort_values('precision', ascending=False)"
   ]
  },
  {
   "cell_type": "code",
   "execution_count": 126,
   "metadata": {},
   "outputs": [
    {
     "data": {
      "text/html": [
       "<div>\n",
       "<style scoped>\n",
       "    .dataframe tbody tr th:only-of-type {\n",
       "        vertical-align: middle;\n",
       "    }\n",
       "\n",
       "    .dataframe tbody tr th {\n",
       "        vertical-align: top;\n",
       "    }\n",
       "\n",
       "    .dataframe thead th {\n",
       "        text-align: right;\n",
       "    }\n",
       "</style>\n",
       "<table border=\"1\" class=\"dataframe\">\n",
       "  <thead>\n",
       "    <tr style=\"text-align: right;\">\n",
       "      <th></th>\n",
       "      <th>model</th>\n",
       "      <th>f-score</th>\n",
       "      <th>roc</th>\n",
       "      <th>recall</th>\n",
       "      <th>precision</th>\n",
       "      <th>positives_marked %</th>\n",
       "    </tr>\n",
       "  </thead>\n",
       "  <tbody>\n",
       "    <tr>\n",
       "      <th>0</th>\n",
       "      <td>XGBClassifier</td>\n",
       "      <td>0.806160</td>\n",
       "      <td>0.761935</td>\n",
       "      <td>0.831492</td>\n",
       "      <td>0.782326</td>\n",
       "      <td>NaN</td>\n",
       "    </tr>\n",
       "    <tr>\n",
       "      <th>9</th>\n",
       "      <td>random negative sampling</td>\n",
       "      <td>0.671859</td>\n",
       "      <td>0.714138</td>\n",
       "      <td>0.887653</td>\n",
       "      <td>0.540467</td>\n",
       "      <td>0.550</td>\n",
       "    </tr>\n",
       "    <tr>\n",
       "      <th>3</th>\n",
       "      <td>random negative sampling</td>\n",
       "      <td>0.708439</td>\n",
       "      <td>0.713611</td>\n",
       "      <td>0.908050</td>\n",
       "      <td>0.580771</td>\n",
       "      <td>0.450</td>\n",
       "    </tr>\n",
       "    <tr>\n",
       "      <th>2</th>\n",
       "      <td>random negative sampling</td>\n",
       "      <td>0.717573</td>\n",
       "      <td>0.688216</td>\n",
       "      <td>0.901388</td>\n",
       "      <td>0.596028</td>\n",
       "      <td>0.350</td>\n",
       "    </tr>\n",
       "    <tr>\n",
       "      <th>1</th>\n",
       "      <td>random negative sampling</td>\n",
       "      <td>0.730395</td>\n",
       "      <td>0.667010</td>\n",
       "      <td>0.918317</td>\n",
       "      <td>0.606319</td>\n",
       "      <td>0.250</td>\n",
       "    </tr>\n",
       "    <tr>\n",
       "      <th>6</th>\n",
       "      <td>random negative sampling</td>\n",
       "      <td>0.735405</td>\n",
       "      <td>0.655582</td>\n",
       "      <td>0.917314</td>\n",
       "      <td>0.613703</td>\n",
       "      <td>0.200</td>\n",
       "    </tr>\n",
       "    <tr>\n",
       "      <th>4</th>\n",
       "      <td>random negative sampling</td>\n",
       "      <td>0.737536</td>\n",
       "      <td>0.640923</td>\n",
       "      <td>0.918592</td>\n",
       "      <td>0.616102</td>\n",
       "      <td>0.150</td>\n",
       "    </tr>\n",
       "    <tr>\n",
       "      <th>8</th>\n",
       "      <td>random negative sampling</td>\n",
       "      <td>0.737561</td>\n",
       "      <td>0.634857</td>\n",
       "      <td>0.918493</td>\n",
       "      <td>0.616181</td>\n",
       "      <td>0.135</td>\n",
       "    </tr>\n",
       "    <tr>\n",
       "      <th>7</th>\n",
       "      <td>random negative sampling</td>\n",
       "      <td>0.738669</td>\n",
       "      <td>0.624145</td>\n",
       "      <td>0.912424</td>\n",
       "      <td>0.620505</td>\n",
       "      <td>0.100</td>\n",
       "    </tr>\n",
       "    <tr>\n",
       "      <th>5</th>\n",
       "      <td>random negative sampling</td>\n",
       "      <td>0.730737</td>\n",
       "      <td>0.586320</td>\n",
       "      <td>0.921513</td>\n",
       "      <td>0.605404</td>\n",
       "      <td>0.050</td>\n",
       "    </tr>\n",
       "  </tbody>\n",
       "</table>\n",
       "</div>"
      ],
      "text/plain": [
       "                      model   f-score       roc    recall  precision  \\\n",
       "0             XGBClassifier  0.806160  0.761935  0.831492   0.782326   \n",
       "9  random negative sampling  0.671859  0.714138  0.887653   0.540467   \n",
       "3  random negative sampling  0.708439  0.713611  0.908050   0.580771   \n",
       "2  random negative sampling  0.717573  0.688216  0.901388   0.596028   \n",
       "1  random negative sampling  0.730395  0.667010  0.918317   0.606319   \n",
       "6  random negative sampling  0.735405  0.655582  0.917314   0.613703   \n",
       "4  random negative sampling  0.737536  0.640923  0.918592   0.616102   \n",
       "8  random negative sampling  0.737561  0.634857  0.918493   0.616181   \n",
       "7  random negative sampling  0.738669  0.624145  0.912424   0.620505   \n",
       "5  random negative sampling  0.730737  0.586320  0.921513   0.605404   \n",
       "\n",
       "   positives_marked %  \n",
       "0                 NaN  \n",
       "9               0.550  \n",
       "3               0.450  \n",
       "2               0.350  \n",
       "1               0.250  \n",
       "6               0.200  \n",
       "4               0.150  \n",
       "8               0.135  \n",
       "7               0.100  \n",
       "5               0.050  "
      ]
     },
     "execution_count": 126,
     "metadata": {},
     "output_type": "execute_result"
    }
   ],
   "source": [
    "pd.DataFrame(data=models_results).sort_values('roc', ascending=False)"
   ]
  },
  {
   "cell_type": "code",
   "execution_count": null,
   "metadata": {},
   "outputs": [],
   "source": []
  }
 ],
 "metadata": {
  "kernelspec": {
   "display_name": "Python 3",
   "language": "python",
   "name": "python3"
  },
  "language_info": {
   "codemirror_mode": {
    "name": "ipython",
    "version": 3
   },
   "file_extension": ".py",
   "mimetype": "text/x-python",
   "name": "python",
   "nbconvert_exporter": "python",
   "pygments_lexer": "ipython3",
   "version": "3.8.5"
  }
 },
 "nbformat": 4,
 "nbformat_minor": 4
}
