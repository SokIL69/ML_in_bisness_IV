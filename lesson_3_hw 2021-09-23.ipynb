{
 "cells": [
  {
   "cell_type": "markdown",
   "metadata": {},
   "source": [
    "# Машинное обучение в бизнесе"
   ]
  },
  {
   "cell_type": "markdown",
   "metadata": {},
   "source": [
    "## Урок3. Связь бизнес-показателей и DS-метрик"
   ]
  },
  {
   "cell_type": "markdown",
   "metadata": {},
   "source": [
    "__Домашнее задание__\n",
    "1. обучить несколько разных моделей на наборе данных ССЗ (train_case2.csv): логрег, бустинг, лес и т.д - на ваш выбор 2-3 варианта\n",
    "2. при обучении моделей обязательно использовать кроссвалидацию\n",
    "3. вывести сравнение полученных моделей по основным метрикам классификации: pr/rec/auc/f_score (можно в виде таблицы, где строки - модели, а столбцы - метрики)\n",
    "4. сделать выводы о том, какая модель справилась с задачей лучше других\n",
    "5. (опциональный вопрос) какой график (precision_recall_curve или roc_auc_curve) больше подходит в случае сильного дисбаланса классов? (когда объектов одного из классов намного больше чем другого, например, 1 к 1000).\n",
    "\n",
    "p.s. В вопросе проще разобраться, если вспомнить оси на графике roc auc curve и рассмотреть такой пример:\n",
    "\n",
    "Имеется 100000 объектов, из которых только 100 - класс \"1\" (99900 - класс \"0\", соответственно).<br>\n",
    "Допустим, у нас две модели:\n",
    "- первая помечает 100 объектов как класс 1, но TP = 90\n",
    "- вторая помечает 1000 объектов как класс 1, но TP такой же - 90\n",
    "\n",
    "Какая модель лучше и почему? И что позволяет легче сделать вывод - roc_auc_curve или precision_recall_curve?\n",
    "\n",
    "Ссылки\n",
    "https://dyakonov.org/2017/07/28/auc-roc-площадь-под-кривой-ошибок/\n",
    "https://en.wikipedia.org/wiki/Receiver_operating_characteristic"
   ]
  },
  {
   "cell_type": "markdown",
   "metadata": {},
   "source": [
    "## <center> Практическое задание </center>"
   ]
  },
  {
   "cell_type": "markdown",
   "metadata": {},
   "source": [
    "### Описание датасета\n",
    "\n",
    "В рамках конкурса вам нужно предсказать наличие сердечно-сосудистых заболеваний по результатам классического врачебного осмотра. Датасет сформирован из 100.000 реальных клинических анализов, и в нём используются признаки, которые можно разбить на 3 группы:\n",
    "\n",
    "Объективные признаки:\n",
    "- __age__ - Возраст (дни)\n",
    "- __height__ - Рост\n",
    "- __weight__ - Вес\n",
    "- __gender__ - Пол\n",
    "\n",
    "Результаты измерения:\n",
    "- __ap_hi__ - Артериальное давление верхнее\n",
    "- __ap_lo__ -Артериальное давление верхнее и нижнее\n",
    "- __cholesterol__ - Холестерин\n",
    "- __gluc__ - Глюкоза\n",
    "\n",
    "Субъективные признаки:\n",
    "- __smoke__ - Курение\n",
    "- __alco__ - Употребление Алкоголя\n",
    "- __active__ - Физическая активность\n",
    "\n",
    "Возраст дан в днях.<br>\n",
    "Значения показателей холестерина и глюкозы представлены одним из трех классов: норма, выше нормы, значительно выше нормы.<br>\n",
    "Значения субъективных признаков — бинарны.\n",
    "\n",
    "Все показатели даны на момент осмотра."
   ]
  },
  {
   "cell_type": "markdown",
   "metadata": {},
   "source": [
    "\n",
    "Таргет - __cardio__ наличие сердечно-сосудистых заболеваний (ССЗ)\n",
    "### "
   ]
  },
  {
   "cell_type": "code",
   "execution_count": 1,
   "metadata": {},
   "outputs": [],
   "source": [
    "import numpy as np\n",
    "import pandas as pd\n",
    "\n",
    "# 2. Визуализация\n",
    "import matplotlib\n",
    "import matplotlib.pyplot as plt\n",
    "import seaborn as sns\n",
    "\n",
    "%matplotlib inline\n",
    "\n",
    "import warnings\n",
    "warnings.filterwarnings('ignore')\n",
    "\n",
    "matplotlib.rcParams.update({'font.size': 14})"
   ]
  },
  {
   "cell_type": "code",
   "execution_count": 2,
   "metadata": {},
   "outputs": [],
   "source": [
    "train = pd.read_csv(\"train_case2.csv\", sep = ';')\n",
    "train.set_index('id', inplace=True)"
   ]
  },
  {
   "cell_type": "code",
   "execution_count": 3,
   "metadata": {},
   "outputs": [
    {
     "data": {
      "text/html": [
       "<div>\n",
       "<style scoped>\n",
       "    .dataframe tbody tr th:only-of-type {\n",
       "        vertical-align: middle;\n",
       "    }\n",
       "\n",
       "    .dataframe tbody tr th {\n",
       "        vertical-align: top;\n",
       "    }\n",
       "\n",
       "    .dataframe thead th {\n",
       "        text-align: right;\n",
       "    }\n",
       "</style>\n",
       "<table border=\"1\" class=\"dataframe\">\n",
       "  <thead>\n",
       "    <tr style=\"text-align: right;\">\n",
       "      <th></th>\n",
       "      <th>age</th>\n",
       "      <th>gender</th>\n",
       "      <th>height</th>\n",
       "      <th>weight</th>\n",
       "      <th>ap_hi</th>\n",
       "      <th>ap_lo</th>\n",
       "      <th>cholesterol</th>\n",
       "      <th>gluc</th>\n",
       "      <th>smoke</th>\n",
       "      <th>alco</th>\n",
       "      <th>active</th>\n",
       "      <th>cardio</th>\n",
       "    </tr>\n",
       "    <tr>\n",
       "      <th>id</th>\n",
       "      <th></th>\n",
       "      <th></th>\n",
       "      <th></th>\n",
       "      <th></th>\n",
       "      <th></th>\n",
       "      <th></th>\n",
       "      <th></th>\n",
       "      <th></th>\n",
       "      <th></th>\n",
       "      <th></th>\n",
       "      <th></th>\n",
       "      <th></th>\n",
       "    </tr>\n",
       "  </thead>\n",
       "  <tbody>\n",
       "    <tr>\n",
       "      <th>0</th>\n",
       "      <td>18393</td>\n",
       "      <td>2</td>\n",
       "      <td>168</td>\n",
       "      <td>62.0</td>\n",
       "      <td>110</td>\n",
       "      <td>80</td>\n",
       "      <td>1</td>\n",
       "      <td>1</td>\n",
       "      <td>0</td>\n",
       "      <td>0</td>\n",
       "      <td>1</td>\n",
       "      <td>0</td>\n",
       "    </tr>\n",
       "    <tr>\n",
       "      <th>1</th>\n",
       "      <td>20228</td>\n",
       "      <td>1</td>\n",
       "      <td>156</td>\n",
       "      <td>85.0</td>\n",
       "      <td>140</td>\n",
       "      <td>90</td>\n",
       "      <td>3</td>\n",
       "      <td>1</td>\n",
       "      <td>0</td>\n",
       "      <td>0</td>\n",
       "      <td>1</td>\n",
       "      <td>1</td>\n",
       "    </tr>\n",
       "    <tr>\n",
       "      <th>2</th>\n",
       "      <td>18857</td>\n",
       "      <td>1</td>\n",
       "      <td>165</td>\n",
       "      <td>64.0</td>\n",
       "      <td>130</td>\n",
       "      <td>70</td>\n",
       "      <td>3</td>\n",
       "      <td>1</td>\n",
       "      <td>0</td>\n",
       "      <td>0</td>\n",
       "      <td>0</td>\n",
       "      <td>1</td>\n",
       "    </tr>\n",
       "  </tbody>\n",
       "</table>\n",
       "</div>"
      ],
      "text/plain": [
       "      age  gender  height  weight  ap_hi  ap_lo  cholesterol  gluc  smoke  \\\n",
       "id                                                                          \n",
       "0   18393       2     168    62.0    110     80            1     1      0   \n",
       "1   20228       1     156    85.0    140     90            3     1      0   \n",
       "2   18857       1     165    64.0    130     70            3     1      0   \n",
       "\n",
       "    alco  active  cardio  \n",
       "id                        \n",
       "0      0       1       0  \n",
       "1      0       1       1  \n",
       "2      0       0       1  "
      ]
     },
     "execution_count": 3,
     "metadata": {},
     "output_type": "execute_result"
    }
   ],
   "source": [
    "train.head(3)"
   ]
  },
  {
   "cell_type": "code",
   "execution_count": 4,
   "metadata": {},
   "outputs": [
    {
     "name": "stdout",
     "output_type": "stream",
     "text": [
      "(70000, 12)\n"
     ]
    }
   ],
   "source": [
    "print(train.shape)"
   ]
  },
  {
   "cell_type": "code",
   "execution_count": 5,
   "metadata": {},
   "outputs": [
    {
     "name": "stdout",
     "output_type": "stream",
     "text": [
      "Строк в train: 70000\n",
      "Столбцов в train: 12\n"
     ]
    }
   ],
   "source": [
    "print('Строк в train:',train.shape[0])  # gives number of row count\n",
    "print('Столбцов в train:',train.shape[1])  # gives number of col count"
   ]
  },
  {
   "cell_type": "code",
   "execution_count": 6,
   "metadata": {},
   "outputs": [
    {
     "data": {
      "text/plain": [
       "age            18393.0\n",
       "gender             2.0\n",
       "height           168.0\n",
       "weight            62.0\n",
       "ap_hi            110.0\n",
       "ap_lo             80.0\n",
       "cholesterol        1.0\n",
       "gluc               1.0\n",
       "smoke              0.0\n",
       "alco               0.0\n",
       "active             1.0\n",
       "cardio             0.0\n",
       "Name: 0, dtype: float64"
      ]
     },
     "execution_count": 6,
     "metadata": {},
     "output_type": "execute_result"
    }
   ],
   "source": [
    "train.iloc[0]  # Получаем первую строку (index=0)"
   ]
  },
  {
   "cell_type": "code",
   "execution_count": 7,
   "metadata": {
    "scrolled": true
   },
   "outputs": [
    {
     "name": "stdout",
     "output_type": "stream",
     "text": [
      "<class 'pandas.core.frame.DataFrame'>\n",
      "Int64Index: 70000 entries, 0 to 99999\n",
      "Data columns (total 12 columns):\n",
      " #   Column       Non-Null Count  Dtype  \n",
      "---  ------       --------------  -----  \n",
      " 0   age          70000 non-null  int64  \n",
      " 1   gender       70000 non-null  int64  \n",
      " 2   height       70000 non-null  int64  \n",
      " 3   weight       70000 non-null  float64\n",
      " 4   ap_hi        70000 non-null  int64  \n",
      " 5   ap_lo        70000 non-null  int64  \n",
      " 6   cholesterol  70000 non-null  int64  \n",
      " 7   gluc         70000 non-null  int64  \n",
      " 8   smoke        70000 non-null  int64  \n",
      " 9   alco         70000 non-null  int64  \n",
      " 10  active       70000 non-null  int64  \n",
      " 11  cardio       70000 non-null  int64  \n",
      "dtypes: float64(1), int64(11)\n",
      "memory usage: 6.9 MB\n"
     ]
    }
   ],
   "source": [
    "# train.dtypes\n",
    "train.info()  # Рассмотрим типы признаков"
   ]
  },
  {
   "cell_type": "code",
   "execution_count": 8,
   "metadata": {},
   "outputs": [],
   "source": [
    "class_names = ['id', 'age', 'gender', 'height', 'weight', 'ap_hi',\n",
    "               'ap_lo', 'cholesterol', 'gluc', 'smoke', 'alco', 'active', 'cardio']\n",
    "\n"
   ]
  },
  {
   "cell_type": "code",
   "execution_count": 9,
   "metadata": {},
   "outputs": [],
   "source": [
    "# train['cardio'].value_counts()"
   ]
  },
  {
   "cell_type": "code",
   "execution_count": 10,
   "metadata": {},
   "outputs": [],
   "source": [
    "# train['active'].value_counts()"
   ]
  },
  {
   "cell_type": "code",
   "execution_count": 11,
   "metadata": {},
   "outputs": [],
   "source": [
    "# train['gender'].value_counts()"
   ]
  },
  {
   "cell_type": "markdown",
   "metadata": {},
   "source": [
    "## representing null/NaN values using seaborn plotting techniques"
   ]
  },
  {
   "cell_type": "code",
   "execution_count": 12,
   "metadata": {},
   "outputs": [
    {
     "data": {
      "text/plain": [
       "<AxesSubplot:ylabel='id'>"
      ]
     },
     "execution_count": 12,
     "metadata": {},
     "output_type": "execute_result"
    },
    {
     "data": {
      "image/png": "[encoded data removed]",
      "text/plain": [
       "<Figure size 432x288 with 2 Axes>"
      ]
     },
     "metadata": {
      "needs_background": "light"
     },
     "output_type": "display_data"
    }
   ],
   "source": [
    "sns.heatmap(train.isnull())"
   ]
  },
  {
   "cell_type": "markdown",
   "metadata": {},
   "source": [
    "# 2. EDA и очистка данных"
   ]
  },
  {
   "cell_type": "markdown",
   "metadata": {},
   "source": [
    "Делаем EDA для:\n",
    "\n",
    "* Исправления выбросов\n",
    "* Заполнения NaN\n",
    "* Идей для генерации новых фич"
   ]
  },
  {
   "cell_type": "markdown",
   "metadata": {},
   "source": [
    "### 1. Обзор целевой переменной"
   ]
  },
  {
   "cell_type": "code",
   "execution_count": 13,
   "metadata": {},
   "outputs": [
    {
     "data": {
      "text/plain": [
       "0    35021\n",
       "1    34979\n",
       "Name: cardio, dtype: int64"
      ]
     },
     "execution_count": 13,
     "metadata": {},
     "output_type": "execute_result"
    }
   ],
   "source": [
    "train['cardio'].value_counts()  # Количество различных значений признака 'Credit Default'"
   ]
  },
  {
   "cell_type": "code",
   "execution_count": 14,
   "metadata": {},
   "outputs": [
    {
     "data": {
      "image/png": "[encoded data removed]",
      "text/plain": [
       "<Figure size 288x288 with 1 Axes>"
      ]
     },
     "metadata": {
      "needs_background": "light"
     },
     "output_type": "display_data"
    }
   ],
   "source": [
    "counts = train['cardio'].value_counts()\n",
    "    \n",
    "plt.figure(figsize=(4,4))    \n",
    "plt.title('cardio')\n",
    "sns.barplot(counts.index, counts.values)\n",
    "    \n",
    "plt.show()"
   ]
  },
  {
   "cell_type": "markdown",
   "metadata": {},
   "source": [
    "## Приведение типов"
   ]
  },
  {
   "cell_type": "code",
   "execution_count": 15,
   "metadata": {},
   "outputs": [],
   "source": [
    "# for colname in ['gender', 'smoke', 'alco', 'active', 'cholesterol', 'gluc']:\n",
    "#      train[colname] = train[colname].astype(str)"
   ]
  },
  {
   "cell_type": "code",
   "execution_count": 16,
   "metadata": {},
   "outputs": [
    {
     "data": {
      "text/plain": [
       "age              int64\n",
       "gender           int64\n",
       "height           int64\n",
       "weight         float64\n",
       "ap_hi            int64\n",
       "ap_lo            int64\n",
       "cholesterol      int64\n",
       "gluc             int64\n",
       "smoke            int64\n",
       "alco             int64\n",
       "active           int64\n",
       "cardio           int64\n",
       "dtype: object"
      ]
     },
     "execution_count": 16,
     "metadata": {},
     "output_type": "execute_result"
    }
   ],
   "source": [
    "train.dtypes"
   ]
  },
  {
   "cell_type": "markdown",
   "metadata": {},
   "source": [
    "## Обзор количественных признаков"
   ]
  },
  {
   "cell_type": "code",
   "execution_count": 17,
   "metadata": {
    "scrolled": false
   },
   "outputs": [
    {
     "data": {
      "text/html": [
       "<div>\n",
       "<style scoped>\n",
       "    .dataframe tbody tr th:only-of-type {\n",
       "        vertical-align: middle;\n",
       "    }\n",
       "\n",
       "    .dataframe tbody tr th {\n",
       "        vertical-align: top;\n",
       "    }\n",
       "\n",
       "    .dataframe thead th {\n",
       "        text-align: right;\n",
       "    }\n",
       "</style>\n",
       "<table border=\"1\" class=\"dataframe\">\n",
       "  <thead>\n",
       "    <tr style=\"text-align: right;\">\n",
       "      <th></th>\n",
       "      <th>count</th>\n",
       "      <th>mean</th>\n",
       "      <th>std</th>\n",
       "      <th>min</th>\n",
       "      <th>25%</th>\n",
       "      <th>50%</th>\n",
       "      <th>75%</th>\n",
       "      <th>max</th>\n",
       "    </tr>\n",
       "  </thead>\n",
       "  <tbody>\n",
       "    <tr>\n",
       "      <th>age</th>\n",
       "      <td>70000.0</td>\n",
       "      <td>19468.865814</td>\n",
       "      <td>2467.251667</td>\n",
       "      <td>10798.0</td>\n",
       "      <td>17664.0</td>\n",
       "      <td>19703.0</td>\n",
       "      <td>21327.0</td>\n",
       "      <td>23713.0</td>\n",
       "    </tr>\n",
       "    <tr>\n",
       "      <th>gender</th>\n",
       "      <td>70000.0</td>\n",
       "      <td>1.349571</td>\n",
       "      <td>0.476838</td>\n",
       "      <td>1.0</td>\n",
       "      <td>1.0</td>\n",
       "      <td>1.0</td>\n",
       "      <td>2.0</td>\n",
       "      <td>2.0</td>\n",
       "    </tr>\n",
       "    <tr>\n",
       "      <th>height</th>\n",
       "      <td>70000.0</td>\n",
       "      <td>164.359229</td>\n",
       "      <td>8.210126</td>\n",
       "      <td>55.0</td>\n",
       "      <td>159.0</td>\n",
       "      <td>165.0</td>\n",
       "      <td>170.0</td>\n",
       "      <td>250.0</td>\n",
       "    </tr>\n",
       "    <tr>\n",
       "      <th>weight</th>\n",
       "      <td>70000.0</td>\n",
       "      <td>74.205690</td>\n",
       "      <td>14.395757</td>\n",
       "      <td>10.0</td>\n",
       "      <td>65.0</td>\n",
       "      <td>72.0</td>\n",
       "      <td>82.0</td>\n",
       "      <td>200.0</td>\n",
       "    </tr>\n",
       "    <tr>\n",
       "      <th>ap_hi</th>\n",
       "      <td>70000.0</td>\n",
       "      <td>128.817286</td>\n",
       "      <td>154.011419</td>\n",
       "      <td>-150.0</td>\n",
       "      <td>120.0</td>\n",
       "      <td>120.0</td>\n",
       "      <td>140.0</td>\n",
       "      <td>16020.0</td>\n",
       "    </tr>\n",
       "    <tr>\n",
       "      <th>ap_lo</th>\n",
       "      <td>70000.0</td>\n",
       "      <td>96.630414</td>\n",
       "      <td>188.472530</td>\n",
       "      <td>-70.0</td>\n",
       "      <td>80.0</td>\n",
       "      <td>80.0</td>\n",
       "      <td>90.0</td>\n",
       "      <td>11000.0</td>\n",
       "    </tr>\n",
       "    <tr>\n",
       "      <th>cholesterol</th>\n",
       "      <td>70000.0</td>\n",
       "      <td>1.366871</td>\n",
       "      <td>0.680250</td>\n",
       "      <td>1.0</td>\n",
       "      <td>1.0</td>\n",
       "      <td>1.0</td>\n",
       "      <td>2.0</td>\n",
       "      <td>3.0</td>\n",
       "    </tr>\n",
       "    <tr>\n",
       "      <th>gluc</th>\n",
       "      <td>70000.0</td>\n",
       "      <td>1.226457</td>\n",
       "      <td>0.572270</td>\n",
       "      <td>1.0</td>\n",
       "      <td>1.0</td>\n",
       "      <td>1.0</td>\n",
       "      <td>1.0</td>\n",
       "      <td>3.0</td>\n",
       "    </tr>\n",
       "    <tr>\n",
       "      <th>smoke</th>\n",
       "      <td>70000.0</td>\n",
       "      <td>0.088129</td>\n",
       "      <td>0.283484</td>\n",
       "      <td>0.0</td>\n",
       "      <td>0.0</td>\n",
       "      <td>0.0</td>\n",
       "      <td>0.0</td>\n",
       "      <td>1.0</td>\n",
       "    </tr>\n",
       "    <tr>\n",
       "      <th>alco</th>\n",
       "      <td>70000.0</td>\n",
       "      <td>0.053771</td>\n",
       "      <td>0.225568</td>\n",
       "      <td>0.0</td>\n",
       "      <td>0.0</td>\n",
       "      <td>0.0</td>\n",
       "      <td>0.0</td>\n",
       "      <td>1.0</td>\n",
       "    </tr>\n",
       "    <tr>\n",
       "      <th>active</th>\n",
       "      <td>70000.0</td>\n",
       "      <td>0.803729</td>\n",
       "      <td>0.397179</td>\n",
       "      <td>0.0</td>\n",
       "      <td>1.0</td>\n",
       "      <td>1.0</td>\n",
       "      <td>1.0</td>\n",
       "      <td>1.0</td>\n",
       "    </tr>\n",
       "    <tr>\n",
       "      <th>cardio</th>\n",
       "      <td>70000.0</td>\n",
       "      <td>0.499700</td>\n",
       "      <td>0.500003</td>\n",
       "      <td>0.0</td>\n",
       "      <td>0.0</td>\n",
       "      <td>0.0</td>\n",
       "      <td>1.0</td>\n",
       "      <td>1.0</td>\n",
       "    </tr>\n",
       "  </tbody>\n",
       "</table>\n",
       "</div>"
      ],
      "text/plain": [
       "               count          mean          std      min      25%      50%  \\\n",
       "age          70000.0  19468.865814  2467.251667  10798.0  17664.0  19703.0   \n",
       "gender       70000.0      1.349571     0.476838      1.0      1.0      1.0   \n",
       "height       70000.0    164.359229     8.210126     55.0    159.0    165.0   \n",
       "weight       70000.0     74.205690    14.395757     10.0     65.0     72.0   \n",
       "ap_hi        70000.0    128.817286   154.011419   -150.0    120.0    120.0   \n",
       "ap_lo        70000.0     96.630414   188.472530    -70.0     80.0     80.0   \n",
       "cholesterol  70000.0      1.366871     0.680250      1.0      1.0      1.0   \n",
       "gluc         70000.0      1.226457     0.572270      1.0      1.0      1.0   \n",
       "smoke        70000.0      0.088129     0.283484      0.0      0.0      0.0   \n",
       "alco         70000.0      0.053771     0.225568      0.0      0.0      0.0   \n",
       "active       70000.0      0.803729     0.397179      0.0      1.0      1.0   \n",
       "cardio       70000.0      0.499700     0.500003      0.0      0.0      0.0   \n",
       "\n",
       "                 75%      max  \n",
       "age          21327.0  23713.0  \n",
       "gender           2.0      2.0  \n",
       "height         170.0    250.0  \n",
       "weight          82.0    200.0  \n",
       "ap_hi          140.0  16020.0  \n",
       "ap_lo           90.0  11000.0  \n",
       "cholesterol      2.0      3.0  \n",
       "gluc             1.0      3.0  \n",
       "smoke            0.0      1.0  \n",
       "alco             0.0      1.0  \n",
       "active           1.0      1.0  \n",
       "cardio           1.0      1.0  "
      ]
     },
     "execution_count": 17,
     "metadata": {},
     "output_type": "execute_result"
    }
   ],
   "source": [
    "train.describe().T  # Анализ количественные признаки"
   ]
  },
  {
   "cell_type": "markdown",
   "metadata": {},
   "source": [
    "### Выбросы"
   ]
  },
  {
   "cell_type": "code",
   "execution_count": 18,
   "metadata": {},
   "outputs": [
    {
     "data": {
      "text/plain": [
       "array([[<AxesSubplot:title={'center':'age'}>,\n",
       "        <AxesSubplot:title={'center':'gender'}>,\n",
       "        <AxesSubplot:title={'center':'height'}>],\n",
       "       [<AxesSubplot:title={'center':'weight'}>,\n",
       "        <AxesSubplot:title={'center':'ap_hi'}>,\n",
       "        <AxesSubplot:title={'center':'ap_lo'}>],\n",
       "       [<AxesSubplot:title={'center':'cholesterol'}>,\n",
       "        <AxesSubplot:title={'center':'gluc'}>,\n",
       "        <AxesSubplot:title={'center':'smoke'}>],\n",
       "       [<AxesSubplot:title={'center':'alco'}>,\n",
       "        <AxesSubplot:title={'center':'active'}>,\n",
       "        <AxesSubplot:title={'center':'cardio'}>]], dtype=object)"
      ]
     },
     "execution_count": 18,
     "metadata": {},
     "output_type": "execute_result"
    },
    {
     "data": {
      "image/png": "[encoded data removed]",
      "text/plain": [
       "<Figure size 1152x1152 with 12 Axes>"
      ]
     },
     "metadata": {
      "needs_background": "light"
     },
     "output_type": "display_data"
    }
   ],
   "source": [
    "train_num_features = train.select_dtypes(include=['float32', 'float64', 'int8', 'int16', 'int32', 'int64'])\n",
    "\n",
    "train_num_features.hist(figsize=(16, 16), bins=50, grid=True)"
   ]
  },
  {
   "cell_type": "markdown",
   "metadata": {},
   "source": [
    "Наблюдаются выбросы по следующим признакам: age, height, weight, ap_hi, ap_lo.\n",
    "\n",
    "Ряд признаков имеют аномально высокое значение, но вполне вероятное: . Их необходимо будет ограничить."
   ]
  },
  {
   "cell_type": "markdown",
   "metadata": {},
   "source": [
    "## Приведение типов"
   ]
  },
  {
   "cell_type": "code",
   "execution_count": 19,
   "metadata": {},
   "outputs": [],
   "source": [
    "for colname in ['gender', 'smoke', 'alco', 'active', 'cholesterol', 'gluc']:\n",
    "     train[colname] = train[colname].astype(str)"
   ]
  },
  {
   "cell_type": "code",
   "execution_count": 20,
   "metadata": {},
   "outputs": [
    {
     "data": {
      "text/plain": [
       "age              int64\n",
       "gender          object\n",
       "height           int64\n",
       "weight         float64\n",
       "ap_hi            int64\n",
       "ap_lo            int64\n",
       "cholesterol     object\n",
       "gluc            object\n",
       "smoke           object\n",
       "alco            object\n",
       "active          object\n",
       "cardio           int64\n",
       "dtype: object"
      ]
     },
     "execution_count": 20,
     "metadata": {},
     "output_type": "execute_result"
    }
   ],
   "source": [
    "train.dtypes"
   ]
  },
  {
   "cell_type": "code",
   "execution_count": null,
   "metadata": {},
   "outputs": [],
   "source": []
  },
  {
   "cell_type": "markdown",
   "metadata": {},
   "source": [
    "- Рассмотрим признаки подробнее"
   ]
  },
  {
   "cell_type": "markdown",
   "metadata": {},
   "source": [
    "__1. age__ - Возраст (дни)"
   ]
  },
  {
   "cell_type": "code",
   "execution_count": 22,
   "metadata": {
    "scrolled": false
   },
   "outputs": [
    {
     "name": "stdout",
     "output_type": "stream",
     "text": [
      "feature_name = age\n",
      "feature_value_max = 24000\n",
      "feature_value_min = 14000\n",
      "__________________________________________________\n",
      "\n",
      "Количество\n",
      "__________________________________________________\n",
      "14329     1\n",
      "20701     1\n",
      "21488     1\n",
      "21509     1\n",
      "16522     1\n",
      "         ..\n",
      "18253    31\n",
      "20442    31\n",
      "20376    31\n",
      "18236    32\n",
      "19741    32\n",
      "Name: age, Length: 8076, dtype: int64\n",
      "__________________________________________________\n",
      "\n",
      "Отсортированные записи\n",
      "__________________________________________________\n",
      "id\n",
      "31922    10798\n",
      "43842    10859\n",
      "8850     10878\n",
      "79749    10964\n",
      "45362    14275\n",
      "         ...  \n",
      "52297    23687\n",
      "29892    23690\n",
      "72373    23692\n",
      "97124    23701\n",
      "81643    23713\n",
      "Name: age, Length: 70000, dtype: int64\n",
      "__________________________________________________\n",
      "\n",
      "Первичный датасет\n",
      "\n",
      "Мода датасета: 18236\n",
      "Медиана датасета: 19703.0\n",
      "Среднее значение датасета: 19468.865814285713\n",
      "Максимальное значение датасета: 23713\n",
      "Минимальное значение датасета: 10798\n",
      "__________________________________________________\n",
      "\n",
      "Количество записей в датасете: 70000\n",
      "Количество записей в датасете < 14000: 4\n",
      "Количество записей в датасете > 24000: 0\n",
      "__________________________________________________\n",
      "\n",
      "Обработанный датасет\n",
      "\n",
      "Мода датасета: 18236\n",
      "Медиана датасета: 19703.0\n",
      "Среднее значение датасета: 19469.356934681982\n",
      "Максимальное значение датасета: 23713\n",
      "Минимальное значение датасета: 14275\n",
      "__________________________________________________\n"
     ]
    },
    {
     "data": {
      "image/png": "[encoded data removed]",
      "text/plain": [
       "<Figure size 432x288 with 1 Axes>"
      ]
     },
     "metadata": {
      "needs_background": "light"
     },
     "output_type": "display_data"
    },
    {
     "data": {
      "image/png": "[encoded data removed]",
      "text/plain": [
       "<Figure size 432x288 with 1 Axes>"
      ]
     },
     "metadata": {
      "needs_background": "light"
     },
     "output_type": "display_data"
    },
    {
     "data": {
      "image/png": "[encoded data removed]",
      "text/plain": [
       "<Figure size 432x288 with 1 Axes>"
      ]
     },
     "metadata": {},
     "output_type": "display_data"
    },
    {
     "data": {
      "image/png": "[encoded data removed]",
      "text/plain": [
       "<Figure size 432x288 with 1 Axes>"
      ]
     },
     "metadata": {},
     "output_type": "display_data"
    }
   ],
   "source": [
    "feature_name = 'age'\n",
    "feature_value_max = 24000\n",
    "feature_value_min = 14000\n",
    "data_type = 0\n",
    "plot_feature(feature_name, train, feature_value_max, feature_value_min, data_type)\n",
    "\n",
    "# Считаем выбросами age > 24000 (0 значения) и age < 14000 (4 значения)"
   ]
  },
  {
   "cell_type": "markdown",
   "metadata": {},
   "source": [
    " 0   age          70000 non-null  int64  \n",
    " 1   gender       70000 non-null  int64  \n",
    " 2   height       70000 non-null  int64  \n",
    " 3   weight       70000 non-null  float64\n",
    " 4   ap_hi        70000 non-null  int64  \n",
    " 5   ap_lo        70000 non-null  int64  \n",
    " 6   cholesterol  70000 non-null  int64  \n",
    " 7   gluc         70000 non-null  int64  \n",
    " 8   smoke        70000 non-null  int64  \n",
    " 9   alco         70000 non-null  int64  \n",
    " 10  active       70000 non-null  int64  \n",
    " 11  cardio       70000 non-null  int64  "
   ]
  },
  {
   "cell_type": "code",
   "execution_count": 23,
   "metadata": {
    "scrolled": false
   },
   "outputs": [
    {
     "name": "stdout",
     "output_type": "stream",
     "text": [
      "feature_name = height\n",
      "feature_value_max = 190\n",
      "feature_value_min = 130\n",
      "__________________________________________________\n",
      "\n",
      "Количество\n",
      "__________________________________________________\n",
      "64        1\n",
      "66        1\n",
      "128       1\n",
      "71        1\n",
      "72        1\n",
      "       ... \n",
      "164    3396\n",
      "168    4399\n",
      "170    4679\n",
      "160    5022\n",
      "165    5853\n",
      "Name: height, Length: 109, dtype: int64\n",
      "__________________________________________________\n",
      "\n",
      "Отсортированные записи\n",
      "__________________________________________________\n",
      "id\n",
      "32456     55\n",
      "95141     57\n",
      "91523     59\n",
      "41661     60\n",
      "39462     64\n",
      "        ... \n",
      "57307    198\n",
      "12687    198\n",
      "59847    200\n",
      "30894    207\n",
      "9223     250\n",
      "Name: height, Length: 70000, dtype: int64\n",
      "__________________________________________________\n",
      "\n",
      "Первичный датасет\n",
      "\n",
      "Мода датасета: 165\n",
      "Медиана датасета: 165.0\n",
      "Среднее значение датасета: 164.35922857142856\n",
      "Максимальное значение датасета: 250\n",
      "Минимальное значение датасета: 55\n",
      "__________________________________________________\n",
      "\n",
      "Количество записей в датасете: 70000\n",
      "Количество записей в датасете < 130: 92\n",
      "Количество записей в датасете > 190: 64\n",
      "__________________________________________________\n",
      "\n",
      "Обработанный датасет\n",
      "\n",
      "Мода датасета: 165\n",
      "Медиана датасета: 165.0\n",
      "Среднее значение датасета: 164.41177481243915\n",
      "Максимальное значение датасета: 190\n",
      "Минимальное значение датасета: 130\n",
      "__________________________________________________\n"
     ]
    },
    {
     "data": {
      "image/png": "[encoded data removed]",
      "text/plain": [
       "<Figure size 432x288 with 1 Axes>"
      ]
     },
     "metadata": {},
     "output_type": "display_data"
    },
    {
     "data": {
      "image/png": "[encoded data removed]",
      "text/plain": [
       "<Figure size 432x288 with 1 Axes>"
      ]
     },
     "metadata": {},
     "output_type": "display_data"
    },
    {
     "data": {
      "image/png": "[encoded data removed]",
      "text/plain": [
       "<Figure size 432x288 with 1 Axes>"
      ]
     },
     "metadata": {},
     "output_type": "display_data"
    },
    {
     "data": {
      "image/png": "[encoded data removed]",
      "text/plain": [
       "<Figure size 432x288 with 1 Axes>"
      ]
     },
     "metadata": {},
     "output_type": "display_data"
    }
   ],
   "source": [
    "feature_name = 'height'\n",
    "feature_value_max = 190\n",
    "feature_value_min = 130\n",
    "data_type = 0\n",
    "plot_feature(feature_name, train, feature_value_max, feature_value_min, data_type)\n",
    "\n",
    "# Количество записей в датасете: 70000\n",
    "# Считаем выбросами height > 190 (64 значения) и height < 140 (152 значения)\n",
    "# Считаем выбросами height > 195 (27 значения) и height < 130 (92 значения)\n",
    "# Считаем выбросами height > 200 (2 значения) и height < 120 (52 значения)"
   ]
  },
  {
   "cell_type": "code",
   "execution_count": 24,
   "metadata": {
    "scrolled": false
   },
   "outputs": [
    {
     "name": "stdout",
     "output_type": "stream",
     "text": [
      "feature_name = weight\n",
      "feature_value_max = 200\n",
      "feature_value_min = 30\n",
      "__________________________________________________\n",
      "\n",
      "Количество\n",
      "__________________________________________________\n",
      "50.7        1\n",
      "53.2        1\n",
      "163.0       1\n",
      "105.5       1\n",
      "55.6        1\n",
      "         ... \n",
      "60.0     2710\n",
      "75.0     2740\n",
      "68.0     2831\n",
      "70.0     3764\n",
      "65.0     3850\n",
      "Name: weight, Length: 287, dtype: int64\n",
      "__________________________________________________\n",
      "\n",
      "Отсортированные записи\n",
      "__________________________________________________\n",
      "id\n",
      "82567     10.0\n",
      "48318     11.0\n",
      "85931     21.0\n",
      "42156     22.0\n",
      "38312     23.0\n",
      "         ...  \n",
      "87612    180.0\n",
      "52564    181.0\n",
      "87498    183.0\n",
      "71945    200.0\n",
      "618      200.0\n",
      "Name: weight, Length: 70000, dtype: float64\n",
      "__________________________________________________\n",
      "\n",
      "Первичный датасет\n",
      "\n",
      "Мода датасета: 65.0\n",
      "Медиана датасета: 72.0\n",
      "Среднее значение датасета: 74.20569\n",
      "Максимальное значение датасета: 200.0\n",
      "Минимальное значение датасета: 10.0\n",
      "__________________________________________________\n",
      "\n",
      "Количество записей в датасете: 70000\n",
      "Количество записей в датасете < 30: 7\n",
      "Количество записей в датасете > 200: 0\n",
      "__________________________________________________\n",
      "\n",
      "Обработанный датасет\n",
      "\n",
      "Мода датасета: 65.0\n",
      "Медиана датасета: 72.0\n",
      "Среднее значение датасета: 74.21105396253913\n",
      "Максимальное значение датасета: 200.0\n",
      "Минимальное значение датасета: 30.0\n",
      "__________________________________________________\n"
     ]
    },
    {
     "data": {
      "image/png": "[encoded data removed]",
      "text/plain": [
       "<Figure size 432x288 with 1 Axes>"
      ]
     },
     "metadata": {},
     "output_type": "display_data"
    },
    {
     "data": {
      "image/png": "[encoded data removed]",
      "text/plain": [
       "<Figure size 432x288 with 1 Axes>"
      ]
     },
     "metadata": {},
     "output_type": "display_data"
    },
    {
     "data": {
      "image/png": "[encoded data removed]",
      "text/plain": [
       "<Figure size 432x288 with 1 Axes>"
      ]
     },
     "metadata": {},
     "output_type": "display_data"
    },
    {
     "data": {
      "image/png": "[encoded data removed]",
      "text/plain": [
       "<Figure size 432x288 with 1 Axes>"
      ]
     },
     "metadata": {},
     "output_type": "display_data"
    }
   ],
   "source": [
    "feature_name = 'weight'\n",
    "feature_value_max = 200\n",
    "feature_value_min = 30\n",
    "data_type = 0\n",
    "plot_feature(feature_name, train, feature_value_max, feature_value_min, data_type)\n",
    "\n",
    "# Количество записей в датасете: 70000\n",
    "# Считаем выбросами weight > 30 (7 значения) и weight < 200 (0 значения)\n",
    "\n",
    "\n",
    "# Количество записей в датасете < 40: 52\n",
    "# Количество записей в датасете < 30: 7\n",
    "# Количество записей в датасете < 25: 5\n",
    "# Количество записей в датасете < 20: 2\n",
    "# Количество записей в датасете < 15: 2\n",
    "# Количество записей в датасете < 10: 0\n",
    "\n",
    "# Количество записей в датасете > 200: 0\n",
    "# Количество записей в датасете > 190: 2\n",
    "# Количество записей в датасете > 180: 4\n",
    "# Количество записей в датасете > 170: 15\n",
    "# Количество записей в датасете > 160: 40\n",
    "# Количество записей в датасете > 150: 59\n",
    "# Количество записей в датасете > 140: 98\n",
    "# Количество записей в датасете > 130: 202"
   ]
  },
  {
   "cell_type": "code",
   "execution_count": 25,
   "metadata": {
    "scrolled": false
   },
   "outputs": [
    {
     "name": "stdout",
     "output_type": "stream",
     "text": [
      "feature_name = ap_hi\n",
      "feature_value_max = 200\n",
      "feature_value_min = 60\n",
      "__________________________________________________\n",
      "\n",
      "Количество\n",
      "__________________________________________________\n",
      "93          1\n",
      "60          1\n",
      "187         1\n",
      "1409        1\n",
      "184         1\n",
      "        ...  \n",
      "150      4450\n",
      "110      8644\n",
      "130      8961\n",
      "140      9506\n",
      "120     27699\n",
      "Name: ap_hi, Length: 153, dtype: int64\n",
      "__________________________________________________\n",
      "\n",
      "Отсортированные записи\n",
      "__________________________________________________\n",
      "id\n",
      "50055     -150\n",
      "34295     -140\n",
      "66571     -120\n",
      "36025     -120\n",
      "22881     -115\n",
      "         ...  \n",
      "67502    14020\n",
      "36339    14020\n",
      "36414    14020\n",
      "66998    14020\n",
      "58374    16020\n",
      "Name: ap_hi, Length: 70000, dtype: int64\n",
      "__________________________________________________\n",
      "\n",
      "Первичный датасет\n",
      "\n",
      "Мода датасета: 120\n",
      "Медиана датасета: 120.0\n",
      "Среднее значение датасета: 128.8172857142857\n",
      "Максимальное значение датасета: 16020\n",
      "Минимальное значение датасета: -150\n",
      "__________________________________________________\n",
      "\n",
      "Количество записей в датасете: 70000\n",
      "Количество записей в датасете < 60: 188\n",
      "Количество записей в датасете > 200: 100\n",
      "__________________________________________________\n",
      "\n",
      "Обработанный датасет\n",
      "\n",
      "Мода датасета: 120\n",
      "Медиана датасета: 120.0\n",
      "Среднее значение датасета: 126.92365733302731\n",
      "Максимальное значение датасета: 200\n",
      "Минимальное значение датасета: 60\n",
      "__________________________________________________\n"
     ]
    },
    {
     "data": {
      "image/png": "[encoded data removed]",
      "text/plain": [
       "<Figure size 432x288 with 1 Axes>"
      ]
     },
     "metadata": {},
     "output_type": "display_data"
    },
    {
     "data": {
      "image/png": "[encoded data removed]",
      "text/plain": [
       "<Figure size 432x288 with 1 Axes>"
      ]
     },
     "metadata": {},
     "output_type": "display_data"
    },
    {
     "data": {
      "image/png": "[encoded data removed]",
      "text/plain": [
       "<Figure size 432x288 with 1 Axes>"
      ]
     },
     "metadata": {},
     "output_type": "display_data"
    },
    {
     "data": {
      "image/png": "[encoded data removed]",
      "text/plain": [
       "<Figure size 432x288 with 1 Axes>"
      ]
     },
     "metadata": {},
     "output_type": "display_data"
    }
   ],
   "source": [
    "#ap_hi\n",
    "#ap_lo \n",
    "\n",
    "feature_name = 'ap_hi'\n",
    "feature_value_max = 200\n",
    "feature_value_min = 60\n",
    "data_type = 0\n",
    "plot_feature(feature_name, train, feature_value_max, feature_value_min, data_type)\n",
    "\n",
    "# Количество записей в датасете: 70000\n",
    "# Считаем выбросами ap_hi > 200 (100 значения) и ap_hi < 60 (188 значения)\n",
    "\n",
    "# Количество записей в датасете: 70000\n",
    "# Количество записей в датасете < -1000: 0\n",
    "# Количество записей в датасете < -100: 5\n",
    "# Количество записей в датасете < -10: 7\n",
    "# Количество записей в датасете < 0: 7\n",
    "# Количество записей в датасете < 30: 188\n",
    "# Количество записей в датасете < 50: 188\n",
    "# Количество записей в датасете < 60: 188\n",
    "# Количество записей в датасете < 65: 189\n",
    "# Количество записей в датасете < 70: 189\n",
    "# Количество записей в датасете < 80: 207\n",
    "# Количество записей в датасете < 85: 311\n",
    "\n",
    "# Количество записей в датасете > 3000: 9\n",
    "# Количество записей в датасете > 2000: 9\n",
    "# Количество записей в датасете > 1000: 24\n",
    "# Количество записей в датасете > 500: 38\n",
    "# Количество записей в датасете > 200: 100\n"
   ]
  },
  {
   "cell_type": "code",
   "execution_count": 26,
   "metadata": {
    "scrolled": false
   },
   "outputs": [
    {
     "name": "stdout",
     "output_type": "stream",
     "text": [
      "feature_name = ap_lo\n",
      "feature_value_max = 200\n",
      "feature_value_min = 40\n",
      "__________________________________________________\n",
      "\n",
      "Количество\n",
      "__________________________________________________\n",
      "7100        1\n",
      "8044        1\n",
      "810         1\n",
      "1002        1\n",
      "107         1\n",
      "        ...  \n",
      "60       2727\n",
      "100      4082\n",
      "70      10245\n",
      "90      14316\n",
      "80      34847\n",
      "Name: ap_lo, Length: 157, dtype: int64\n",
      "__________________________________________________\n",
      "\n",
      "Отсортированные записи\n",
      "__________________________________________________\n",
      "id\n",
      "85816      -70\n",
      "57646        0\n",
      "60565        0\n",
      "81298        0\n",
      "91073        0\n",
      "         ...  \n",
      "62058     9800\n",
      "97907    10000\n",
      "34098    10000\n",
      "3352     10000\n",
      "61901    11000\n",
      "Name: ap_lo, Length: 70000, dtype: int64\n",
      "__________________________________________________\n",
      "\n",
      "Первичный датасет\n",
      "\n",
      "Мода датасета: 80\n",
      "Медиана датасета: 80.0\n",
      "Среднее значение датасета: 96.63041428571428\n",
      "Максимальное значение датасета: 11000\n",
      "Минимальное значение датасета: -70\n",
      "__________________________________________________\n",
      "\n",
      "Количество записей в датасете: 70000\n",
      "Количество записей в датасете < 40: 59\n",
      "Количество записей в датасете > 200: 953\n",
      "__________________________________________________\n",
      "\n",
      "Обработанный датасет\n",
      "\n",
      "Мода датасета: 80\n",
      "Медиана датасета: 80.0\n",
      "Среднее значение датасета: 81.38453064301038\n",
      "Максимальное значение датасета: 190\n",
      "Минимальное значение датасета: 40\n",
      "__________________________________________________\n"
     ]
    },
    {
     "data": {
      "image/png": "[encoded data removed]",
      "text/plain": [
       "<Figure size 432x288 with 1 Axes>"
      ]
     },
     "metadata": {},
     "output_type": "display_data"
    },
    {
     "data": {
      "image/png": "[encoded data removed]",
      "text/plain": [
       "<Figure size 432x288 with 1 Axes>"
      ]
     },
     "metadata": {},
     "output_type": "display_data"
    },
    {
     "data": {
      "image/png": "[encoded data removed]",
      "text/plain": [
       "<Figure size 432x288 with 1 Axes>"
      ]
     },
     "metadata": {},
     "output_type": "display_data"
    },
    {
     "data": {
      "image/png": "[encoded data removed]",
      "text/plain": [
       "<Figure size 432x288 with 1 Axes>"
      ]
     },
     "metadata": {},
     "output_type": "display_data"
    }
   ],
   "source": [
    "feature_name = 'ap_lo'\n",
    "feature_value_max = 200\n",
    "feature_value_min = 40\n",
    "data_type = 0\n",
    "plot_feature(feature_name, train, feature_value_max, feature_value_min, data_type)\n",
    "\n",
    "# Количество записей в датасете: 70000\n",
    "# Считаем выбросами ap_lo > 200 (953 значения) и ap_lo < 30 (53 значения)\n",
    "\n",
    "\n",
    "# Количество записей в датасете < 0: 1\n",
    "# Количество записей в датасете < 10: 30\n",
    "# Количество записей в датасете < 20: 38\n",
    "# Количество записей в датасете < 30: 53\n",
    "# Количество записей в датасете < 40: 59\n",
    "# Количество записей в датасете < 50: 80\n",
    "# Количество записей в датасете < 60: 175\n",
    "# Количество записей в датасете < 70: 3154\n",
    "# Количество записей в датасете < 80: 14116\n",
    "\n",
    "# Количество записей в датасете > 200: 953\n",
    "# Количество записей в датасете > 300: 953\n",
    "# Количество записей в датасете > 400: 953\n",
    "# Количество записей в датасете > 500: 953\n",
    "# Количество записей в датасете > 600: 952\n",
    "# Количество записей в датасете > 700: 950\n",
    "# Количество записей в датасете > 800: 939\n",
    "# Количество записей в датасете > 900: 925\n",
    "# Количество записей в датасете > 1000: 255"
   ]
  },
  {
   "cell_type": "markdown",
   "metadata": {},
   "source": [
    "__Обзор значений категориальных признаков__"
   ]
  },
  {
   "cell_type": "code",
   "execution_count": 27,
   "metadata": {},
   "outputs": [
    {
     "data": {
      "text/plain": [
       "Index(['gender', 'cholesterol', 'gluc', 'smoke', 'alco', 'active'], dtype='object')"
      ]
     },
     "execution_count": 27,
     "metadata": {},
     "output_type": "execute_result"
    }
   ],
   "source": [
    "train.select_dtypes(include='object').columns"
   ]
  },
  {
   "cell_type": "code",
   "execution_count": 28,
   "metadata": {},
   "outputs": [
    {
     "name": "stdout",
     "output_type": "stream",
     "text": [
      "gender\n",
      "\n",
      "1    45530\n",
      "2    24470\n",
      "Name: gender, dtype: int64\n",
      "****************************************************************************************************\n",
      "\n",
      "cholesterol\n",
      "\n",
      "1    52385\n",
      "2     9549\n",
      "3     8066\n",
      "Name: cholesterol, dtype: int64\n",
      "****************************************************************************************************\n",
      "\n",
      "gluc\n",
      "\n",
      "1    59479\n",
      "3     5331\n",
      "2     5190\n",
      "Name: gluc, dtype: int64\n",
      "****************************************************************************************************\n",
      "\n",
      "smoke\n",
      "\n",
      "0    63831\n",
      "1     6169\n",
      "Name: smoke, dtype: int64\n",
      "****************************************************************************************************\n",
      "\n",
      "alco\n",
      "\n",
      "0    66236\n",
      "1     3764\n",
      "Name: alco, dtype: int64\n",
      "****************************************************************************************************\n",
      "\n",
      "active\n",
      "\n",
      "1    56261\n",
      "0    13739\n",
      "Name: active, dtype: int64\n",
      "****************************************************************************************************\n",
      "\n"
     ]
    }
   ],
   "source": [
    "for cat_colname in train.select_dtypes(include='object').columns:\n",
    "    print(str(cat_colname) + '\\n\\n' + str(train[cat_colname].value_counts()) + '\\n' + '*' * 100 + '\\n')"
   ]
  },
  {
   "cell_type": "markdown",
   "metadata": {},
   "source": [
    "### 2. Обработка выбросов<a class=\"anchor\" id=\"outliers\"></a>"
   ]
  },
  {
   "cell_type": "markdown",
   "metadata": {},
   "source": [
    "1. **age** - взраст в днях\n",
    "* выбросов нет\n",
    "* **Считаем выбросами age > 24 000 (0 значения) и age < 14 000 (4 значения)**\n",
    "\n",
    "2. **height** - рост\n",
    "* **Считаем выбросами height > 190 (64 значения) и height < 140 (152 значения)**\n",
    "\n",
    "3. **weight** - вес\n",
    "* **Считаем выбросами weight > 30 (7 значения) и weight < 200 (0 значения)**\n",
    "\n",
    "4. **ap_hi** - артериальное давление (верхнее)\n",
    "* **Считаем выбросами ap_hi > 200 (100 значения) и ap_hi < 60 (188 значения)**\n",
    "\n",
    "5. **ap_hi** - артериальное давление (нижнее)\n",
    "* **Считаем выбросами ap_lo > 200 (953 значения) и ap_lo < 30 (53 значения)**\n"
   ]
  },
  {
   "cell_type": "markdown",
   "metadata": {},
   "source": [
    "### 3. Обработка пропусков<a class=\"anchor\" id=\"gaps\"></a>"
   ]
  },
  {
   "cell_type": "code",
   "execution_count": 29,
   "metadata": {},
   "outputs": [
    {
     "data": {
      "text/html": [
       "<div>\n",
       "<style scoped>\n",
       "    .dataframe tbody tr th:only-of-type {\n",
       "        vertical-align: middle;\n",
       "    }\n",
       "\n",
       "    .dataframe tbody tr th {\n",
       "        vertical-align: top;\n",
       "    }\n",
       "\n",
       "    .dataframe thead th {\n",
       "        text-align: right;\n",
       "    }\n",
       "</style>\n",
       "<table border=\"1\" class=\"dataframe\">\n",
       "  <thead>\n",
       "    <tr style=\"text-align: right;\">\n",
       "      <th></th>\n",
       "      <th>age</th>\n",
       "      <th>gender</th>\n",
       "      <th>height</th>\n",
       "      <th>weight</th>\n",
       "      <th>ap_hi</th>\n",
       "      <th>ap_lo</th>\n",
       "      <th>cholesterol</th>\n",
       "      <th>gluc</th>\n",
       "      <th>smoke</th>\n",
       "      <th>alco</th>\n",
       "      <th>active</th>\n",
       "      <th>cardio</th>\n",
       "    </tr>\n",
       "    <tr>\n",
       "      <th>id</th>\n",
       "      <th></th>\n",
       "      <th></th>\n",
       "      <th></th>\n",
       "      <th></th>\n",
       "      <th></th>\n",
       "      <th></th>\n",
       "      <th></th>\n",
       "      <th></th>\n",
       "      <th></th>\n",
       "      <th></th>\n",
       "      <th></th>\n",
       "      <th></th>\n",
       "    </tr>\n",
       "  </thead>\n",
       "  <tbody>\n",
       "    <tr>\n",
       "      <th>0</th>\n",
       "      <td>False</td>\n",
       "      <td>False</td>\n",
       "      <td>False</td>\n",
       "      <td>False</td>\n",
       "      <td>False</td>\n",
       "      <td>False</td>\n",
       "      <td>False</td>\n",
       "      <td>False</td>\n",
       "      <td>False</td>\n",
       "      <td>False</td>\n",
       "      <td>False</td>\n",
       "      <td>False</td>\n",
       "    </tr>\n",
       "    <tr>\n",
       "      <th>1</th>\n",
       "      <td>False</td>\n",
       "      <td>False</td>\n",
       "      <td>False</td>\n",
       "      <td>False</td>\n",
       "      <td>False</td>\n",
       "      <td>False</td>\n",
       "      <td>False</td>\n",
       "      <td>False</td>\n",
       "      <td>False</td>\n",
       "      <td>False</td>\n",
       "      <td>False</td>\n",
       "      <td>False</td>\n",
       "    </tr>\n",
       "    <tr>\n",
       "      <th>2</th>\n",
       "      <td>False</td>\n",
       "      <td>False</td>\n",
       "      <td>False</td>\n",
       "      <td>False</td>\n",
       "      <td>False</td>\n",
       "      <td>False</td>\n",
       "      <td>False</td>\n",
       "      <td>False</td>\n",
       "      <td>False</td>\n",
       "      <td>False</td>\n",
       "      <td>False</td>\n",
       "      <td>False</td>\n",
       "    </tr>\n",
       "    <tr>\n",
       "      <th>3</th>\n",
       "      <td>False</td>\n",
       "      <td>False</td>\n",
       "      <td>False</td>\n",
       "      <td>False</td>\n",
       "      <td>False</td>\n",
       "      <td>False</td>\n",
       "      <td>False</td>\n",
       "      <td>False</td>\n",
       "      <td>False</td>\n",
       "      <td>False</td>\n",
       "      <td>False</td>\n",
       "      <td>False</td>\n",
       "    </tr>\n",
       "    <tr>\n",
       "      <th>4</th>\n",
       "      <td>False</td>\n",
       "      <td>False</td>\n",
       "      <td>False</td>\n",
       "      <td>False</td>\n",
       "      <td>False</td>\n",
       "      <td>False</td>\n",
       "      <td>False</td>\n",
       "      <td>False</td>\n",
       "      <td>False</td>\n",
       "      <td>False</td>\n",
       "      <td>False</td>\n",
       "      <td>False</td>\n",
       "    </tr>\n",
       "    <tr>\n",
       "      <th>...</th>\n",
       "      <td>...</td>\n",
       "      <td>...</td>\n",
       "      <td>...</td>\n",
       "      <td>...</td>\n",
       "      <td>...</td>\n",
       "      <td>...</td>\n",
       "      <td>...</td>\n",
       "      <td>...</td>\n",
       "      <td>...</td>\n",
       "      <td>...</td>\n",
       "      <td>...</td>\n",
       "      <td>...</td>\n",
       "    </tr>\n",
       "    <tr>\n",
       "      <th>99993</th>\n",
       "      <td>False</td>\n",
       "      <td>False</td>\n",
       "      <td>False</td>\n",
       "      <td>False</td>\n",
       "      <td>False</td>\n",
       "      <td>False</td>\n",
       "      <td>False</td>\n",
       "      <td>False</td>\n",
       "      <td>False</td>\n",
       "      <td>False</td>\n",
       "      <td>False</td>\n",
       "      <td>False</td>\n",
       "    </tr>\n",
       "    <tr>\n",
       "      <th>99995</th>\n",
       "      <td>False</td>\n",
       "      <td>False</td>\n",
       "      <td>False</td>\n",
       "      <td>False</td>\n",
       "      <td>False</td>\n",
       "      <td>False</td>\n",
       "      <td>False</td>\n",
       "      <td>False</td>\n",
       "      <td>False</td>\n",
       "      <td>False</td>\n",
       "      <td>False</td>\n",
       "      <td>False</td>\n",
       "    </tr>\n",
       "    <tr>\n",
       "      <th>99996</th>\n",
       "      <td>False</td>\n",
       "      <td>False</td>\n",
       "      <td>False</td>\n",
       "      <td>False</td>\n",
       "      <td>False</td>\n",
       "      <td>False</td>\n",
       "      <td>False</td>\n",
       "      <td>False</td>\n",
       "      <td>False</td>\n",
       "      <td>False</td>\n",
       "      <td>False</td>\n",
       "      <td>False</td>\n",
       "    </tr>\n",
       "    <tr>\n",
       "      <th>99998</th>\n",
       "      <td>False</td>\n",
       "      <td>False</td>\n",
       "      <td>False</td>\n",
       "      <td>False</td>\n",
       "      <td>False</td>\n",
       "      <td>False</td>\n",
       "      <td>False</td>\n",
       "      <td>False</td>\n",
       "      <td>False</td>\n",
       "      <td>False</td>\n",
       "      <td>False</td>\n",
       "      <td>False</td>\n",
       "    </tr>\n",
       "    <tr>\n",
       "      <th>99999</th>\n",
       "      <td>False</td>\n",
       "      <td>False</td>\n",
       "      <td>False</td>\n",
       "      <td>False</td>\n",
       "      <td>False</td>\n",
       "      <td>False</td>\n",
       "      <td>False</td>\n",
       "      <td>False</td>\n",
       "      <td>False</td>\n",
       "      <td>False</td>\n",
       "      <td>False</td>\n",
       "      <td>False</td>\n",
       "    </tr>\n",
       "  </tbody>\n",
       "</table>\n",
       "<p>70000 rows × 12 columns</p>\n",
       "</div>"
      ],
      "text/plain": [
       "         age  gender  height  weight  ap_hi  ap_lo  cholesterol   gluc  smoke  \\\n",
       "id                                                                              \n",
       "0      False   False   False   False  False  False        False  False  False   \n",
       "1      False   False   False   False  False  False        False  False  False   \n",
       "2      False   False   False   False  False  False        False  False  False   \n",
       "3      False   False   False   False  False  False        False  False  False   \n",
       "4      False   False   False   False  False  False        False  False  False   \n",
       "...      ...     ...     ...     ...    ...    ...          ...    ...    ...   \n",
       "99993  False   False   False   False  False  False        False  False  False   \n",
       "99995  False   False   False   False  False  False        False  False  False   \n",
       "99996  False   False   False   False  False  False        False  False  False   \n",
       "99998  False   False   False   False  False  False        False  False  False   \n",
       "99999  False   False   False   False  False  False        False  False  False   \n",
       "\n",
       "        alco  active  cardio  \n",
       "id                            \n",
       "0      False   False   False  \n",
       "1      False   False   False  \n",
       "2      False   False   False  \n",
       "3      False   False   False  \n",
       "4      False   False   False  \n",
       "...      ...     ...     ...  \n",
       "99993  False   False   False  \n",
       "99995  False   False   False  \n",
       "99996  False   False   False  \n",
       "99998  False   False   False  \n",
       "99999  False   False   False  \n",
       "\n",
       "[70000 rows x 12 columns]"
      ]
     },
     "execution_count": 29,
     "metadata": {},
     "output_type": "execute_result"
    }
   ],
   "source": [
    "train.isnull()\n",
    "# train.notnull()"
   ]
  },
  {
   "cell_type": "code",
   "execution_count": 30,
   "metadata": {},
   "outputs": [],
   "source": [
    "# len(train) - train.count()"
   ]
  },
  {
   "cell_type": "code",
   "execution_count": 31,
   "metadata": {},
   "outputs": [
    {
     "data": {
      "text/plain": [
       "age            0\n",
       "gender         0\n",
       "height         0\n",
       "weight         0\n",
       "ap_hi          0\n",
       "ap_lo          0\n",
       "cholesterol    0\n",
       "gluc           0\n",
       "smoke          0\n",
       "alco           0\n",
       "active         0\n",
       "cardio         0\n",
       "dtype: int64"
      ]
     },
     "execution_count": 31,
     "metadata": {},
     "output_type": "execute_result"
    }
   ],
   "source": [
    "train.isna().sum()  # просматриваем пропуски"
   ]
  },
  {
   "cell_type": "markdown",
   "metadata": {},
   "source": [
    "__Пропусков нет__"
   ]
  },
  {
   "cell_type": "code",
   "execution_count": 32,
   "metadata": {},
   "outputs": [
    {
     "name": "stdout",
     "output_type": "stream",
     "text": [
      "<class 'pandas.core.frame.DataFrame'>\n",
      "Int64Index: 70000 entries, 0 to 99999\n",
      "Data columns (total 12 columns):\n",
      " #   Column       Non-Null Count  Dtype  \n",
      "---  ------       --------------  -----  \n",
      " 0   age          70000 non-null  int64  \n",
      " 1   gender       70000 non-null  object \n",
      " 2   height       70000 non-null  int64  \n",
      " 3   weight       70000 non-null  float64\n",
      " 4   ap_hi        70000 non-null  int64  \n",
      " 5   ap_lo        70000 non-null  int64  \n",
      " 6   cholesterol  70000 non-null  object \n",
      " 7   gluc         70000 non-null  object \n",
      " 8   smoke        70000 non-null  object \n",
      " 9   alco         70000 non-null  object \n",
      " 10  active       70000 non-null  object \n",
      " 11  cardio       70000 non-null  int64  \n",
      "dtypes: float64(1), int64(5), object(6)\n",
      "memory usage: 6.9+ MB\n"
     ]
    }
   ],
   "source": [
    "train.info()  # Рассмотрим типы признаков"
   ]
  },
  {
   "cell_type": "markdown",
   "metadata": {},
   "source": [
    "### Класс с подготовкой данных"
   ]
  },
  {
   "cell_type": "code",
   "execution_count": 33,
   "metadata": {},
   "outputs": [],
   "source": [
    "class DataPipeLine:\n",
    "    \"\"\"Подготовка исходных данных\"\"\"\n",
    "    \n",
    "    def __init__(self):\n",
    "        \"\"\"Параметры класса:\n",
    "           Константы для обработки выбрасов\"\"\"\n",
    "        \n",
    "        self.medians = None\n",
    "        self.modes = None\n",
    "       \n",
    "        self.age_min = 14000\n",
    "        self.age_max = 24000\n",
    "       \n",
    "        self.height_min = 100\n",
    "        self.height_max = 220\n",
    "\n",
    "        self.weight_min = 50\n",
    "        self.weight_max = 200\n",
    "    \n",
    "        self.ap_hi_min = -100\n",
    "        self.ap_hi_max = 200\n",
    "        \n",
    "        self.ap_lo_min = 0\n",
    "        self.ap_lo_max = 200\n",
    "        \n",
    "\n",
    "    def fit(self, df):\n",
    "        \"\"\"Сохранение статистик\"\"\"\n",
    "        \n",
    "        # Расчёт медиан\n",
    "        # self.medians = df_train[['Annual Income', 'Credit Score']].median()\n",
    "        # df = df_train.loc[df_train['Current Loan Amount'] < self.CurrentLoanAmount_max, ['Current Loan Amount']]\n",
    "        # self.modes = df[['Current Loan Amount']].median()\n",
    "\n",
    "    def transform(self, df):\n",
    "        \"\"\"Трансформация данных\"\"\"\n",
    "        \n",
    "        # 2. Выбросы (outliers)        \n",
    "\n",
    "        # age - возраст в днях\n",
    "        # Считаем выбросами age > 24 000 (0 значения) и age < 14 000 (4 значения)\n",
    "        df.loc[df['age'] < self.age_min, 'age'] = self.age_min\n",
    "        df.loc[df['age'] >= self.age_max, 'age'] = self.age_max\n",
    "        \n",
    "        # height - рост\n",
    "        # Считаем выбросами height > 190 (64 значения) и height < 140 (152 значения)\n",
    "        df.loc[df['height'] < self.height_min, 'height'] = self.height_min\n",
    "        df.loc[df['height'] >= self.height_max, 'height'] = self.height_max\n",
    "        \n",
    "        # weight - вес\n",
    "        # Считаем выбросами weight > 30 (7 значения) и weight < 200 (0 значения)\n",
    "        df.loc[df['weight'] < self.weight_min, 'weight'] = self.weight_min\n",
    "        df.loc[df['weight'] >= self.weight_max, 'weight'] = self.weight_max\n",
    "        \n",
    "        # ap_hi - артериальное давление (верхнее)\n",
    "        # Считаем выбросами ap_hi > 200 (100 значения) и ap_hi < 60 (188 значения)\n",
    "        df.loc[df['ap_hi'] < self.ap_hi_min, 'ap_hi'] = self.ap_hi_min\n",
    "        df.loc[df['ap_hi'] >= self.ap_hi_max, 'ap_hi'] = self.ap_hi_max\n",
    "        \n",
    "        # ap_hi - артериальное давление (нижнее)\n",
    "        # Считаем выбросами ap_lo > 200 (953 значения) и ap_lo < 30 (53 значения)\n",
    "        df.loc[df['ap_lo'] < self.ap_lo_min, 'ap_lo'] = self.ap_lo_min\n",
    "        df.loc[df['ap_lo'] >= self.ap_lo_max, 'ap_lo'] = self.ap_lo_max\n",
    "        \n",
    "        # 3. Обработка категорий\n",
    "        # colname = 'Bankruptcies'\n",
    "        # df[colname] = df[colname].replace(to_replace = 'nan', value = '0.0')\n",
    "        \n",
    "        return df"
   ]
  },
  {
   "cell_type": "markdown",
   "metadata": {},
   "source": [
    "### Инициализируем класс"
   ]
  },
  {
   "cell_type": "code",
   "execution_count": 34,
   "metadata": {},
   "outputs": [],
   "source": [
    "data_pl = DataPipeLine()\n",
    "\n",
    "# тренировочные данные\n",
    "data_pl.fit(train)\n",
    "\n",
    "df = data_pl.transform(train)"
   ]
  },
  {
   "cell_type": "code",
   "execution_count": 35,
   "metadata": {},
   "outputs": [
    {
     "name": "stdout",
     "output_type": "stream",
     "text": [
      "<class 'pandas.core.frame.DataFrame'>\n",
      "Int64Index: 70000 entries, 0 to 99999\n",
      "Data columns (total 12 columns):\n",
      " #   Column       Non-Null Count  Dtype  \n",
      "---  ------       --------------  -----  \n",
      " 0   age          70000 non-null  int64  \n",
      " 1   gender       70000 non-null  object \n",
      " 2   height       70000 non-null  int64  \n",
      " 3   weight       70000 non-null  float64\n",
      " 4   ap_hi        70000 non-null  int64  \n",
      " 5   ap_lo        70000 non-null  int64  \n",
      " 6   cholesterol  70000 non-null  object \n",
      " 7   gluc         70000 non-null  object \n",
      " 8   smoke        70000 non-null  object \n",
      " 9   alco         70000 non-null  object \n",
      " 10  active       70000 non-null  object \n",
      " 11  cardio       70000 non-null  int64  \n",
      "dtypes: float64(1), int64(5), object(6)\n",
      "memory usage: 6.9+ MB\n"
     ]
    }
   ],
   "source": [
    "df.info()  # Рассмотрим типы признаков"
   ]
  },
  {
   "cell_type": "code",
   "execution_count": 36,
   "metadata": {},
   "outputs": [
    {
     "name": "stdout",
     "output_type": "stream",
     "text": [
      "age\n",
      "\n",
      "18236    32\n",
      "19741    32\n",
      "18253    31\n",
      "20442    31\n",
      "20376    31\n",
      "         ..\n",
      "19393     1\n",
      "19427     1\n",
      "23713     1\n",
      "15597     1\n",
      "14329     1\n",
      "Name: age, Length: 8073, dtype: int64\n",
      "****************************************************************************************************\n",
      "\n",
      "height\n",
      "\n",
      "165    5853\n",
      "160    5022\n",
      "170    4679\n",
      "168    4399\n",
      "164    3396\n",
      "       ... \n",
      "112       1\n",
      "111       1\n",
      "207       1\n",
      "108       1\n",
      "128       1\n",
      "Name: height, Length: 87, dtype: int64\n",
      "****************************************************************************************************\n",
      "\n",
      "ap_hi\n",
      "\n",
      "120    27699\n",
      "140     9506\n",
      "130     8961\n",
      "110     8644\n",
      "150     4450\n",
      "       ...  \n",
      "93         1\n",
      "199        1\n",
      "184        1\n",
      "24         1\n",
      "197        1\n",
      "Name: ap_hi, Length: 117, dtype: int64\n",
      "****************************************************************************************************\n",
      "\n",
      "ap_lo\n",
      "\n",
      "80     34847\n",
      "90     14316\n",
      "70     10245\n",
      "100     4082\n",
      "60      2727\n",
      "       ...  \n",
      "56         1\n",
      "114        1\n",
      "1          1\n",
      "54         1\n",
      "118        1\n",
      "Name: ap_lo, Length: 95, dtype: int64\n",
      "****************************************************************************************************\n",
      "\n",
      "cardio\n",
      "\n",
      "0    35021\n",
      "1    34979\n",
      "Name: cardio, dtype: int64\n",
      "****************************************************************************************************\n",
      "\n"
     ]
    }
   ],
   "source": [
    "for cat_colname in df.select_dtypes(include='int64').columns:\n",
    "    print(str(cat_colname) + '\\n\\n' + str(df[cat_colname].value_counts()) + '\\n' + '*' * 100 + '\\n')"
   ]
  },
  {
   "cell_type": "code",
   "execution_count": 37,
   "metadata": {},
   "outputs": [
    {
     "name": "stdout",
     "output_type": "stream",
     "text": [
      "<class 'pandas.core.frame.DataFrame'>\n",
      "Int64Index: 70000 entries, 0 to 99999\n",
      "Data columns (total 12 columns):\n",
      " #   Column       Non-Null Count  Dtype  \n",
      "---  ------       --------------  -----  \n",
      " 0   age          70000 non-null  int64  \n",
      " 1   gender       70000 non-null  object \n",
      " 2   height       70000 non-null  int64  \n",
      " 3   weight       70000 non-null  float64\n",
      " 4   ap_hi        70000 non-null  int64  \n",
      " 5   ap_lo        70000 non-null  int64  \n",
      " 6   cholesterol  70000 non-null  object \n",
      " 7   gluc         70000 non-null  object \n",
      " 8   smoke        70000 non-null  object \n",
      " 9   alco         70000 non-null  object \n",
      " 10  active       70000 non-null  object \n",
      " 11  cardio       70000 non-null  int64  \n",
      "dtypes: float64(1), int64(5), object(6)\n",
      "memory usage: 6.9+ MB\n"
     ]
    }
   ],
   "source": [
    "df.info()"
   ]
  },
  {
   "cell_type": "code",
   "execution_count": 38,
   "metadata": {},
   "outputs": [
    {
     "data": {
      "text/html": [
       "<div>\n",
       "<style scoped>\n",
       "    .dataframe tbody tr th:only-of-type {\n",
       "        vertical-align: middle;\n",
       "    }\n",
       "\n",
       "    .dataframe tbody tr th {\n",
       "        vertical-align: top;\n",
       "    }\n",
       "\n",
       "    .dataframe thead th {\n",
       "        text-align: right;\n",
       "    }\n",
       "</style>\n",
       "<table border=\"1\" class=\"dataframe\">\n",
       "  <thead>\n",
       "    <tr style=\"text-align: right;\">\n",
       "      <th></th>\n",
       "      <th>count</th>\n",
       "      <th>mean</th>\n",
       "      <th>std</th>\n",
       "      <th>min</th>\n",
       "      <th>25%</th>\n",
       "      <th>50%</th>\n",
       "      <th>75%</th>\n",
       "      <th>max</th>\n",
       "    </tr>\n",
       "  </thead>\n",
       "  <tbody>\n",
       "    <tr>\n",
       "      <th>age</th>\n",
       "      <td>70000.0</td>\n",
       "      <td>19469.044400</td>\n",
       "      <td>2466.742604</td>\n",
       "      <td>14000.0</td>\n",
       "      <td>17664.0</td>\n",
       "      <td>19703.0</td>\n",
       "      <td>21327.0</td>\n",
       "      <td>23713.0</td>\n",
       "    </tr>\n",
       "    <tr>\n",
       "      <th>height</th>\n",
       "      <td>70000.0</td>\n",
       "      <td>164.369900</td>\n",
       "      <td>8.096824</td>\n",
       "      <td>100.0</td>\n",
       "      <td>159.0</td>\n",
       "      <td>165.0</td>\n",
       "      <td>170.0</td>\n",
       "      <td>220.0</td>\n",
       "    </tr>\n",
       "    <tr>\n",
       "      <th>weight</th>\n",
       "      <td>70000.0</td>\n",
       "      <td>74.271941</td>\n",
       "      <td>14.264975</td>\n",
       "      <td>50.0</td>\n",
       "      <td>65.0</td>\n",
       "      <td>72.0</td>\n",
       "      <td>82.0</td>\n",
       "      <td>200.0</td>\n",
       "    </tr>\n",
       "    <tr>\n",
       "      <th>ap_hi</th>\n",
       "      <td>70000.0</td>\n",
       "      <td>126.709786</td>\n",
       "      <td>18.185728</td>\n",
       "      <td>-100.0</td>\n",
       "      <td>120.0</td>\n",
       "      <td>120.0</td>\n",
       "      <td>140.0</td>\n",
       "      <td>200.0</td>\n",
       "    </tr>\n",
       "    <tr>\n",
       "      <th>ap_lo</th>\n",
       "      <td>70000.0</td>\n",
       "      <td>82.939614</td>\n",
       "      <td>16.912714</td>\n",
       "      <td>0.0</td>\n",
       "      <td>80.0</td>\n",
       "      <td>80.0</td>\n",
       "      <td>90.0</td>\n",
       "      <td>200.0</td>\n",
       "    </tr>\n",
       "    <tr>\n",
       "      <th>cardio</th>\n",
       "      <td>70000.0</td>\n",
       "      <td>0.499700</td>\n",
       "      <td>0.500003</td>\n",
       "      <td>0.0</td>\n",
       "      <td>0.0</td>\n",
       "      <td>0.0</td>\n",
       "      <td>1.0</td>\n",
       "      <td>1.0</td>\n",
       "    </tr>\n",
       "  </tbody>\n",
       "</table>\n",
       "</div>"
      ],
      "text/plain": [
       "          count          mean          std      min      25%      50%  \\\n",
       "age     70000.0  19469.044400  2466.742604  14000.0  17664.0  19703.0   \n",
       "height  70000.0    164.369900     8.096824    100.0    159.0    165.0   \n",
       "weight  70000.0     74.271941    14.264975     50.0     65.0     72.0   \n",
       "ap_hi   70000.0    126.709786    18.185728   -100.0    120.0    120.0   \n",
       "ap_lo   70000.0     82.939614    16.912714      0.0     80.0     80.0   \n",
       "cardio  70000.0      0.499700     0.500003      0.0      0.0      0.0   \n",
       "\n",
       "            75%      max  \n",
       "age     21327.0  23713.0  \n",
       "height    170.0    220.0  \n",
       "weight     82.0    200.0  \n",
       "ap_hi     140.0    200.0  \n",
       "ap_lo      90.0    200.0  \n",
       "cardio      1.0      1.0  "
      ]
     },
     "execution_count": 38,
     "metadata": {},
     "output_type": "execute_result"
    }
   ],
   "source": [
    "df.describe().T  # Анализ количественныхпризнаки"
   ]
  },
  {
   "cell_type": "code",
   "execution_count": 39,
   "metadata": {},
   "outputs": [
    {
     "data": {
      "text/plain": [
       "array([[<AxesSubplot:title={'center':'age'}>,\n",
       "        <AxesSubplot:title={'center':'height'}>],\n",
       "       [<AxesSubplot:title={'center':'weight'}>,\n",
       "        <AxesSubplot:title={'center':'ap_hi'}>],\n",
       "       [<AxesSubplot:title={'center':'ap_lo'}>, <AxesSubplot:>]],\n",
       "      dtype=object)"
      ]
     },
     "execution_count": 39,
     "metadata": {},
     "output_type": "execute_result"
    },
    {
     "data": {
      "image/png": "[encoded data removed]",
      "text/plain": [
       "<Figure size 1152x1152 with 6 Axes>"
      ]
     },
     "metadata": {},
     "output_type": "display_data"
    }
   ],
   "source": [
    "colomns = ['age', 'gender', 'height', 'weight', 'ap_hi',\n",
    "               'ap_lo', 'cholesterol', 'gluc', 'smoke', 'alco', 'active']\n",
    "\n",
    "train_num_features = train[colomns].select_dtypes(include=['float32', 'float64', 'int8', 'int16', 'int32', 'int64'])\n",
    "\n",
    "train_num_features.hist(figsize=(16, 16), bins=50, grid=True)"
   ]
  },
  {
   "cell_type": "code",
   "execution_count": 40,
   "metadata": {},
   "outputs": [
    {
     "name": "stdout",
     "output_type": "stream",
     "text": [
      "<class 'pandas.core.frame.DataFrame'>\n",
      "Int64Index: 70000 entries, 0 to 99999\n",
      "Data columns (total 12 columns):\n",
      " #   Column       Non-Null Count  Dtype  \n",
      "---  ------       --------------  -----  \n",
      " 0   age          70000 non-null  int64  \n",
      " 1   gender       70000 non-null  object \n",
      " 2   height       70000 non-null  int64  \n",
      " 3   weight       70000 non-null  float64\n",
      " 4   ap_hi        70000 non-null  int64  \n",
      " 5   ap_lo        70000 non-null  int64  \n",
      " 6   cholesterol  70000 non-null  object \n",
      " 7   gluc         70000 non-null  object \n",
      " 8   smoke        70000 non-null  object \n",
      " 9   alco         70000 non-null  object \n",
      " 10  active       70000 non-null  object \n",
      " 11  cardio       70000 non-null  int64  \n",
      "dtypes: float64(1), int64(5), object(6)\n",
      "memory usage: 6.9+ MB\n"
     ]
    }
   ],
   "source": [
    "train.info()"
   ]
  },
  {
   "cell_type": "markdown",
   "metadata": {},
   "source": [
    "## 7. Подбор моделей, получение бейзлана<a class=\"anchor\" id=\"model_matching\"></a>"
   ]
  },
  {
   "cell_type": "code",
   "execution_count": 41,
   "metadata": {},
   "outputs": [],
   "source": [
    "from sklearn.preprocessing import StandardScaler, MinMaxScaler\n",
    "from sklearn.model_selection import train_test_split, ShuffleSplit, cross_val_score, learning_curve\n",
    "from sklearn.model_selection import StratifiedKFold, GridSearchCV, RandomizedSearchCV\n",
    "from sklearn.metrics import classification_report, f1_score#, precision_score, recall_score\n",
    "\n",
    "from sklearn.linear_model import LogisticRegression  # Логистическая регрессия\n",
    "from sklearn.neighbors import KNeighborsClassifier  # k ближайших соседей\n",
    "from sklearn.tree import DecisionTreeClassifier  # Дерево решений\n",
    "import xgboost as xgb \n",
    "import lightgbm as lgbm\n",
    "import catboost as catb"
   ]
  },
  {
   "cell_type": "markdown",
   "metadata": {},
   "source": [
    "Разделим наши данные на тренировочную и тестовую выборки"
   ]
  },
  {
   "cell_type": "code",
   "execution_count": 42,
   "metadata": {},
   "outputs": [],
   "source": [
    "#разделим данные на train/test\n",
    "X_train, X_test, y_train, y_test = train_test_split(df.drop('cardio', 1), \n",
    "                                                    df['cardio'], random_state=0)\n",
    "\n",
    "#разделим данные на train/test\n",
    "# X_train, X_test, y_train, y_test = train_test_split(train.drop('cardio', 1), \n",
    "#                                                     train['cardio'], random_state=0)"
   ]
  },
  {
   "cell_type": "markdown",
   "metadata": {},
   "source": [
    "К полям:\n",
    "- gender, cholesterol применим OHE-кодирование\n",
    "- age, height, weight, ap_hi, ap_lo - standardScaler\n",
    "- gluc, smoke, alco, active - оставим пока как есть"
   ]
  },
  {
   "cell_type": "code",
   "execution_count": 43,
   "metadata": {},
   "outputs": [],
   "source": [
    "from sklearn.base import BaseEstimator, TransformerMixin\n",
    "from sklearn.pipeline import Pipeline, make_pipeline\n",
    "from sklearn.metrics import precision_recall_curve, roc_curve, roc_auc_score, confusion_matrix\n",
    "\n",
    "import itertools"
   ]
  },
  {
   "cell_type": "code",
   "execution_count": 44,
   "metadata": {},
   "outputs": [],
   "source": [
    "class ColumnSelector(BaseEstimator, TransformerMixin):\n",
    "    \"\"\"\n",
    "    Transformer to select a single column from the data frame to perform additional transformations on\n",
    "    \"\"\"\n",
    "    def __init__(self, key):\n",
    "        self.key = key\n",
    "\n",
    "    def fit(self, X, y=None):\n",
    "        return self\n",
    "\n",
    "    def transform(self, X):\n",
    "        return X[self.key]\n",
    "    \n",
    "class NumberSelector(BaseEstimator, TransformerMixin):\n",
    "    \"\"\"\n",
    "    Transformer to select a single column from the data frame to perform additional transformations on\n",
    "    Use on numeric columns in the data\n",
    "    \"\"\"\n",
    "    def __init__(self, key):\n",
    "        self.key = key\n",
    "\n",
    "    def fit(self, X, y=None):\n",
    "        return self\n",
    "\n",
    "    def transform(self, X):\n",
    "        return X[[self.key]]\n",
    "    \n",
    "class OHEEncoder(BaseEstimator, TransformerMixin):\n",
    "    def __init__(self, key):\n",
    "        self.key = key\n",
    "        self.columns = []\n",
    "\n",
    "    def fit(self, X, y=None):\n",
    "        self.columns = [col for col in pd.get_dummies(X, prefix=self.key).columns]\n",
    "        return self\n",
    "\n",
    "    def transform(self, X):\n",
    "        X = pd.get_dummies(X, prefix=self.key)\n",
    "        test_columns = [col for col in X.columns]\n",
    "        for col_ in test_columns:\n",
    "            if col_ not in self.columns:\n",
    "                X[col_] = 0\n",
    "        return X[self.columns]\n",
    "\n",
    "\n",
    "from sklearn.preprocessing import StandardScaler\n",
    "\n",
    "\n",
    "continuos_cols = ['age', 'height', 'weight', 'ap_hi', 'ap_lo']\n",
    "cat_cols = ['gender', 'cholesterol']\n",
    "base_cols = ['gluc', 'smoke', 'alco', 'active']\n",
    "\n",
    "continuos_transformers = []\n",
    "cat_transformers = []\n",
    "base_transformers = []\n",
    "\n",
    "for cont_col in continuos_cols:\n",
    "    transfomer =  Pipeline([\n",
    "                ('selector', NumberSelector(key=cont_col)),\n",
    "                ('standard', StandardScaler())\n",
    "            ])\n",
    "    continuos_transformers.append((cont_col, transfomer))\n",
    "    \n",
    "for cat_col in cat_cols:\n",
    "    cat_transformer = Pipeline([\n",
    "                ('selector', ColumnSelector(key=cat_col)),\n",
    "                ('ohe', OHEEncoder(key=cat_col))\n",
    "            ])\n",
    "    cat_transformers.append((cat_col, cat_transformer))\n",
    "    \n",
    "for base_col in base_cols:\n",
    "    base_transformer = Pipeline([\n",
    "                ('selector', NumberSelector(key=base_col))\n",
    "            ])\n",
    "    base_transformers.append((base_col, base_transformer))"
   ]
  },
  {
   "cell_type": "markdown",
   "metadata": {},
   "source": [
    "Теперь объединим все наши трансформеры с помощью FeatureUnion"
   ]
  },
  {
   "cell_type": "code",
   "execution_count": 45,
   "metadata": {},
   "outputs": [
    {
     "data": {
      "text/plain": [
       "array([[-1.7343500647659122, 0.6952286975463144, 0.7506184056212063, ...,\n",
       "        '1', '0', '1'],\n",
       "       [-1.673855180301589, 0.07740558656716892, -0.30346246819696143,\n",
       "        ..., '0', '0', '1'],\n",
       "       [0.1373373002040867, 1.189487186329631, -0.16291835168787241, ...,\n",
       "        '0', '0', '0'],\n",
       "       ...,\n",
       "       [1.1779305141776457, 1.189487186329631, -0.16291835168787241, ...,\n",
       "        '0', '0', '1'],\n",
       "       [-0.47207760973516893, -1.4053698797827805, 0.7506184056212063,\n",
       "        ..., '0', '0', '1'],\n",
       "       [0.3817528736773924, 0.5716640753504854, -0.09264629343332789,\n",
       "        ..., '0', '0', '1']], dtype=object)"
      ]
     },
     "execution_count": 45,
     "metadata": {},
     "output_type": "execute_result"
    }
   ],
   "source": [
    "from sklearn.pipeline import FeatureUnion\n",
    "\n",
    "feats = FeatureUnion(continuos_transformers+cat_transformers+base_transformers)\n",
    "feature_processing = Pipeline([('feats', feats)])\n",
    "\n",
    "feature_processing.fit_transform(X_train)"
   ]
  },
  {
   "cell_type": "markdown",
   "metadata": {},
   "source": [
    "# \n",
    "## 1 Задание"
   ]
  },
  {
   "cell_type": "markdown",
   "metadata": {},
   "source": [
    "обучить несколько разных моделей на наборе данных ССЗ (train_case2.csv): логрег, бустинг, лес и т.д - на ваш выбор 2-3 варианта\n",
    "\n",
    "__2 Задание__<br>\n",
    "при обучении моделей обязательно использовать кроссвалидацию"
   ]
  },
  {
   "cell_type": "markdown",
   "metadata": {},
   "source": [
    "__2 задание__ реализуем в рамках __задания 1__"
   ]
  },
  {
   "cell_type": "markdown",
   "metadata": {},
   "source": [
    "### 1.1 Логистическая регрессия"
   ]
  },
  {
   "cell_type": "markdown",
   "metadata": {},
   "source": [
    "Добавим классификатор и запустим кросс-валидацию"
   ]
  },
  {
   "cell_type": "code",
   "execution_count": 46,
   "metadata": {},
   "outputs": [],
   "source": [
    "classifier = Pipeline([\n",
    "    ('features',feats),\n",
    "    ('classifier', LogisticRegression(random_state = 42)),\n",
    "])"
   ]
  },
  {
   "cell_type": "markdown",
   "metadata": {},
   "source": [
    "__2 Задание__<br>\n",
    "при обучении моделей обязательно использовать кроссвалидацию"
   ]
  },
  {
   "cell_type": "code",
   "execution_count": 47,
   "metadata": {},
   "outputs": [
    {
     "name": "stdout",
     "output_type": "stream",
     "text": [
      "CV score is 0.7906856219971305+-0.007739605182611138\n"
     ]
    }
   ],
   "source": [
    "#запустим кросс-валидацию\n",
    "cv_scores = cross_val_score(classifier, X_train, y_train, cv=16, scoring='roc_auc')\n",
    "cv_score = np.mean(cv_scores)\n",
    "cv_score_std = np.std(cv_scores)\n",
    "print('CV score is {}+-{}'.format(cv_score, cv_score_std))"
   ]
  },
  {
   "cell_type": "code",
   "execution_count": null,
   "metadata": {},
   "outputs": [],
   "source": []
  },
  {
   "cell_type": "code",
   "execution_count": 48,
   "metadata": {},
   "outputs": [],
   "source": [
    "#обучим пайплайн на всем тренировочном датасете\n",
    "classifier.fit(X_train, y_train)\n",
    "y_score = classifier.predict_proba(X_test)[:, 1]"
   ]
  },
  {
   "cell_type": "markdown",
   "metadata": {},
   "source": [
    "#### Рассчитаем Precision/Recall/F_score (для них - подберём оптимальный порог с помощью precision_recall_curve)"
   ]
  },
  {
   "cell_type": "code",
   "execution_count": 49,
   "metadata": {},
   "outputs": [
    {
     "name": "stdout",
     "output_type": "stream",
     "text": [
      "Best Threshold=0.383136, F-Score=0.732, Precision=0.658, Recall=0.826\n"
     ]
    }
   ],
   "source": [
    "b=1\n",
    "precision, recall, thresholds = precision_recall_curve(y_test.values, y_score)\n",
    "fscore = (1+b**2)*(precision * recall) / (b**2*precision + recall)\n",
    "# locate the index of the largest f score\n",
    "ix = np.argmax(fscore)\n",
    "print('Best Threshold=%f, F-Score=%.3f, Precision=%.3f, Recall=%.3f' % (thresholds[ix], \n",
    "                                                                        fscore[ix],\n",
    "                                                                        precision[ix],\n",
    "                                                                        recall[ix]))"
   ]
  },
  {
   "cell_type": "markdown",
   "metadata": {},
   "source": [
    "Нарисуем roc auc кривую (кстати, наверное неплохо бы ее вынести в отдельную функцию)"
   ]
  },
  {
   "cell_type": "code",
   "execution_count": 50,
   "metadata": {},
   "outputs": [
    {
     "data": {
      "image/png": "[encoded data removed]",
      "text/plain": [
       "<Figure size 720x576 with 1 Axes>"
      ]
     },
     "metadata": {},
     "output_type": "display_data"
    }
   ],
   "source": [
    "sns.set(font_scale=1.5)\n",
    "sns.set_color_codes(\"muted\")\n",
    "\n",
    "plt.figure(figsize=(10, 8))\n",
    "fpr, tpr, thresholds_ = roc_curve(y_test, y_score, pos_label=1)\n",
    "lw = 2\n",
    "plt.plot(fpr, tpr, lw=lw, label='ROC curve ')\n",
    "plt.plot([0, 1], [0, 1])\n",
    "plt.xlim([0.0, 1.0])\n",
    "plt.ylim([0.0, 1.05])\n",
    "plt.xlabel('False Positive Rate')\n",
    "plt.ylabel('True Positive Rate')\n",
    "plt.title('ROC curve')\n",
    "plt.savefig(\"ROC.png\")\n",
    "plt.show()"
   ]
  },
  {
   "cell_type": "markdown",
   "metadata": {},
   "source": [
    "#### Рассчитаем ROC AUC и log loss"
   ]
  },
  {
   "cell_type": "code",
   "execution_count": 51,
   "metadata": {},
   "outputs": [
    {
     "name": "stdout",
     "output_type": "stream",
     "text": [
      "roc auc score: 0.7886055270802638\n",
      "log loss score: 0.569373250318223\n"
     ]
    }
   ],
   "source": [
    "from sklearn.metrics import roc_auc_score, log_loss\n",
    "auc = roc_auc_score(y_true=y_test, y_score=classifier.predict_proba(X_test)[:,1])\n",
    "logloss = log_loss(y_true=y_test, y_pred=classifier.predict_proba(X_test)[:,1])\n",
    "\n",
    "#Ваш код здесь\n",
    "print(\"roc auc score: {}\".format(roc_auc_score(y_true=y_test, y_score=classifier.predict_proba(X_test)[:,1])))\n",
    "print(\"log loss score: {}\".format(log_loss(y_true=y_test, y_pred=classifier.predict_proba(X_test)[:,1])))"
   ]
  },
  {
   "cell_type": "markdown",
   "metadata": {},
   "source": [
    "Сохраним метрики для дальнейшей анализа (см. задания 3)"
   ]
  },
  {
   "cell_type": "code",
   "execution_count": 52,
   "metadata": {},
   "outputs": [
    {
     "data": {
      "text/plain": [
       "[{'Model': 'LogisticRegression',\n",
       "  'AUC&ROC': 0.7886055270802638,\n",
       "  'log loss': 0.569373250318223,\n",
       "  'F-Score': 0.7323080067446732,\n",
       "  'Precision': 0.6579744743366082,\n",
       "  'Recall': 0.8255760368663595,\n",
       "  'Best Threshold': 0.38313640417800293}]"
      ]
     },
     "execution_count": 52,
     "metadata": {},
     "output_type": "execute_result"
    }
   ],
   "source": [
    "metrics = []\n",
    "metric = {}\n",
    "metric = {'Model': 'LogisticRegression',\n",
    "          'AUC&ROC': auc,\n",
    "          'log loss':logloss,\n",
    "          'F-Score': fscore[ix],\n",
    "          'Precision': precision[ix],\n",
    "          'Recall': recall[ix],\n",
    "          'Best Threshold': thresholds[ix]\n",
    "         }\n",
    "\n",
    "metrics.append(metric)\n",
    "metrics"
   ]
  },
  {
   "cell_type": "markdown",
   "metadata": {},
   "source": [
    "### Построим матрицу ошибок"
   ]
  },
  {
   "cell_type": "code",
   "execution_count": 53,
   "metadata": {},
   "outputs": [],
   "source": [
    "def plot_confusion_matrix(cm, classes,\n",
    "                          normalize=False,\n",
    "                          title='Confusion matrix',\n",
    "                          cmap=plt.cm.Blues):\n",
    "    \"\"\"\n",
    "    This function prints and plots the confusion matrix.\n",
    "    Normalization can be applied by setting `normalize=True`.\n",
    "    \"\"\"\n",
    "    plt.imshow(cm, interpolation='nearest', cmap=cmap)\n",
    "    plt.title(title)\n",
    "    plt.colorbar()\n",
    "    tick_marks = np.arange(len(classes))\n",
    "    plt.xticks(tick_marks, classes, rotation=45)\n",
    "    plt.yticks(tick_marks, classes)\n",
    "\n",
    "    if normalize:\n",
    "        cm = cm.astype('float') / cm.sum(axis=1)[:, np.newaxis]\n",
    "        print(\"Normalized confusion matrix\")\n",
    "    else:\n",
    "        print('Confusion matrix, without normalization')\n",
    "\n",
    "    print(cm)\n",
    "\n",
    "    thresh = cm.max() / 2.\n",
    "    for i, j in itertools.product(range(cm.shape[0]), range(cm.shape[1])):\n",
    "        plt.text(j, i, cm[i, j],\n",
    "                 horizontalalignment=\"center\",\n",
    "                 color=\"white\" if cm[i, j] > thresh else \"black\")\n",
    "\n",
    "    plt.tight_layout()\n",
    "    plt.ylabel('True label')\n",
    "    plt.xlabel('Predicted label')"
   ]
  },
  {
   "cell_type": "markdown",
   "metadata": {},
   "source": [
    "Посмотрим на матрицу ошибок"
   ]
  },
  {
   "cell_type": "code",
   "execution_count": 54,
   "metadata": {},
   "outputs": [
    {
     "name": "stdout",
     "output_type": "stream",
     "text": [
      "Confusion matrix, without normalization\n",
      "[[5095 3725]\n",
      " [1515 7165]]\n"
     ]
    },
    {
     "data": {
      "image/png": "[encoded data removed]",
      "text/plain": [
       "<Figure size 720x576 with 2 Axes>"
      ]
     },
     "metadata": {},
     "output_type": "display_data"
    }
   ],
   "source": [
    "#мы уже нашли ранее \"оптимальный\" порог, когда максимизировали f_score\n",
    "font = {'size' : 15}\n",
    "\n",
    "plt.rc('font', **font)\n",
    "\n",
    "cnf_matrix = confusion_matrix(y_test, y_score>thresholds[ix])\n",
    "plt.figure(figsize=(10, 8))\n",
    "plot_confusion_matrix(cnf_matrix, classes=['cardio_0', 'cardio_1'],\n",
    "                      title='Confusion matrix')\n",
    "plt.savefig(\"conf_matrix.png\")\n",
    "plt.show()"
   ]
  },
  {
   "cell_type": "markdown",
   "metadata": {},
   "source": [
    "Посчитаем FPR, TPR"
   ]
  },
  {
   "cell_type": "code",
   "execution_count": 55,
   "metadata": {},
   "outputs": [
    {
     "name": "stdout",
     "output_type": "stream",
     "text": [
      "7165(TP) 3725(FP)\n",
      "1515(FN) 5095(TN)\n",
      "TPR = 0.8254608294930875, FPR = 0.4223356009070295(FP), TNR = 0.5776643990929705\n"
     ]
    }
   ],
   "source": [
    "TN = cnf_matrix[0][0]\n",
    "FN = cnf_matrix[1][0]\n",
    "TP = cnf_matrix[1][1]\n",
    "FP = cnf_matrix[0][1]\n",
    "print(f'{TP}(TP) {FP}(FP)\\n{FN}(FN) {TN}(TN)')\n",
    "\n",
    "TPR = TP/(TP+FN)\n",
    "FPR = FP/(FP+TN)\n",
    "TNR = TN/(FP+TN)\n",
    "#TPR, FPR, TNR\n",
    "print(f'TPR = {TPR}, FPR = {FPR}(FP), TNR = {TNR}')"
   ]
  },
  {
   "cell_type": "markdown",
   "metadata": {},
   "source": [
    "__С преобработкой данных__<br>\n",
    "7165 (TP) 3725 (FP)<br>\n",
    "1515 (FN) 5095 (TN)<br>\n",
    "\n",
    "TPR = 0.8254608294930875, FPR = 0.4223356009070295(FP), TNR = 0.5776643990929705<br>\n",
    "\n",
    "age_min = 14000<br>\n",
    "age_max = 24000<br>\n",
    "       \n",
    "height_min = 100<br>\n",
    "height_max = 220<br>\n",
    "\n",
    "weight_min = 50<br>\n",
    "weight_max = 200<br>\n",
    "    \n",
    "ap_hi_min = -100<br>\n",
    "ap_hi_max = 200<br>\n",
    "        \n",
    "ap_lo_min = 0<br>\n",
    "ap_lo_max = 200<br>\n",
    "\n",
    "__без обработки__<br>\n",
    "7269 (TP) 3959 (FP)<br>\n",
    "1441 (FN) 4851 (TN)<br>\n",
    "\n",
    "TPR = 0.837442396313364, FPR = 0.44886621315192743, TNR = 0.5511337868480726 \n"
   ]
  },
  {
   "cell_type": "markdown",
   "metadata": {},
   "source": [
    "### 1.2 Случайный лес"
   ]
  },
  {
   "cell_type": "code",
   "execution_count": 56,
   "metadata": {},
   "outputs": [],
   "source": [
    "from sklearn.ensemble import RandomForestClassifier"
   ]
  },
  {
   "cell_type": "markdown",
   "metadata": {},
   "source": [
    "Добавим классификатор и запустим кросс-валидацию"
   ]
  },
  {
   "cell_type": "code",
   "execution_count": 57,
   "metadata": {},
   "outputs": [],
   "source": [
    "classifier = Pipeline([\n",
    "    ('features',feats),\n",
    "    ('classifier', RandomForestClassifier(random_state=21,\n",
    "                                    class_weight={0:1, 1:3.6},\n",
    "                                    max_depth=100\n",
    "                                    ))\n",
    "])"
   ]
  },
  {
   "cell_type": "markdown",
   "metadata": {},
   "source": [
    "__2 Задание__<br>\n",
    "при обучении моделей обязательно использовать кроссвалидацию"
   ]
  },
  {
   "cell_type": "code",
   "execution_count": 58,
   "metadata": {},
   "outputs": [
    {
     "name": "stdout",
     "output_type": "stream",
     "text": [
      "CV score is 0.7732524699515626+-0.007953309567838112\n"
     ]
    }
   ],
   "source": [
    "#запустим кросс-валидацию\n",
    "cv_scores = cross_val_score(classifier, X_train, y_train, cv=16, scoring='roc_auc')\n",
    "cv_score = np.mean(cv_scores)\n",
    "cv_score_std = np.std(cv_scores)\n",
    "print('CV score is {}+-{}'.format(cv_score, cv_score_std))"
   ]
  },
  {
   "cell_type": "code",
   "execution_count": 59,
   "metadata": {},
   "outputs": [],
   "source": [
    "#обучим пайплайн на всем тренировочном датасете\n",
    "classifier.fit(X_train, y_train)\n",
    "y_score = classifier.predict_proba(X_test)[:, 1]"
   ]
  },
  {
   "cell_type": "markdown",
   "metadata": {},
   "source": [
    "#### Рассчитаем Precision/Recall/F_score (для них - подберём оптимальный порог с помощью precision_recall_curve)"
   ]
  },
  {
   "cell_type": "code",
   "execution_count": 60,
   "metadata": {},
   "outputs": [
    {
     "name": "stdout",
     "output_type": "stream",
     "text": [
      "Best Threshold=0.337826, F-Score=0.719, Precision=0.643, Recall=0.814\n"
     ]
    }
   ],
   "source": [
    "b=1\n",
    "precision, recall, thresholds = precision_recall_curve(y_test.values, y_score)\n",
    "fscore = (1+b**2)*(precision * recall) / (b**2*precision + recall)\n",
    "# locate the index of the largest f score\n",
    "ix = np.argmax(fscore)\n",
    "print('Best Threshold=%f, F-Score=%.3f, Precision=%.3f, Recall=%.3f' % (thresholds[ix], \n",
    "                                                                        fscore[ix],\n",
    "                                                                        precision[ix],\n",
    "                                                                        recall[ix]))"
   ]
  },
  {
   "cell_type": "markdown",
   "metadata": {},
   "source": [
    "#### Рассчитаем ROC AUC и log loss"
   ]
  },
  {
   "cell_type": "code",
   "execution_count": 61,
   "metadata": {},
   "outputs": [
    {
     "name": "stdout",
     "output_type": "stream",
     "text": [
      "roc auc score: 0.7699635372582213\n",
      "log loss score: 0.6060100614543436\n"
     ]
    }
   ],
   "source": [
    "from sklearn.metrics import roc_auc_score, log_loss\n",
    "auc = roc_auc_score(y_true=y_test, y_score=classifier.predict_proba(X_test)[:,1])\n",
    "logloss = log_loss(y_true=y_test, y_pred=classifier.predict_proba(X_test)[:,1])\n",
    "\n",
    "#Ваш код здесь\n",
    "print(\"roc auc score: {}\".format(roc_auc_score(y_true=y_test, y_score=classifier.predict_proba(X_test)[:,1])))\n",
    "print(\"log loss score: {}\".format(log_loss(y_true=y_test, y_pred=classifier.predict_proba(X_test)[:,1])))"
   ]
  },
  {
   "cell_type": "markdown",
   "metadata": {},
   "source": [
    "Сохраним метрики для дальнейшей анализа (см. задания 3)"
   ]
  },
  {
   "cell_type": "code",
   "execution_count": 62,
   "metadata": {},
   "outputs": [],
   "source": [
    "metric = {}\n",
    "metric = {'Model': 'RandomForest',  # Случайный лес\n",
    "          'AUC&ROC': auc,\n",
    "          'log loss':logloss,\n",
    "          'F-Score': fscore[ix],\n",
    "          'Precision': precision[ix],\n",
    "          'Recall': recall[ix],\n",
    "          'Best Threshold': thresholds[ix]\n",
    "         }\n",
    "\n",
    "metrics.append(metric)"
   ]
  },
  {
   "cell_type": "code",
   "execution_count": 63,
   "metadata": {},
   "outputs": [
    {
     "data": {
      "text/plain": [
       "{'Model': 'RandomForest',\n",
       " 'AUC&ROC': 0.7699635372582213,\n",
       " 'log loss': 0.6060100614543436,\n",
       " 'F-Score': 0.7186244086076208,\n",
       " 'Precision': 0.6434362758495035,\n",
       " 'Recall': 0.8137096774193548,\n",
       " 'Best Threshold': 0.3378260869565217}"
      ]
     },
     "execution_count": 63,
     "metadata": {},
     "output_type": "execute_result"
    }
   ],
   "source": [
    "metrics[1]"
   ]
  },
  {
   "cell_type": "markdown",
   "metadata": {},
   "source": [
    "### 1.3 Бустинговые алгоритмы"
   ]
  },
  {
   "cell_type": "markdown",
   "metadata": {},
   "source": [
    "*XGBoost*"
   ]
  },
  {
   "cell_type": "code",
   "execution_count": 64,
   "metadata": {},
   "outputs": [],
   "source": [
    "import xgboost as xgb "
   ]
  },
  {
   "cell_type": "code",
   "execution_count": 65,
   "metadata": {},
   "outputs": [],
   "source": [
    "classifier = Pipeline([\n",
    "    ('features',feats),\n",
    "    ('classifier', xgb.XGBClassifier(random_state=21,\n",
    "#                               n_estimators=100\n",
    "                             ))\n",
    "])"
   ]
  },
  {
   "cell_type": "markdown",
   "metadata": {},
   "source": [
    "__2 Задание__<br>\n",
    "при обучении моделей обязательно использовать кроссвалидацию"
   ]
  },
  {
   "cell_type": "code",
   "execution_count": 66,
   "metadata": {},
   "outputs": [
    {
     "name": "stdout",
     "output_type": "stream",
     "text": [
      "[15:27:21] WARNING: C:/Users/Administrator/workspace/xgboost-win64_release_1.3.0/src/learner.cc:1061: Starting in XGBoost 1.3.0, the default evaluation metric used with the objective 'binary:logistic' was changed from 'error' to 'logloss'. Explicitly set eval_metric if you'd like to restore the old behavior.\n",
      "[15:27:22] WARNING: C:/Users/Administrator/workspace/xgboost-win64_release_1.3.0/src/learner.cc:1061: Starting in XGBoost 1.3.0, the default evaluation metric used with the objective 'binary:logistic' was changed from 'error' to 'logloss'. Explicitly set eval_metric if you'd like to restore the old behavior.\n",
      "[15:27:24] WARNING: C:/Users/Administrator/workspace/xgboost-win64_release_1.3.0/src/learner.cc:1061: Starting in XGBoost 1.3.0, the default evaluation metric used with the objective 'binary:logistic' was changed from 'error' to 'logloss'. Explicitly set eval_metric if you'd like to restore the old behavior.\n",
      "[15:27:25] WARNING: C:/Users/Administrator/workspace/xgboost-win64_release_1.3.0/src/learner.cc:1061: Starting in XGBoost 1.3.0, the default evaluation metric used with the objective 'binary:logistic' was changed from 'error' to 'logloss'. Explicitly set eval_metric if you'd like to restore the old behavior.\n",
      "[15:27:27] WARNING: C:/Users/Administrator/workspace/xgboost-win64_release_1.3.0/src/learner.cc:1061: Starting in XGBoost 1.3.0, the default evaluation metric used with the objective 'binary:logistic' was changed from 'error' to 'logloss'. Explicitly set eval_metric if you'd like to restore the old behavior.\n",
      "[15:27:28] WARNING: C:/Users/Administrator/workspace/xgboost-win64_release_1.3.0/src/learner.cc:1061: Starting in XGBoost 1.3.0, the default evaluation metric used with the objective 'binary:logistic' was changed from 'error' to 'logloss'. Explicitly set eval_metric if you'd like to restore the old behavior.\n",
      "[15:27:29] WARNING: C:/Users/Administrator/workspace/xgboost-win64_release_1.3.0/src/learner.cc:1061: Starting in XGBoost 1.3.0, the default evaluation metric used with the objective 'binary:logistic' was changed from 'error' to 'logloss'. Explicitly set eval_metric if you'd like to restore the old behavior.\n",
      "[15:27:31] WARNING: C:/Users/Administrator/workspace/xgboost-win64_release_1.3.0/src/learner.cc:1061: Starting in XGBoost 1.3.0, the default evaluation metric used with the objective 'binary:logistic' was changed from 'error' to 'logloss'. Explicitly set eval_metric if you'd like to restore the old behavior.\n",
      "[15:27:32] WARNING: C:/Users/Administrator/workspace/xgboost-win64_release_1.3.0/src/learner.cc:1061: Starting in XGBoost 1.3.0, the default evaluation metric used with the objective 'binary:logistic' was changed from 'error' to 'logloss'. Explicitly set eval_metric if you'd like to restore the old behavior.\n",
      "[15:27:34] WARNING: C:/Users/Administrator/workspace/xgboost-win64_release_1.3.0/src/learner.cc:1061: Starting in XGBoost 1.3.0, the default evaluation metric used with the objective 'binary:logistic' was changed from 'error' to 'logloss'. Explicitly set eval_metric if you'd like to restore the old behavior.\n",
      "[15:27:35] WARNING: C:/Users/Administrator/workspace/xgboost-win64_release_1.3.0/src/learner.cc:1061: Starting in XGBoost 1.3.0, the default evaluation metric used with the objective 'binary:logistic' was changed from 'error' to 'logloss'. Explicitly set eval_metric if you'd like to restore the old behavior.\n",
      "[15:27:37] WARNING: C:/Users/Administrator/workspace/xgboost-win64_release_1.3.0/src/learner.cc:1061: Starting in XGBoost 1.3.0, the default evaluation metric used with the objective 'binary:logistic' was changed from 'error' to 'logloss'. Explicitly set eval_metric if you'd like to restore the old behavior.\n",
      "[15:27:38] WARNING: C:/Users/Administrator/workspace/xgboost-win64_release_1.3.0/src/learner.cc:1061: Starting in XGBoost 1.3.0, the default evaluation metric used with the objective 'binary:logistic' was changed from 'error' to 'logloss'. Explicitly set eval_metric if you'd like to restore the old behavior.\n",
      "[15:27:40] WARNING: C:/Users/Administrator/workspace/xgboost-win64_release_1.3.0/src/learner.cc:1061: Starting in XGBoost 1.3.0, the default evaluation metric used with the objective 'binary:logistic' was changed from 'error' to 'logloss'. Explicitly set eval_metric if you'd like to restore the old behavior.\n",
      "[15:27:41] WARNING: C:/Users/Administrator/workspace/xgboost-win64_release_1.3.0/src/learner.cc:1061: Starting in XGBoost 1.3.0, the default evaluation metric used with the objective 'binary:logistic' was changed from 'error' to 'logloss'. Explicitly set eval_metric if you'd like to restore the old behavior.\n",
      "[15:27:43] WARNING: C:/Users/Administrator/workspace/xgboost-win64_release_1.3.0/src/learner.cc:1061: Starting in XGBoost 1.3.0, the default evaluation metric used with the objective 'binary:logistic' was changed from 'error' to 'logloss'. Explicitly set eval_metric if you'd like to restore the old behavior.\n",
      "CV score is 0.7969200155516012+-0.006929491026892796\n"
     ]
    }
   ],
   "source": [
    "#запустим кросс-валидацию\n",
    "cv_scores = cross_val_score(classifier, X_train, y_train, cv=16, scoring='roc_auc')\n",
    "cv_score = np.mean(cv_scores)\n",
    "cv_score_std = np.std(cv_scores)\n",
    "print('CV score is {}+-{}'.format(cv_score, cv_score_std))"
   ]
  },
  {
   "cell_type": "code",
   "execution_count": 67,
   "metadata": {},
   "outputs": [
    {
     "name": "stdout",
     "output_type": "stream",
     "text": [
      "[15:27:44] WARNING: C:/Users/Administrator/workspace/xgboost-win64_release_1.3.0/src/learner.cc:1061: Starting in XGBoost 1.3.0, the default evaluation metric used with the objective 'binary:logistic' was changed from 'error' to 'logloss'. Explicitly set eval_metric if you'd like to restore the old behavior.\n"
     ]
    }
   ],
   "source": [
    "#обучим пайплайн на всем тренировочном датасете\n",
    "classifier.fit(X_train, y_train)\n",
    "y_score = classifier.predict_proba(X_test)[:, 1]"
   ]
  },
  {
   "cell_type": "markdown",
   "metadata": {},
   "source": [
    "#### Рассчитаем Precision/Recall/F_score"
   ]
  },
  {
   "cell_type": "code",
   "execution_count": 68,
   "metadata": {},
   "outputs": [
    {
     "name": "stdout",
     "output_type": "stream",
     "text": [
      "Best Threshold=0.348672, F-Score=0.736, Precision=0.665, Recall=0.824\n"
     ]
    }
   ],
   "source": [
    "b=1\n",
    "precision, recall, thresholds = precision_recall_curve(y_test.values, y_score)\n",
    "fscore = (1+b**2)*(precision * recall) / (b**2*precision + recall)\n",
    "# locate the index of the largest f score\n",
    "ix = np.argmax(fscore)\n",
    "print('Best Threshold=%f, F-Score=%.3f, Precision=%.3f, Recall=%.3f' % (thresholds[ix], \n",
    "                                                                        fscore[ix],\n",
    "                                                                        precision[ix],\n",
    "                                                                        recall[ix]))"
   ]
  },
  {
   "cell_type": "markdown",
   "metadata": {},
   "source": [
    "#### Рассчитаем ROC AUC и log loss"
   ]
  },
  {
   "cell_type": "code",
   "execution_count": 69,
   "metadata": {},
   "outputs": [
    {
     "name": "stdout",
     "output_type": "stream",
     "text": [
      "roc auc score: 0.7955620147444539\n",
      "log loss score: 0.5496474384521799\n"
     ]
    }
   ],
   "source": [
    "from sklearn.metrics import roc_auc_score, log_loss\n",
    "auc = roc_auc_score(y_true=y_test, y_score=classifier.predict_proba(X_test)[:,1])\n",
    "logloss = log_loss(y_true=y_test, y_pred=classifier.predict_proba(X_test)[:,1])\n",
    "\n",
    "#Ваш код здесь\n",
    "print(\"roc auc score: {}\".format(roc_auc_score(y_true=y_test, y_score=classifier.predict_proba(X_test)[:,1])))\n",
    "print(\"log loss score: {}\".format(log_loss(y_true=y_test, y_pred=classifier.predict_proba(X_test)[:,1])))"
   ]
  },
  {
   "cell_type": "markdown",
   "metadata": {},
   "source": [
    "Сохраним метрики для дальнейшей анализа (см. задания 3)"
   ]
  },
  {
   "cell_type": "code",
   "execution_count": 70,
   "metadata": {},
   "outputs": [
    {
     "data": {
      "text/plain": [
       "{'Model': 'xgboost',\n",
       " 'AUC&ROC': 0.7955620147444539,\n",
       " 'log loss': 0.5496474384521799,\n",
       " 'F-Score': 0.7363491328289846,\n",
       " 'Precision': 0.665426471956097,\n",
       " 'Recall': 0.8241935483870968,\n",
       " 'Best Threshold': 0.34867162}"
      ]
     },
     "execution_count": 70,
     "metadata": {},
     "output_type": "execute_result"
    }
   ],
   "source": [
    "metric = {}\n",
    "metric = {'Model': 'xgboost',  # Случайный лес\n",
    "          'AUC&ROC': auc,\n",
    "          'log loss':logloss,\n",
    "          'F-Score': fscore[ix],\n",
    "          'Precision': precision[ix],\n",
    "          'Recall': recall[ix],\n",
    "          'Best Threshold': thresholds[ix]\n",
    "         }\n",
    "\n",
    "metrics.append(metric)\n",
    "metrics[2]"
   ]
  },
  {
   "cell_type": "markdown",
   "metadata": {},
   "source": [
    "# \n",
    "## 3. Задача:"
   ]
  },
  {
   "cell_type": "markdown",
   "metadata": {},
   "source": [
    "вывести сравнение полученных моделей по основным метрикам классификации: pr/rec/auc/f_score (можно в виде таблицы, где строки - модели, а столбцы - метрики)"
   ]
  },
  {
   "cell_type": "code",
   "execution_count": 71,
   "metadata": {},
   "outputs": [],
   "source": [
    "import pandas as pd\n",
    "  \n",
    "df = pd.DataFrame(metrics).sort_index().sort_values('Recall', kind='mergesort')"
   ]
  },
  {
   "cell_type": "code",
   "execution_count": 72,
   "metadata": {},
   "outputs": [
    {
     "data": {
      "text/html": [
       "<div>\n",
       "<style scoped>\n",
       "    .dataframe tbody tr th:only-of-type {\n",
       "        vertical-align: middle;\n",
       "    }\n",
       "\n",
       "    .dataframe tbody tr th {\n",
       "        vertical-align: top;\n",
       "    }\n",
       "\n",
       "    .dataframe thead th {\n",
       "        text-align: right;\n",
       "    }\n",
       "</style>\n",
       "<table border=\"1\" class=\"dataframe\">\n",
       "  <thead>\n",
       "    <tr style=\"text-align: right;\">\n",
       "      <th></th>\n",
       "      <th>Model</th>\n",
       "      <th>AUC&amp;ROC</th>\n",
       "      <th>log loss</th>\n",
       "      <th>F-Score</th>\n",
       "      <th>Precision</th>\n",
       "      <th>Recall</th>\n",
       "      <th>Best Threshold</th>\n",
       "    </tr>\n",
       "  </thead>\n",
       "  <tbody>\n",
       "    <tr>\n",
       "      <th>1</th>\n",
       "      <td>RandomForest</td>\n",
       "      <td>0.769964</td>\n",
       "      <td>0.606010</td>\n",
       "      <td>0.718624</td>\n",
       "      <td>0.643436</td>\n",
       "      <td>0.813710</td>\n",
       "      <td>0.337826</td>\n",
       "    </tr>\n",
       "    <tr>\n",
       "      <th>0</th>\n",
       "      <td>LogisticRegression</td>\n",
       "      <td>0.788606</td>\n",
       "      <td>0.569373</td>\n",
       "      <td>0.732308</td>\n",
       "      <td>0.657974</td>\n",
       "      <td>0.825576</td>\n",
       "      <td>0.383136</td>\n",
       "    </tr>\n",
       "    <tr>\n",
       "      <th>2</th>\n",
       "      <td>xgboost</td>\n",
       "      <td>0.795562</td>\n",
       "      <td>0.549647</td>\n",
       "      <td>0.736349</td>\n",
       "      <td>0.665426</td>\n",
       "      <td>0.824194</td>\n",
       "      <td>0.348672</td>\n",
       "    </tr>\n",
       "  </tbody>\n",
       "</table>\n",
       "</div>"
      ],
      "text/plain": [
       "                Model   AUC&ROC  log loss   F-Score  Precision    Recall  \\\n",
       "1        RandomForest  0.769964  0.606010  0.718624   0.643436  0.813710   \n",
       "0  LogisticRegression  0.788606  0.569373  0.732308   0.657974  0.825576   \n",
       "2             xgboost  0.795562  0.549647  0.736349   0.665426  0.824194   \n",
       "\n",
       "   Best Threshold  \n",
       "1        0.337826  \n",
       "0        0.383136  \n",
       "2        0.348672  "
      ]
     },
     "execution_count": 72,
     "metadata": {},
     "output_type": "execute_result"
    }
   ],
   "source": [
    "# df.set_index('embedding_method', inplace=True)\n",
    "df.sort_values('F-Score')"
   ]
  },
  {
   "cell_type": "markdown",
   "metadata": {},
   "source": [
    "# \n",
    "## 4. Задача:"
   ]
  },
  {
   "cell_type": "markdown",
   "metadata": {},
   "source": [
    "сделать выводы о том, какая модель справилась с задачей лучше других"
   ]
  },
  {
   "cell_type": "markdown",
   "metadata": {},
   "source": [
    "Модели показали следующие результаты\n",
    "\n",
    "__RandomForest__ (Случайный лес):\n",
    "\n",
    "- AUC&ROC = 0.769964\n",
    "- logloss =\t0.606010\n",
    "- F-Score = 0.718624\n",
    "- Precision = 0.643436\n",
    "- Recall = 0.813710\n",
    "\n",
    "__LogisticRegression__ (Логистическая регрессия):\n",
    "\n",
    "- AUC&ROC = 0.788606\n",
    "- logloss =\t0.569373\n",
    "- F-Score = 0.732308\n",
    "- Precision = 0.657974\n",
    "- Recall = 0.825576\n",
    "\n",
    "__xgboost__ (XGBoost):\n",
    "\n",
    "- AUC&ROC = 0.795562\n",
    "- logloss =\t0.549647\n",
    "- F-Score = 0.736349\n",
    "- Precision = 0.665426\n",
    "- Recall = 0.824194\n",
    "\n",
    "__Вывод__\n",
    "\n",
    "Видно, что лучший результат из всех показала бустинговая модель __XGBoost__. <br>\n",
    "Она имеет максимальные занчения метрик среди всех моделей.<br>\n",
    "\n",
    "Таким образом, в нашем конкретном случае, модель __XGBoost__ лучше остальных моделей справилась с нашей задачей классификации.\n"
   ]
  },
  {
   "cell_type": "markdown",
   "metadata": {},
   "source": [
    "# \n",
    "## 5. Задача:"
   ]
  },
  {
   "cell_type": "markdown",
   "metadata": {},
   "source": [
    "(опциональный вопрос) какая метрика (precision_recall_curve или roc_auc_curve) больше подходит в случае сильного дисбаланса классов? (когда объектов одного из классов намного больше чем другого)."
   ]
  },
  {
   "cell_type": "markdown",
   "metadata": {},
   "source": [
    "__Кривая ROC__\n",
    "\n",
    "Это график зависимости числа ложных срабатываний (ось X) от истинного положительного значения (ось Y) для ряда различных возможных пороговых значений от 0,0 до 1,0. Иными словами, он отображает частоту ложных срабатываний и частоту попаданий."
   ]
  },
  {
   "cell_type": "markdown",
   "metadata": {},
   "source": [
    "__Кривая «полнота-точность»__\n",
    "\n",
    "Эта кривая строится в координатах полнота (R = recall, ось x) и точность (P = precision, ось y). Площадь под ней часто используют в качестве метрики качества алгоритма. \n",
    "\n"
   ]
  },
  {
   "cell_type": "markdown",
   "metadata": {},
   "source": [
    "Площадь под PR-кривой (AUC_PR) рекомендуют использовать как раз в задачах с дисбалансом классов, аргументируя это тем, что эта кривая точнее описывает правильность классификации объектов с большими оценками, тогда как ROC-кривая — различие распределений объектов разных классов по оценкам.\n",
    "\n",
    "Отдельно обращаем внимание, что при изменении баланса классов значение AUC_PR меняется.\n",
    "\n",
    "Кривые в машинном обучении - https://dyakonov.org/2019/08/29/кривые-в-машинном-обучении/<br>\n",
    "How to Use ROC Curves and Precision-Recall Curves for Classification in Python - https://machinelearningmastery.com/roc-curves-and-precision-recall-curves-for-classification-in-python/"
   ]
  },
  {
   "cell_type": "markdown",
   "metadata": {},
   "source": [
    "__Ответ__\n",
    "\n",
    "Кривые ROC подходят, когда наблюдения сбалансированы между каждым классом, тогда как кривые AUC подходят для несбалансированных наборов данных."
   ]
  },
  {
   "cell_type": "markdown",
   "metadata": {},
   "source": [
    "## \n",
    "## Приложение"
   ]
  },
  {
   "cell_type": "markdown",
   "metadata": {},
   "source": [
    "![ab_split](..\\lection3_materials\\pr_rec.png \"PRRecall\")"
   ]
  },
  {
   "cell_type": "markdown",
   "metadata": {},
   "source": [
    "#### F-score — среднее гармоническое precision и recall \n",
    "\n",
    "![ab_split](..\\lection3_materials\\f_score1.png \"F-score\")"
   ]
  },
  {
   "cell_type": "markdown",
   "metadata": {},
   "source": [
    "#### ROC AUC\n",
    "\n",
    "![ab_split](..\\lection3_materials\\tpr_fpr.png \"roc auc1\")"
   ]
  },
  {
   "cell_type": "code",
   "execution_count": null,
   "metadata": {},
   "outputs": [],
   "source": []
  }
 ],
 "metadata": {
  "kernelspec": {
   "display_name": "Python 3",
   "language": "python",
   "name": "python3"
  },
  "language_info": {
   "codemirror_mode": {
    "name": "ipython",
    "version": 3
   },
   "file_extension": ".py",
   "mimetype": "text/x-python",
   "name": "python",
   "nbconvert_exporter": "python",
   "pygments_lexer": "ipython3",
   "version": "3.8.5"
  }
 },
 "nbformat": 4,
 "nbformat_minor": 4
}
